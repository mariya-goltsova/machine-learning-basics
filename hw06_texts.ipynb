{
 "cells": [
  {
   "cell_type": "markdown",
   "metadata": {
    "id": "xrvOD02o3HvH"
   },
   "source": [
    "# Домашнее задание 6: классификация текстов"
   ]
  },
  {
   "cell_type": "markdown",
   "metadata": {
    "id": "sxwj_Iie3HvJ"
   },
   "source": [
    "В этом домашнем задании вам предстоит построить классификатор текстов!\n",
    "\n",
    "Данные мы будем использовать из Kaggle соревнования: https://www.kaggle.com/competitions/nlp-getting-started/data \n",
    "\n",
    "\n",
    "Оттуда надо скачать файл train.csv. На обучающую и тестовую выборки его поделим кодом ниже, менять его не надо!"
   ]
  },
  {
   "cell_type": "markdown",
   "metadata": {
    "id": "qQVgqLg93HvJ"
   },
   "source": [
    "Мы будем работать с датасетом постов из твиттера. Нам предстоит решать задачу бинарной классификации - определять содержатся ли в твитте информация о настоящей катастрофе/инциденте или нет."
   ]
  },
  {
   "cell_type": "code",
   "execution_count": 57,
   "metadata": {
    "id": "TcjEYh7R3HvK"
   },
   "outputs": [],
   "source": [
    "import nltk.corpus\n",
    "import numpy as np\n",
    "import pandas as pd\n",
    "from typing import  List\n",
    "import matplotlib.pyplot as plt\n",
    "import seaborn as sns\n",
    "from string import punctuation"
   ]
  },
  {
   "cell_type": "code",
   "execution_count": 58,
   "metadata": {
    "id": "mjwffGiB3HvK"
   },
   "outputs": [],
   "source": [
    "data = pd.read_csv('train.csv')"
   ]
  },
  {
   "cell_type": "code",
   "execution_count": 59,
   "metadata": {
    "colab": {
     "base_uri": "https://localhost:8080/",
     "height": 206
    },
    "id": "v0uUoFTN3HvK",
    "outputId": "0d37d677-a00d-449c-8f86-6f85dce2ef4a"
   },
   "outputs": [
    {
     "data": {
      "text/plain": "   id keyword location                                               text  \\\n0   1     NaN      NaN  Our Deeds are the Reason of this #earthquake M...   \n1   4     NaN      NaN             Forest fire near La Ronge Sask. Canada   \n2   5     NaN      NaN  All residents asked to 'shelter in place' are ...   \n3   6     NaN      NaN  13,000 people receive #wildfires evacuation or...   \n4   7     NaN      NaN  Just got sent this photo from Ruby #Alaska as ...   \n\n   target  \n0       1  \n1       1  \n2       1  \n3       1  \n4       1  ",
      "text/html": "<div>\n<style scoped>\n    .dataframe tbody tr th:only-of-type {\n        vertical-align: middle;\n    }\n\n    .dataframe tbody tr th {\n        vertical-align: top;\n    }\n\n    .dataframe thead th {\n        text-align: right;\n    }\n</style>\n<table border=\"1\" class=\"dataframe\">\n  <thead>\n    <tr style=\"text-align: right;\">\n      <th></th>\n      <th>id</th>\n      <th>keyword</th>\n      <th>location</th>\n      <th>text</th>\n      <th>target</th>\n    </tr>\n  </thead>\n  <tbody>\n    <tr>\n      <th>0</th>\n      <td>1</td>\n      <td>NaN</td>\n      <td>NaN</td>\n      <td>Our Deeds are the Reason of this #earthquake M...</td>\n      <td>1</td>\n    </tr>\n    <tr>\n      <th>1</th>\n      <td>4</td>\n      <td>NaN</td>\n      <td>NaN</td>\n      <td>Forest fire near La Ronge Sask. Canada</td>\n      <td>1</td>\n    </tr>\n    <tr>\n      <th>2</th>\n      <td>5</td>\n      <td>NaN</td>\n      <td>NaN</td>\n      <td>All residents asked to 'shelter in place' are ...</td>\n      <td>1</td>\n    </tr>\n    <tr>\n      <th>3</th>\n      <td>6</td>\n      <td>NaN</td>\n      <td>NaN</td>\n      <td>13,000 people receive #wildfires evacuation or...</td>\n      <td>1</td>\n    </tr>\n    <tr>\n      <th>4</th>\n      <td>7</td>\n      <td>NaN</td>\n      <td>NaN</td>\n      <td>Just got sent this photo from Ruby #Alaska as ...</td>\n      <td>1</td>\n    </tr>\n  </tbody>\n</table>\n</div>"
     },
     "execution_count": 59,
     "metadata": {},
     "output_type": "execute_result"
    }
   ],
   "source": [
    "data.head()"
   ]
  },
  {
   "cell_type": "code",
   "execution_count": 60,
   "metadata": {
    "id": "f49NdWY23HvL"
   },
   "outputs": [],
   "source": [
    "from sklearn.model_selection import train_test_split\n",
    "\n",
    "train, test = train_test_split(data, test_size=0.3, random_state=42)"
   ]
  },
  {
   "cell_type": "markdown",
   "metadata": {
    "id": "YlLemInT3HvL"
   },
   "source": [
    "## Задание 1 (0.5 балла)\n",
    "\n",
    "Выведете на экран информацию о пропусках в данных. Если пропуски присутствуют заполните их пустой строкой."
   ]
  },
  {
   "cell_type": "code",
   "source": [
    "train.isna().sum() #убедились, что пропуски есть (в признаке location и keyword)"
   ],
   "metadata": {
    "id": "96aJxmkV4105"
   },
   "execution_count": 61,
   "outputs": [
    {
     "data": {
      "text/plain": "id             0\nkeyword       44\nlocation    1760\ntext           0\ntarget         0\ndtype: int64"
     },
     "execution_count": 61,
     "metadata": {},
     "output_type": "execute_result"
    }
   ]
  },
  {
   "cell_type": "code",
   "execution_count": 62,
   "outputs": [],
   "source": [
    "train = train.fillna('') #заменили NaN на пустую строку"
   ],
   "metadata": {
    "collapsed": false
   }
  },
  {
   "cell_type": "code",
   "execution_count": 63,
   "outputs": [
    {
     "data": {
      "text/plain": "id          0\nkeyword     0\nlocation    0\ntext        0\ntarget      0\ndtype: int64"
     },
     "execution_count": 63,
     "metadata": {},
     "output_type": "execute_result"
    }
   ],
   "source": [
    "train.isna().sum() #теперь пропусков нет"
   ],
   "metadata": {
    "collapsed": false
   }
  },
  {
   "cell_type": "code",
   "execution_count": 64,
   "outputs": [
    {
     "data": {
      "text/plain": "id            0\nkeyword      17\nlocation    773\ntext          0\ntarget        0\ndtype: int64"
     },
     "execution_count": 64,
     "metadata": {},
     "output_type": "execute_result"
    }
   ],
   "source": [
    "test.isna().sum() #убедились, что пропуски есть (в признаке location и keyword)"
   ],
   "metadata": {
    "collapsed": false
   }
  },
  {
   "cell_type": "code",
   "execution_count": 65,
   "outputs": [],
   "source": [
    "test = test.fillna('') #заменили NaN на пустую строку"
   ],
   "metadata": {
    "collapsed": false
   }
  },
  {
   "cell_type": "code",
   "execution_count": 66,
   "outputs": [
    {
     "data": {
      "text/plain": "         id            keyword                location  \\\n1186   1707  bridge%20collapse                           \n4071   5789               hail  Carol Stream, Illinois   \n5461   7789             police                Houston    \n5787   8257            rioting                           \n7445  10656             wounds          Lake Highlands   \n\n                                                   text  target  \n1186  Ashes 2015: AustraliaÛªs collapse at Trent Br...       0  \n4071  GREAT MICHIGAN TECHNIQUE CAMP\\nB1G THANKS TO @...       1  \n5461  CNN: Tennessee movie theater shooting suspect ...       1  \n5787  Still rioting in a couple of hours left until ...       1  \n7445  Crack in the path where I wiped out this morni...       0  ",
      "text/html": "<div>\n<style scoped>\n    .dataframe tbody tr th:only-of-type {\n        vertical-align: middle;\n    }\n\n    .dataframe tbody tr th {\n        vertical-align: top;\n    }\n\n    .dataframe thead th {\n        text-align: right;\n    }\n</style>\n<table border=\"1\" class=\"dataframe\">\n  <thead>\n    <tr style=\"text-align: right;\">\n      <th></th>\n      <th>id</th>\n      <th>keyword</th>\n      <th>location</th>\n      <th>text</th>\n      <th>target</th>\n    </tr>\n  </thead>\n  <tbody>\n    <tr>\n      <th>1186</th>\n      <td>1707</td>\n      <td>bridge%20collapse</td>\n      <td></td>\n      <td>Ashes 2015: AustraliaÛªs collapse at Trent Br...</td>\n      <td>0</td>\n    </tr>\n    <tr>\n      <th>4071</th>\n      <td>5789</td>\n      <td>hail</td>\n      <td>Carol Stream, Illinois</td>\n      <td>GREAT MICHIGAN TECHNIQUE CAMP\\nB1G THANKS TO @...</td>\n      <td>1</td>\n    </tr>\n    <tr>\n      <th>5461</th>\n      <td>7789</td>\n      <td>police</td>\n      <td>Houston</td>\n      <td>CNN: Tennessee movie theater shooting suspect ...</td>\n      <td>1</td>\n    </tr>\n    <tr>\n      <th>5787</th>\n      <td>8257</td>\n      <td>rioting</td>\n      <td></td>\n      <td>Still rioting in a couple of hours left until ...</td>\n      <td>1</td>\n    </tr>\n    <tr>\n      <th>7445</th>\n      <td>10656</td>\n      <td>wounds</td>\n      <td>Lake Highlands</td>\n      <td>Crack in the path where I wiped out this morni...</td>\n      <td>0</td>\n    </tr>\n  </tbody>\n</table>\n</div>"
     },
     "execution_count": 66,
     "metadata": {},
     "output_type": "execute_result"
    }
   ],
   "source": [
    "train.head()"
   ],
   "metadata": {
    "collapsed": false
   }
  },
  {
   "cell_type": "markdown",
   "metadata": {
    "id": "A8CPBUal3HvL"
   },
   "source": [
    "## Задание 2 (1 балл)\n",
    "Давайте немного посмотрим на наши данные. Визуализируйте (где явно просят) или выведете информацию о следующем:\n",
    "\n",
    "1. Какое распределение классов в обучающей выборке?\n"
   ]
  },
  {
   "cell_type": "code",
   "source": [
    "train.target.value_counts()"
   ],
   "metadata": {
    "id": "WvJ_EU9o5BGm"
   },
   "execution_count": 67,
   "outputs": [
    {
     "data": {
      "text/plain": "0    3024\n1    2305\nName: target, dtype: int64"
     },
     "execution_count": 67,
     "metadata": {},
     "output_type": "execute_result"
    }
   ]
  },
  {
   "cell_type": "markdown",
   "source": [
    "Таким образом, выборка сбалансированная. Нет сильного сдвига в количестве в сторону одного из классов, однако класса \"0\" больше."
   ],
   "metadata": {
    "collapsed": false
   }
  },
  {
   "cell_type": "markdown",
   "source": [
    "2. Посмотрите на колонку \"keyword\" - возьмите 10 наиболее встречающихся значений, постройте ступенчатую диаграмму распределения классов в зависимости от значения keyword, сделайте выводы."
   ],
   "metadata": {
    "id": "f08KScbP5q2y"
   }
  },
  {
   "cell_type": "code",
   "execution_count": 68,
   "outputs": [
    {
     "data": {
      "text/plain": "                         44\ndamage                   36\nsiren                    35\nwreckage                 34\nfatalities               33\n                         ..\nrescue                   16\nepicentre                10\nradiation%20emergency     7\ninundation                7\nthreat                    6\nName: keyword, Length: 222, dtype: int64"
     },
     "execution_count": 68,
     "metadata": {},
     "output_type": "execute_result"
    }
   ],
   "source": [
    "train.keyword.value_counts() #посмотрим на колонку keyword и количество встречаемых значений:"
   ],
   "metadata": {
    "collapsed": false
   }
  },
  {
   "cell_type": "code",
   "execution_count": 69,
   "outputs": [
    {
     "name": "stdout",
     "output_type": "stream",
     "text": [
      "['damage', 'siren', 'wreckage', 'fatalities', 'deluge', 'emergency', 'harm', 'twister', 'nuclear%20reactor', 'fatality']\n"
     ]
    }
   ],
   "source": [
    "popular_keywords = train.keyword.value_counts().sort_values(ascending=False)[1:11].index.to_list() #взяли топ-10 значений без учета пустых значений (Пустые строки - наиболее встречаемые. На графике, изначально прикрепленном в условии этого задания значения пустой строки нет)\n",
    "print(popular_keywords)"
   ],
   "metadata": {
    "collapsed": false
   }
  },
  {
   "cell_type": "code",
   "execution_count": 70,
   "outputs": [
    {
     "data": {
      "text/plain": "target              0   1\nkeyword                  \ndamage             19  17\ndeluge             26   5\nemergency          19  11\nfatalities         17  16\nfatality           22   8\nharm               26   4\nnuclear%20reactor  18  12\nsiren              31   4\ntwister            27   3\nwreckage            0  34",
      "text/html": "<div>\n<style scoped>\n    .dataframe tbody tr th:only-of-type {\n        vertical-align: middle;\n    }\n\n    .dataframe tbody tr th {\n        vertical-align: top;\n    }\n\n    .dataframe thead th {\n        text-align: right;\n    }\n</style>\n<table border=\"1\" class=\"dataframe\">\n  <thead>\n    <tr style=\"text-align: right;\">\n      <th>target</th>\n      <th>0</th>\n      <th>1</th>\n    </tr>\n    <tr>\n      <th>keyword</th>\n      <th></th>\n      <th></th>\n    </tr>\n  </thead>\n  <tbody>\n    <tr>\n      <th>damage</th>\n      <td>19</td>\n      <td>17</td>\n    </tr>\n    <tr>\n      <th>deluge</th>\n      <td>26</td>\n      <td>5</td>\n    </tr>\n    <tr>\n      <th>emergency</th>\n      <td>19</td>\n      <td>11</td>\n    </tr>\n    <tr>\n      <th>fatalities</th>\n      <td>17</td>\n      <td>16</td>\n    </tr>\n    <tr>\n      <th>fatality</th>\n      <td>22</td>\n      <td>8</td>\n    </tr>\n    <tr>\n      <th>harm</th>\n      <td>26</td>\n      <td>4</td>\n    </tr>\n    <tr>\n      <th>nuclear%20reactor</th>\n      <td>18</td>\n      <td>12</td>\n    </tr>\n    <tr>\n      <th>siren</th>\n      <td>31</td>\n      <td>4</td>\n    </tr>\n    <tr>\n      <th>twister</th>\n      <td>27</td>\n      <td>3</td>\n    </tr>\n    <tr>\n      <th>wreckage</th>\n      <td>0</td>\n      <td>34</td>\n    </tr>\n  </tbody>\n</table>\n</div>"
     },
     "execution_count": 70,
     "metadata": {},
     "output_type": "execute_result"
    }
   ],
   "source": [
    "a = train[train.keyword.isin(popular_keywords)].groupby(['keyword', 'target']).size().unstack(fill_value=0)\n",
    "a"
   ],
   "metadata": {
    "collapsed": false
   }
  },
  {
   "cell_type": "code",
   "execution_count": 71,
   "outputs": [
    {
     "data": {
      "text/plain": "<Figure size 720x360 with 1 Axes>",
      "image/png": "[encoded data removed]"
     },
     "metadata": {},
     "output_type": "display_data"
    }
   ],
   "source": [
    "plt.figure(figsize=(10, 5))\n",
    "a[0].plot.bar(alpha = .5, width = 1)\n",
    "a[1].plot.bar(alpha = .5, color = 'red', width = 1)\n",
    "#график построен именно таким образом, поскольку в задании гребуется столбчатая диаграмма (не гистограмма, хотя пример очень на нее похож - нет разделений между столбцами), в примере условия графики \"наложены друг на друга\", не stacked\n",
    "plt.legend(['0', '1'], title = 'target')\n",
    "plt.xticks(rotation = 'horizontal')\n",
    "plt.ylabel('count')\n",
    "plt.show()"
   ],
   "metadata": {
    "collapsed": false
   }
  },
  {
   "cell_type": "markdown",
   "source": [
    "**Выводы**: наиболее встречаемое значение \"wreckage\" - является показателем того, что в сообщении действительно идет ресь о катастрофе (все значения целевой переменной - 1). Значения fatalities и damage имеют небольшие отклонения между target = 1 и target = 0, следовательно, опираться только на эти значения нельзя. Twister и siren чаще всего используются не в контексте катастроф. (Может, сообщение со словом twister - об игре.)\n",
    "Также по графику видно, что, на самом деле, сообщений НЕ о несчастных случаях больше (как бы уже убедились в этом ранее)."
   ],
   "metadata": {
    "id": "l4al3g9E-P09"
   }
  },
  {
   "cell_type": "markdown",
   "metadata": {
    "id": "c006nNBP3HvM"
   },
   "source": [
    "## Задание 3 (0.5 балла) \n",
    "\n",
    "В этом задании предлагается объединить все три текстовых столбца в один (просто сконкатенировать cтроки) и убрать столбец с индексом."
   ]
  },
  {
   "cell_type": "code",
   "source": [
    "train.loc[[6590, 7122, 2769]]"
   ],
   "metadata": {
    "colab": {
     "base_uri": "https://localhost:8080/",
     "height": 143
    },
    "id": "GdF9gFmL-c0r",
    "outputId": "ebe008b7-4d0e-4bc2-89f3-60a575c1b1fd"
   },
   "execution_count": 72,
   "outputs": [
    {
     "data": {
      "text/plain": "         id          keyword      location  \\\n6590   9436        survivors  Marietta, GA   \n7122  10203  violent%20storm                 \n2769   3980      devastation  Atlanta g.a.   \n\n                                                   text  target  \n6590  Stemming from my #Cubs talk- the team rosters ...       1  \n7122  If you were the NWS wth a rotating storm w/ a ...       1  \n2769  http://t.co/Gxgm1T3W0J From Devastation to Ela...       0  ",
      "text/html": "<div>\n<style scoped>\n    .dataframe tbody tr th:only-of-type {\n        vertical-align: middle;\n    }\n\n    .dataframe tbody tr th {\n        vertical-align: top;\n    }\n\n    .dataframe thead th {\n        text-align: right;\n    }\n</style>\n<table border=\"1\" class=\"dataframe\">\n  <thead>\n    <tr style=\"text-align: right;\">\n      <th></th>\n      <th>id</th>\n      <th>keyword</th>\n      <th>location</th>\n      <th>text</th>\n      <th>target</th>\n    </tr>\n  </thead>\n  <tbody>\n    <tr>\n      <th>6590</th>\n      <td>9436</td>\n      <td>survivors</td>\n      <td>Marietta, GA</td>\n      <td>Stemming from my #Cubs talk- the team rosters ...</td>\n      <td>1</td>\n    </tr>\n    <tr>\n      <th>7122</th>\n      <td>10203</td>\n      <td>violent%20storm</td>\n      <td></td>\n      <td>If you were the NWS wth a rotating storm w/ a ...</td>\n      <td>1</td>\n    </tr>\n    <tr>\n      <th>2769</th>\n      <td>3980</td>\n      <td>devastation</td>\n      <td>Atlanta g.a.</td>\n      <td>http://t.co/Gxgm1T3W0J From Devastation to Ela...</td>\n      <td>0</td>\n    </tr>\n  </tbody>\n</table>\n</div>"
     },
     "execution_count": 72,
     "metadata": {},
     "output_type": "execute_result"
    }
   ]
  },
  {
   "cell_type": "code",
   "source": [
    "# -- YOUR CODE HERE --\n",
    "train = train.drop(['id'], 1)\n",
    "train['text'] = train[['keyword', 'location', 'text']].apply(' '.join, axis = 1)\n",
    "train_new = train.drop(['keyword', 'location'], 1)\n"
   ],
   "metadata": {
    "id": "lwwJKX_l-eoh"
   },
   "execution_count": 73,
   "outputs": [
    {
     "name": "stderr",
     "output_type": "stream",
     "text": [
      "C:\\Users\\81E4~1\\AppData\\Local\\Temp/ipykernel_14072/1431447347.py:2: FutureWarning: In a future version of pandas all arguments of DataFrame.drop except for the argument 'labels' will be keyword-only\n",
      "  train = train.drop(['id'], 1)\n",
      "C:\\Users\\81E4~1\\AppData\\Local\\Temp/ipykernel_14072/1431447347.py:4: FutureWarning: In a future version of pandas all arguments of DataFrame.drop except for the argument 'labels' will be keyword-only\n",
      "  train_new = train.drop(['keyword', 'location'], 1)\n"
     ]
    }
   ]
  },
  {
   "cell_type": "code",
   "execution_count": 74,
   "outputs": [
    {
     "name": "stderr",
     "output_type": "stream",
     "text": [
      "C:\\Users\\81E4~1\\AppData\\Local\\Temp/ipykernel_14072/2827435259.py:1: FutureWarning: In a future version of pandas all arguments of DataFrame.drop except for the argument 'labels' will be keyword-only\n",
      "  test = test.drop(['id'], 1)\n",
      "C:\\Users\\81E4~1\\AppData\\Local\\Temp/ipykernel_14072/2827435259.py:3: FutureWarning: In a future version of pandas all arguments of DataFrame.drop except for the argument 'labels' will be keyword-only\n",
      "  test = test.drop(['keyword', 'location'], 1)\n"
     ]
    }
   ],
   "source": [
    "test = test.drop(['id'], 1)\n",
    "test['text'] = test[['keyword', 'location', 'text']].apply(' '.join, axis = 1)\n",
    "test = test.drop(['keyword', 'location'], 1)"
   ],
   "metadata": {
    "collapsed": false
   }
  },
  {
   "cell_type": "code",
   "execution_count": 75,
   "outputs": [
    {
     "data": {
      "text/plain": "                                                   text  target\n2644  destruction  So you have a new weapon that can...       1\n2227  deluge  The f$&amp;@ing things I do for #GISHW...       0\n5448  police UK DT @georgegalloway: RT @Galloway4May...       1\n132   aftershock  Aftershock back to school kick off...       0\n6845  trauma Montgomery County, MD in response to tr...       0",
      "text/html": "<div>\n<style scoped>\n    .dataframe tbody tr th:only-of-type {\n        vertical-align: middle;\n    }\n\n    .dataframe tbody tr th {\n        vertical-align: top;\n    }\n\n    .dataframe thead th {\n        text-align: right;\n    }\n</style>\n<table border=\"1\" class=\"dataframe\">\n  <thead>\n    <tr style=\"text-align: right;\">\n      <th></th>\n      <th>text</th>\n      <th>target</th>\n    </tr>\n  </thead>\n  <tbody>\n    <tr>\n      <th>2644</th>\n      <td>destruction  So you have a new weapon that can...</td>\n      <td>1</td>\n    </tr>\n    <tr>\n      <th>2227</th>\n      <td>deluge  The f$&amp;amp;@ing things I do for #GISHW...</td>\n      <td>0</td>\n    </tr>\n    <tr>\n      <th>5448</th>\n      <td>police UK DT @georgegalloway: RT @Galloway4May...</td>\n      <td>1</td>\n    </tr>\n    <tr>\n      <th>132</th>\n      <td>aftershock  Aftershock back to school kick off...</td>\n      <td>0</td>\n    </tr>\n    <tr>\n      <th>6845</th>\n      <td>trauma Montgomery County, MD in response to tr...</td>\n      <td>0</td>\n    </tr>\n  </tbody>\n</table>\n</div>"
     },
     "execution_count": 75,
     "metadata": {},
     "output_type": "execute_result"
    }
   ],
   "source": [
    "test.head()"
   ],
   "metadata": {
    "collapsed": false
   }
  },
  {
   "cell_type": "code",
   "source": [
    "train_new.loc[[6590, 7122, 2769]]"
   ],
   "metadata": {
    "colab": {
     "base_uri": "https://localhost:8080/",
     "height": 143
    },
    "id": "jk7P70XX_CpT",
    "outputId": "5cf01b29-8ada-46d7-f7ee-74e7aed37996"
   },
   "execution_count": 76,
   "outputs": [
    {
     "data": {
      "text/plain": "                                                   text  target\n6590  survivors Marietta, GA Stemming from my #Cubs ...       1\n7122  violent%20storm  If you were the NWS wth a rot...       1\n2769  devastation Atlanta g.a. http://t.co/Gxgm1T3W0...       0",
      "text/html": "<div>\n<style scoped>\n    .dataframe tbody tr th:only-of-type {\n        vertical-align: middle;\n    }\n\n    .dataframe tbody tr th {\n        vertical-align: top;\n    }\n\n    .dataframe thead th {\n        text-align: right;\n    }\n</style>\n<table border=\"1\" class=\"dataframe\">\n  <thead>\n    <tr style=\"text-align: right;\">\n      <th></th>\n      <th>text</th>\n      <th>target</th>\n    </tr>\n  </thead>\n  <tbody>\n    <tr>\n      <th>6590</th>\n      <td>survivors Marietta, GA Stemming from my #Cubs ...</td>\n      <td>1</td>\n    </tr>\n    <tr>\n      <th>7122</th>\n      <td>violent%20storm  If you were the NWS wth a rot...</td>\n      <td>1</td>\n    </tr>\n    <tr>\n      <th>2769</th>\n      <td>devastation Atlanta g.a. http://t.co/Gxgm1T3W0...</td>\n      <td>0</td>\n    </tr>\n  </tbody>\n</table>\n</div>"
     },
     "execution_count": 76,
     "metadata": {},
     "output_type": "execute_result"
    }
   ]
  },
  {
   "cell_type": "markdown",
   "metadata": {
    "id": "ViXdGTxP3HvM"
   },
   "source": [
    "## Задание 4 (0.5 балла)\n",
    "\n",
    "Далее мы будем пока работать только с train частью.\n",
    "\n",
    "1. Предобработайте данные (train часть) с помощью CountVectorizer.\n",
    "2. Какого размера получилась матрица?\n"
   ]
  },
  {
   "cell_type": "code",
   "source": [
    "from sklearn.feature_extraction.text import CountVectorizer\n",
    "\n",
    "# -- YOUR CODE HERE -- источник: семинар 11\n",
    "cnt_vec = CountVectorizer()\n",
    "X = cnt_vec.fit_transform(train_new['text'])"
   ],
   "metadata": {
    "id": "oB1MTqUVAbPA"
   },
   "execution_count": 77,
   "outputs": []
  },
  {
   "cell_type": "code",
   "execution_count": 78,
   "outputs": [
    {
     "data": {
      "text/plain": "dict_keys(['bridge', '20collapse', 'ashes', '2015', 'australia', 'ûªs', 'collapse', 'at', 'trent', 'among', 'worst', 'in', 'history', 'england', 'bundled', 'out', 'for', '60', 'http', 'co', 't5trhjuau0', 'hail', 'carol', 'stream', 'illinois', 'great', 'michigan', 'technique', 'camp', 'b1g', 'thanks', 'to', 'bmurph1019', 'hail_youtsey', 'termn8r13', 'goblue', 'wrestleon', 'oaskgki6qj', 'police', 'houston', 'cnn', 'tennessee', 'movie', 'theater', 'shooting', 'suspect', 'killed', 'by', 'di8elzswnr', 'rioting', 'still', 'couple', 'of', 'hours', 'left', 'until', 'have', 'be', 'up', 'class', 'wounds', 'lake', 'highlands', 'crack', 'the', 'path', 'where', 'wiped', 'this', 'morning', 'during', 'beach', 'run', 'surface', 'on', 'elbow', 'and', 'right', 'knee', 'yaqrsximph', 'airplane', '20accident', 'somewhere', 'there', 'experts', 'france', 'begin', 'examining', 'debris', 'found', 'reunion', 'island', 'french', 'air', 'accident', 'tagzbcxfj0', 'mlb', 'bloody', 'isolated', 'city', 'world', 'perth', 'came', 'kill', 'indians', 'fun', 'video', 'smirking', 'remorseless', 'pakistani', 'killer', 'shows', 'him', 'boasting', 'fpjlwoxklg', 'burning', 'johnsontionne', 'except', 'idk', 'them', 'it', 'really', 'destroy', 'he', 'or', 'she', 'her', 'ask', 'house', 'wounded', 'maracay', 'nirgua', 'venezuela', 'officer', 'dead', 'after', 'exchanging', 'shots', 'xxfk4khbiw', 'wreck', 'currently', 'writing', 'book', 'friggin', 'destiel', 'sucks', 'read', 'vine', 'description', 'https', 'mkx6ux4ozt', 'mudslide', 'malibu', 'santafe', 'winning', 'sterling', 'scott', 'red', 'carpet', 'fundraiser', 'oso', 'ma4ra7atql', 'cg579wldne', 'casualties', 'canadian', 'bread', 'libertarianluke', 'all', 'that', 'honest', 'if', 'people', 'want', 'go', 'rampage', 'let', 'use', 'their', 'own', 'hands', 'feet', 'no', 'ambulance', 'amsterdam', '7xglah10zl', 'twelve', 'feared', 'helicopter', 'crash', 'thmblaatzp', 'electrocuted', 'got', 'last', 'night', 'work', 'first', 'time', 'my', 'life', 'shit', 'was', 'weird', 'drown', 'some', 'older', 'native', 'australians', 'believe', 'oceans', 'were', 'created', 'from', 'urine', 'an', 'angry', 'god', 'who', 'tried', 'volcano', 'west', 'coast', 'cali', 'usa', 'architect', 'behind', 'kanye', 'musbik7ejf', 'attack', 'mumbai', 'india', 'shud', 'not', 'give', 'any', 'evidence', 'pak', 'they', 'will', 'share', 'with', 'terrorists', 'amp', 'next', 'oth', 'contries', 'qiopbtiuvu', 'body', '20bag', 'new', 'york', 'auth', 'louis', 'vuitton', 'brown', 'saumur', '35', 'cross', 'shoulder', 'bag', 'monogram', '23', '419', 'full', 'û_', 'hcdiwe5flc', 'zlvebeoavg', 'annihilated', 'higher', 'places', 'episode', 'trunks', 'freiza', 'is', 'cleanest', 'ever', 'showed', 'nigga', 'mercy', 'cyclone', 'hyderabad', 'roughdeal1', 'ante', 'hudhud', 'chandrababu', 'valle', 'ne', 'ga', '65', 'zhenghxn', '11', 'eyes', 'akame', 'tokyo', 'ghoul', 'damn', 'dont', 'dare', 'watch', 'suicide', '20bombing', 'principality', 'zeron', 'rayquazaerk', 'are', 'christian', 'sure', 'but', 'don', 'bombing', 'employed', 'often', 'as', 'islamic', 'groups', 'demolished', 'jackmulholland1', 'think', 'also', 'became', 'marquis', 'then', 'carlos', 'charlie', 'finally', 'dublin', 'sadly', 'inundated', 'surf', 'hi', 'waimea', 'bay', 'like', 'surfers', 'czdw8oowa2', 'collision', 'denver', 'colorado', 'motorcyclist', 'bicyclist', 'injured', 'broadway', 'zl7ojdaj3u', 'flames', 'around', 'you', 'maryland', 'mansion', 'fire', 'caused', 'damaged', 'plug', 'under', 'christmas', 'tree', 'report', 'says', 'into', 'lkjfabqzb3', 'demolish', 'nyhc', 'going', 'drake', 'over', 'ghostwriting', 'should', 'know', 'rihanna', 'lives', 'door', 'buildings', '20burning', 'blue', 'yes', '1acd4900c1424d1', 'foxnews', 'one', 'down', 'looting', 'forest', '20fires', 'nicola', 'valley', 'fires', 'dying', 'salmon', 'act', 'deny', 'climate', 'change', 'nightmares', 'here', 'rbzomwgjee', 'bcpoli', 'canpoli', 'vanpoli', 'ns1aggfnxz', 'shoes', 'asics', 'gt', 'ii', 'super', 'ronnie', 'fieg', 'kith', 'white', '3m', 'gel', 'grey', 'od250zshfy', 'sandstorm', 'airport', 'get', 'swallowed', 'minute', 'wd9odwjj9l', '20on', '20fire', 'uk', 'tweetlikeitsseptember11th2001', 'those', 'two', 'oil', '20spill', 'ny', 'california', 'spill', 'might', 'larger', 'than', 'projected', 'xwxbyhtuzc', 'wzedxefblg', 'cartoon', 'bears', 'without', 'we', 'would', 'qave', 'knowlddge', 'toilet', 'paper', 'drought', 'miami', '_gaabyx', 'purple', 'activist', 'thought', 'injuries', 'madison', 'wi', 'st', 'mo', 'buffoonmike', 'knew', 'doing', 'much', 'bite', 'us', 'influenced', 'shitty', 'staff', 'acquisitions', 'landslide', 'austin', 'texas', 'toddstarnes', 'enjoy', 'impending', 'todd', 'hehe', 'apocalypse', 'oregon', 'look', 'grizzly', 'peak', 'now', 'looks', 'beginning', 'dystopian', 'detonation', 'ignition', 'knock', 'sensor', 'senso', 'standard', 'ks100', '7o4lnfbe7k', 'fvzsgjtbew', '20responders', 'week', 'responders', 'dart', 'members', 'participating', 'four', 'day', 'intensive', 'technical', 'large', 'animal', 'tl93aod3er', 'military', 'lot', '20', 'tom', 'clancy', 'mystery', 'novels', 'paperback', 'obix79ncxn', 'tomclancy', 'drowning', 'coventry', 'why', 'low', 'self', 'image', 'take', 'quiz', 'z8r6r3nbtb', 'namffldh5h', 'gonna', 'fight', 'taylor', 'soon', 'danger', 'hailing', 'dayton', 'wish', 'could', 'victoria', 'secret', 'front', 'good', 'flood', 'spot', 'combo', '53inch', '300w', 'curved', 'cree', 'led', 'light', 'bar', '4x4', 'offroad', 'fog', 'lamp', 're', 'o097vsotxk', 'i23xy7iejj', 'severe', 'weather', 'bulletin', 'typhoon', 'ûï', 'hannaph', 'soudelor', 'tropical', 'warning', 'issued', '00', 'pm', '06', 'thhjjw51pe', 'fits', '01', 'bmw', '325ci', '5l', 'l6', 'gbvdnczjou', 'c211hise0r', 'explosion', 'london', 'united', 'kingdom', '10', 'chemical', 'park', 'western', 'germany', 'xbznu0qkvs', 'bomb', 'soul', 'food', 'sound', 'so', 'terrorism', 'truth', 'bejftygjil', 'news', 'bbc', 'islam', 'isis', 'quran', 'lies', 'jlczidz7vu', 'sinking', 'your', 'lost', 'alone', 'stone', 'carry', 'onå', 'hostage', 'chicago', 'mylittlepwnies3', 'early__may', 'anathemazhiv', 'tonysandos', 'which', 'has', 'do', 'lebanon', '80s', 'iran', 'crisis', 'libya', 'pan', 'am', 'pa', 'pulls', 'gun', 'man', 'apparent', 'provocation', 'lhw4vtbhzg', 'via', 'dailykos', 'derailment', 'minneapolis', 'mn', 'train', 'patna', 'casualty', 'far', 'indian', 'express', 'yh5vetm0yz', '17wgug8z0m', 'panic', 'dream', 'magic', 'linden', 'method', 'lite', 'version', 'anxiety', 'cure', 'program', '073izwx0lb', 'lind', 'okmlagvkjv', 'rescued', 'jammu', 'kashmir', 'delhi', '18', 'bovines', 'smugglersåênabbed', 'e7fn5g5ruu', 'fredericksburg', 'virginia', 'wwp', 'serving', 'more', '75k', 'veterans', '52k', 'oif', 'oef', 'vets', 'physical', 'many', 'invisible', 'ones', 'shhlv4dplz', 'client', 'dust', '20storm', 'learned', 'about', 'economics', 'south', 'dakota', 'storm', 'did', 'years', 'college', 'hubert', 'humphrey', 'wrecked', 'cramer', 'iger', 'words', 'disney', 'stock', 'sf5jdnvdw9', 'til_now', 'cnbc', 'tring', 'marc_holl', 'nennicook', 'aitchkaycee', 'vixstuart', 'benjbeckwith', 'pretty', 'disaster', 'gbbo', 'obliteration', 'canada', 'need', 'arcade', 'shooter', 'fix', 'cte', 'empty', 'only', 'running', 'even', 'buy', 'cod', 'title', 'weren', 'overpriced', 'steam', 'bioterrorism', 'firepower', 'lab', 'electronic', 'resource', 'automation', 'against', 'infectious', 'diseases', 'kvpbybglsr', 'graysondolan', 'me', 'explode', 'washington', 'kendall', 'jenner', 'nick', 'jonas', 'dating', 'quite', 'literally', 'pfvzvpxqgr', 'always', 'tell', 'mom', 'bring', 'hold', 'cat', 'heat', '20wave', 'fort', 'worth', 'rt', 'startelegram', 'homeless', 'vulnerable', 'north', 'wave', 'k9airfq3ql', 'jdbtlymehy', 'nuclear', '20reactor', 'solar', 'power', 'japanese', 'fukushima', 'reactor', 'energy', 'japan', 'temperature', 'fuel', 'pool', 'ys3nmwwyvc', 'alpotnb7q3', 'arvada', 'least', 'taken', 'local', 'wlmsq3mtho', 'trauma', 'nashville', 'tn', 'esteemed', 'journalist', 'recalls', 'tragic', 'effects', 'unaddressed', 'childhood', 'keithboykin', 'randallpinkston', 'pozarmy', 'gxq1auzb18', 'panicking', 'feel', 'results', 'back', 'alarmingly', 'calm', 'lightning', 'thunder', 'possible', 'pinpoint', 'foothill', 'forecast', 'ctijdpxabk', 'displaced', '40', 'ocean', 'township', 'apartment', 'newyork', 'uelz59wvom', 'massacre', 'stay', 'tuned', 'freddiedeboer', 'thucydiplease', 'rise', 'coates', 'charleston', 'walter', 'black', 'twitter', 'broadly', 'well', 'deaths', 'gallifrey', 'mathew_is_angry', 'z3ke_sk1', 'saladinahmed', 'died', 'horrible', 'trapped', 'ships', 'risk', '20buildings', 'whiterun', 'skyrim', 'destruction', 'fine', 'just', 'windstorm', 'palm', 'county', 'fl', 'reality', 'training', 'falls', 'off', 'elevated', 'tracks', 'jiomnrcygt', 'paramedic', 'ems', 'rescuers', 'fears', 'missing', 'migrants', 'med', 'search', 'survivors', 'boat', 'carrying', '6ds67xai5e', 'derailed', 'toronto', 'derailed_benchmark', 'cool', 'paths', 'wonder', 'can', 'find', 'leaks', 'jobs', 'given', 'resque', 'too', 'ladies', 'tote', 'handbag', 'women', 'faux', 'leather', 'fashion', 'purse', 'y87gi3brlv', '1zbhvdcxzs', 'raishimi33', 'sounds', 'plan', 'little', 'applaud', 'catastrophic', 'buxton', 'venice', 'nottingham', 'invading', 'iraq', 'mistake', 'diplomacy', 'needs', 'replace', 'constant', 'threat', 'war', 'israel', 'yqjpn3quux', 'related', 'threatens', 'europe', 'wk6b5z803o', 'livingston', 'mt', 'marynmck', 'beyond', 'adorable', 'hope', 'won', 'been', 'noticed', 'devastation', 'mount', 'vernon', 'coming', 'target', 'starbucks', 'closed', 'momneedscoffee', 'asap', 'iwontmakeit', 'bombed', 'screwston', 'tx', 'redskins', 'wr', 'roberts', 'belly', 'teamstream', 'gbcvvevdty', 'hellfire', 'allah', 'describes', 'piling', 'wealth', 'thinking', 'forever', 'surah', 'humaza', 'reflect', 'worldwide', 'loved', 'way', 'written', 'include', 'vantage', 'points', 'detkenlang', 'kindle', 'kcrnmjkj73', 'heartdisease', 'service', 'spending', 'half', 'budget', 'kzfigkeeva', 'tragedy', 'sandrabland', 'forget', 'gajtugaui7', 'mayhem', 'detroit', 'liked', 'youtube', 'itsjustinstuart', 'mnkaji2q1n', 'range', 'hungerarticles', 'nepal', 'rebuilding', 'livelihoods', 'quake', 'lrouwjmbix', 'arsonist', 'suspected', 'serial', 'arrested', 'calif', 'pzotpdgaki', 'hurricane', 'vineyard', 'chubbysquirrel_', 'hurricane_surge', 'very', 'true', '33333', 'battle', '9vw0uqqi1y', 'marvel', 'vs', 'dc', 'avengers', 'ireland', 'rockbottomradfm', 'challenges', 'tough', 'enough', 'rescuing', 'jaipur', 'goes', 'engine', 'tyjxrfd3st', 'catastrophe', 'wisconsin', 'had', 'regular', 'coffees', 'rockstar', 'coffee', 'today', 'tired', 'butt', 'extraordinaire', 'violent', 'nws', 'wth', 'rotating', 'huge', 'massive', 'tornado', 'what', 'j3di85ist5', 'damage', 'san', 'diego', 'swb1192', 'nda', 'ability', 'offer', 'services', 'future', 'prolly', 'anyway', 'ameenshaikh3', 'sir', 'wanted', 'make', 'point', 'sureshpprabhu', 'made', 'said', 'lying', 'sinkhole', 'swallows', 'brooklyn', 'intersection', 'ûò', '1ybe5mgzl4', '7zog3dpdu9', 'drowned', 'jacksonville', 'family', 'bands', 'together', 'memorial', 'planned', 'tilgurkv7z', 'seattle', 'wa', '405', 'southbound', 'coal', 'creek', 'pkwy', 'blocking', 'center', 'lane', 'attacked', 'im', 'feeling', '91jvycxxvi', 'destroyed', 'waco', 'felt', 'namekians', 'played', 'when', 'planet', 'acc', 'study', 'conducted', 'skims', 'morethan', '50', 'population', 'suffer', 'psychiatric', 'disorders', 'saf9mosksn', 'kashmirconflict', 'flattened', 'bow', 'nh', 'ideas', 'qfrawln4ba', 'bleeding', 'middle', 'eating', 'takis', 'rubbing', 'tears', 'quarantined', 'rome', 'top', 'link', 'reddit', 'content', 'policy', 'effect', 'subreddits', 'banned', 'cd2ng2awql', 'hailstorm', 'ig', '2wbivkzjip', 'again', 'abstorm', 'yyc', 'haildamage', 'yycweather', 'calgary', 'captureyyc', 'alberta', 'sto', 'lima', 'perì¼', 'britney', 'spears', 'vegas', 'missed', 'ûªt', 'wait', 'show', 'tonight', 'pieceofme', '4mjyw7p7cf', 'elena', 'bed', 'info', 'disco', 'best', 'song', 'gospel', 'acoustic', 'vcq2icptki', 'portland', 'something', 'tune', 'a8jz5a26wi', 'mass', '20murderer', 'theatershooting', 'defendant', 'murderer', 'chose', 'testify', 'final', 'phase', 'therefore', 'subject', 'exam', 'jury', 'questions', 'screamed', 'brooke', 'face', 'timed', 'concert', 'minutes', 'straight', 'sunk', 'gaborone', 'botswana', 'yup', 'hasn', 'ii2spvp89b', 'hazardous', 'rodpt33xfm', 'eversafe', 'emergency', 'auto', 'kit', 'unsafe', 'rush', 'hour', 'gridlock', 'jumper', 'ca', '0bvk5tub4j', 'siren', 'tampa', 'demoness', 'voice', 'angel', 'call', 'beckoning', 'void', 'nps3xpbkaq', 'aftershock', 'instagram', 'heyimginog', 'aftershock_delo', 'speaking', 'someone', 'using', 'scuf', 'xb1', 'most', 'end', 'getting', 'ps', 'irving', 'anti', 'rear', 'technology', 'vpvj5hrc1i', 'techesback', 'tech', 'pandemonium', 'proud', 'joegoodmanjr', 'watching', 'copalibertadores', 'argentinean', '8tygo0kizz', 'oklahoma', 'ok', 'several', 'causing', 'evacuations', 'downtown', 'hinton', 'mtmkimwiyy', 'research', 'collective', 'memory', '1st', 'rule', 'diverse', 'touch', 'another', 'group', 'phfoeozyps', 'jax', 'issues', 'outlook', 'hwo', 'fucoqhclad', 'chowtaxis', 'newport', 'big', 'pick', 'jackie', 'bristol', 'temple', 'messages', 'appreciated', 'his', 'majesty', 'emperor', 'salman', 'khan', 'unstoppable', 'entertainment', 'humanity', 'bajrangi', 'bhaijaan', 'creating', 'everywhere', 'crosed', '300', 'cr', 'armageddon', 'east', 'kilbride', 'european', 'fitba', 'till', 'rescue', 'lisavanderpump', 'how', 'dogs', 'survive', 'ava', 'saw', 'joy', 'detonate', 'brasil', 'sp', 'apollo', 'h1xigcen7f', 'lubbock', 'weakening', 'moves', 'se', 'towards', 'area', 'outflow', 'boundary', 'may', 'create', 'mph', 'gusts', 'pw3tzu0tay', 'dmv', 'school', 'ksu', 'hit', 'foot', 'toe', 'blew', '20up', 'florida', 'iphooey', 'ironically', 'michele', 'bachmann', 'brought', 'ron', 'paul', 'everyone', 'called', 'hoax', 'ready', 'close', 'errrr', 'nope', 'notgoingoutinthat', 'hellonwheelsamc', 'how_fans', 'talkinghell', '9giaxd6jty', 'freestyle', 'live', 'amalie', 'arena', 'sep', '19', 'ticket', 'oogoto76uz', 'longest', 'streak', 'triple', 'digit', 'since', '2013', 'dallas', 'xc96rwuszb', 'xm9stfzcpv', 'ouvindo', 'peace', 'love', 'burned', 'twice', 'same', 'flame', 'famine', 'robertmeyer9', 'example', 'prices', 'cause', 'farmers', 'broke', 'year', 'means', 'simple', 'capitalism', 'failed', 'feed', 'razed', 'latest', 'homes', 'northern', 'wildfire', 'r1cnsjuayq', 'dq1ylcrf9k', 'asking', 'dad', 'move', 'step', 'through', 'evacuate', 'britain', 'ct', 'cascada', 'dancefloor', 'official', 'ohcx3y8l4s', 'traumatised', 'ciaramckendry', 'mine', 'data', 'renewed', 'month', 'pikin', 'pomfret', 'providence', 'fallacy', 'roller', 'object', 'whether', 'robertcalifornia', 'thereisonlysex', 'suva', 'fiji', 'islands', 'general', 'audience', 'families', 'zenit', 'seen', 'hfvnyft78c', 'aba', 'woman', 'delivers', 'baby', 'photos', '8j4rdwyjwu', '9mkzpzfkl2', 'experience', 'critical', 'pundit', 'grave', 'rails', '48', '870833', '399227', '9000', 'photographs', '1800', 'british', 'mandate', 'palestine', 'trace', 'palestinians', 'x8i0mhyrmn', 'natural', '20disaster', 'sì', 'luis', 'loving', 'water', 'slipping', 'fingers', 'such', 'stlouis', 'caraccidentlawyer', 'speeding', 'causes', 'teen', 'accidents', 'k4zomof319', 's2kxvm0cba', 'car', 'tee', 'evacuated', 'gold', 'tram', 'travellers', 'powerlines', 'come', 'qsheu3yf0w', 'del', 'sol', 'danhrothschild', 'greed', 'takecare', 'duncan', 'bluejays', 'braves', 'angels', 'instead', 'dumping', 'yourselves', 'please', 'send', 'columbia', 'help', 'wide', '1943', 'poland', 'party', 'prisoners', 'nazi', 'death', 'treblinka', 'rebelled', 'seizing', 'small', 'arms', 'setting', 'collide', 'waves', 'shall', 'ripple', 'tide', 'lesleychappelle', 'bangalore', 'play', 'game', 'sqfp6ecz0i', 'its', 'googlemaps', 'mashup', 'calculates', 'terrorist', 'fresh', 'encounter', 'pulwama', 'others', 'holed', 'inside', 'oef123l5rc', 'floods', 'slip', 'sliding', 'away', 'flash', 'writers', 'tony', 'nester', 'sonoranrattler', 'writingtips', 'slttorrlhs', 'burns', 'china', 'economic', 'net', 'u2do2mc2ri', '3om3xw6cz8', 'confirmed', 'mh370', 'weapons', 'kernow', 'slightly', 'doesn', 'suh', 'wake', 'practice', 'finsup', 'i1eeuxxz3a', 'devia', 'ler', 'wattys2015', 'wattpad', 'teenfiction', 'g891m9gh4r', 'xq92x4bvg3', 'sweetiebirks', 'mirrorlady2', 'slatukip', 'name', 'countries', 've', 'invaded', 'aside', 'africa', 'worldnews', 'picking', 'bodies', 'home', 'searching', 'hundreds', '6hhmbdk9yo', 'atlanta', 'georgia', 'atl_events', 'm4tczaawpt', 'collapsed', 'mì', 'thehighfessions', 'friend', 'blasted', 'asked', 'high', 'pancakes', 'iowa', 'westeros', 'between', 'swords', 'tape', 'finishing', 's5', 'thrones', 'starks', 'greyjoys', 'crush', 'kenny', 'holland', 'da', 'vida', 'mary', 'grace', 'lord', 'thee', 'blessed', 'art', 'thou', 'fruit', 'thy', 'idqcfjycym', 'tweet', 'care', 'problem', 'ignore', 'jose', 'timestack', 'entire', 'sunsets', 'single', 'mesmerizing', 'images', 'cas8xc2dfe', 'style', 'hpd3snm6oy', 'vintage', 'coach', 'camera', '9973', '16', '99', 'bids', 'gsmddmu9pu', 'fatal', 'rajasthan', 'success', 'permanent', 'failure', 'singapore', 'mood', 'af', 'istg', 'hijack', 'tension', 'bayelsa', 'patience', 'jonathan', 'plans', 'apc', 'pdp', 'epabinczmj', '1sgzgtgfw9', 'blizzard', 'states', 'lonewolffur', 'bruh', 'dies', 'rubble', 'steve', 'buscemi', 'firefightr', 'b4', 'fame', 'workd', '12hr', 'shifts', 'diggin', 'thru', 'wtc', 'lookg', 'l9fjpnszuo', 'ìït', 'enugu', 'government', 'illegal', 'structures', 'international', 'conference', 'centre', 'state', 'app', 'mskn6d3ekh', 'derail', 'trains', 'killing', '21', '2fs649qdwx', 'seismic', 'exploration', 'takes', 'shift', 'gabon', 'somalia', 'kltit88as3', 'crashed', 'bin', 'laden', 'plane', 'avoiding', 'microlight', 'landing', 'runway', 'x9mdhocpda', 'varanasi', 'old', 'boy', 'charged', 'manslaughter', 'toddler', 'sh', 'ablaze', 'building', 'perfect', 'tracklist', 'leave', 'streets', '616', 'kentwood', 'mi', 'selmoooooo', '_edvinnn', 'imtariik', 'dzafic_haris', 'selmo', 'catching', 'witnessing', 'slaughter', 'battling', 'monsters', 'pulling', 'say', 'll', 'anything', 'never', 'tunbridge', 'wells', 'perkpearl', 'gone', 'relax', 'vigilent', 'civil', 'liberties', 'nativehuman', 'myreligion', 'wwu070tjej', 'deluged', 'businesses', 'invoices', 'yours', 'stand', 'colour', 'shape', 'likely', 'ris', 'togthe', 'pay', 'pile', 'beat', 'b2', 'motor', 'vehicle', 'fremont', 'av', 'reported', '52', '15000270364', 'sean', 'career', 'sg', 'knockout', 'nyv51681ue', 'eyewitness', 'jersey', 'ydgiuydqgb', 'mini', 'pony', 'packs', 'punch', 'salem', 'fair', 'cbs3', 'harm', 'massachusetts', 'tareksocal', 'celebrities', 'treat', 'ppl', 'il', 'green', 'line', 'resumed', 'earlier', 'near', 'garfield', 'residual', 'delays', 'blazing', 'bright', 'fireman', 'birthday', '9rfo9gy3ne', 'weddings', 'electrocute', 'otrakansascity', 'wanna', 'niall', 'thx', 'making', 'myself', 'scared', 'jinx', 'wild', 'aria_ahrary', 'thetawniest', 'control', 'part', 'troubling', 'outta', 'dirt', 'bike', 'american', 'wasteland', 'mv', 'fevwarrior', 'vault', 'these', 'zarry', 'mechanical', 'mod', 'pharaoh', 'blows', 'hand', 'o82yvxbztv', 'n5kmxuverg', 'mention', 'leads', '50225', '103', '742992', 'dramatic', 'xrgpdlswfd', 'unions', 'retard', 'justice', 'drain', 'gov', 'cops', 'vote', 'rs', 'teachers', 'dccc', 'vj44', 'lawrence', 'jbouie', 'mmfa', 'twister', 'curls', 'finished', 'cheetosarabia', 'crudes', 'feels', 'try', 'grab', 'hes', 'cheetos', 'ye', 'thing', 'weapon', 'pulse', 'rifles', 'tuning', 'uwobuuw2mk', 'riot', 'los', 'angeles', 'eac4au', 'pre', 'order', 'film', 'itunes', '15', 'yay', 'fvp3wnid4l', 'bwdhibtiks', 'qelroci7by', 'deluge', 'fiendnikki', 'awesome', 'word', 'idea', 'town', 'heard', 'theres', 'murder', 'chrissie', 'kills', 'adam', 'val', 'finn', 'die', 'emmerdale', 'obliterate', 'dudetown', 'gargron', 'forced', 'must', 'quarantine', 'nyc', 'offensive', 'founder', 'ceo', 'huffman', 'unveiled', 'specif', 'tdeukjzzii', 'crazy', 'threw', 'daughter', 'nude', 'sex', 'according', 'friend50', 'hy5pbe12tm', 'c1njpli5or', 'charlotte', 'protests', 'riots', 'see', 'crap', 'happening', '1qochspybw', 'harleychick', 'pjnt', 'runbenrun', 'chance', 'posts', 'kiildu8gpo', 'animalrescue', 'wudlkq7ncx', 'cleveland', 'ohio', 'wedneday', 'beautiful', 'taykreidler', 'loveyouuuu', 'aintsheperty', 'wemwdtfwic', 'quezon', 'philippines', 'hanna', 'thursday', 'august', 'fqv47ob8ge', 'winston', 'nc', 'furiosoxv', 'stuns', 'probably', 'aw', 'udhampur', 'terror', 'militants', 'post', 'spos', 'cwm0ulqu3e', 'hijacking', 'hot', 'funtenna', 'computers', 'hat', 'cx6aupnemu', 'prebreak', 'fatality', '434', 'usually', 'happens', 'messeymetoo', 'newcastle', 'upon', 'tyne', 'isn', 'themed', 'tops', 'timing', 'mad', 'fatalities', 'avon', 'oh', 'including', '400000', 'ûò800000', 'five', 'ten', 'million', 'txzxcnudr8', 'ee', 'phone', 'chargers', 'register', 'lhtvkcoiso', 'queensland', 'slipper', 'putting', 'boot', 'b1bx0eruep', 'tejas', 'photo', 'postapocalypticflimflam', 'prodding', 'bgy4i47j70', 'everyday', 'cristianinspire', 'ixjqg1sx6u', 'rap', 'burn', 'shame', 'ptsd_chat', 'root', 'ptsdchat', 'sharkatraz', 'bindle', 'cleft', 'autoames', 'hoped', 'join', 'ventilated', 'marines', 'while', 'trying', 'bandolier', 'dix', 'potus', 'strategicpatience', 'strategy', 'genocide', 'refugees', 'idp', 'internally', 'horror', 'etc', '8owc41fmbr', 'hype', 'cumming', 'ohbv7yvtl5', 'ymuti3nd9r', 'obliterated', 'wood', 'mets', 'cocky', 'uribe', 'ball', 'strutted', 'fuck', 'batters', 'box', 'eastlake', 'erinmariefishy', 'onu_france', '74', '75', 'rockefeller_chi', 'rockefelleruniv', 'heiress', 'evade', 'lgl', 'efforts', 'prosecute', 'blks', 'harvardu', 'kidnap', 'afp', '20murder', 'noah_anyname', 'utopian', 'impulse', 'inevitably', 'ends', 'gulags', 'dreaming', 'peacefully', 'loud', 'ass', 'scare', 'sunrise', 'manor', 'nv', 'swellyjetevo', 'disneyland', 'tacos', 'blood', 'pressure', 'roof', 'extra', 'vì_a', 'lìáctea', 't7ge0j3cay', 'las', 'ronda', 'rousey', 'floyd', 'mayweather', 'money', 'fights', 'ijzcytbffo', 'boxing', 'camilla_33', 'craykain', 'hate', 'shatter', 'delusions', 'hatchet', 'deadly', 'justifying', 'lethal', 'force', 'gunsense', '304', 'harder', 'conflict', 'glorious', 'triumph', 'thomas', 'paine', 'wbcshirl2', 'doessnt', 'rejoice', 'fall', 'calamities', 'ect', 'punished', 'crayford', 'hollywarnexx', 'apaz', 'halfrica', 'ground', 'swam', 'before', 'bottom', 'hard', 'bounced', 'suffice', 'different', 'rodarmer21', 'dolla', 'wicked', '20bomb', 'pic', '16yr', 'pkk', 'bomber', 'detonated', 'turkey', 'army', 'trench', 'released', 'lwdcrpehtn', 'carolina', 'lizhphoto', 'head', 'rather', 'talk', 'outburst', 'aggression', 'sux', 'abc', 'zbzc8905gl', 'guy', 'bought', 'tuesday', 'knocked', 'yday', 'cos', 'ran', '2day', 'text', 'log', 'kutztown', 'kayla', 'herself', 'shipping', 'logistics', 'enca', 'migrant', 'capsizes', 'onboard', 'capsized', 'dno7qxcffh', 'blight', 'sydney', 'cycling', 'fan', 'sorry', 'athletics', 'doping', 'exacerbated', 'monetary', 'reward', 'required', 'latestnews', 'richmond', 'va', 'ap', 'ûó', 'pol', 'ia1hngnhvb', 'smash', 'kanto', 'marek1330', 'zar', 'cringes', 'marek', 'uses', 'toss', 'criminals', 'lorries', 'buses', 'nigerian', 'ffkcj8pfj2', 'music212', 'wo', '5v29w19tfx', 'kyiv', 'ukraine', 'russia', 'crematoria', 'provoke', 'outrage', 'country', 'soaring', 'poverty', 'soviet', 'vymouzjzre', 'enrjh5qkve', 'anyone', 'taking', 'long', 'windows10', '3fzidhqrk3', 'stretcher', 'asheville', 'known', 'better', 'done', 'capoeira', 'bearer', 'stankyboy88', 'vont', 'lagos', 'acfi2rhz4n', 'rainstorm', 'wow', 'beauty', 'within', 'every', 'pipeliners', 'pst5bbq0av', 'innerhalb', 'der', 'lì_cke', 'gamergate', 'our', 'attempt', 'community', 'industry', 'scam', 'sight', 'sarcastic', 'drop', 'injury', 'incident', '495', 'inner', 'loop', 'exit', '31', 'md', '97', 'ave', 'silver', 'spring', 'ellensburg', 'spokane', '90', 'backups', 'eastbound', 'visibility', 'due', 'miles', 'aphyr', 'ûªve', 'following', 'cost', 'somethin', 'ûª', 'chloe_bellx', 'mortified', 'went', 'rose', 'heels', 'planted', 'fav', 'snowstorm', 'sassy', 'girl', 'hunk', 'stranded', 'smoky', 'mountain', 'aoms', 'nkkctttsd9', 'ibooklove', 'bookboost', 'tsunami', 'greenlacey', 'godslove', 'thanku', 'sister', 'cybksxhf7d', 'apocalyptic', 'earthquake', 'property', 'sat', 'vacant', 'saddlebrooke', 'vcjcykq8b8', 'freeing', 'doc', 'newidea', 'having', 'yourself', 'chester', 'diamond', 'hobby', 'lobby', 'ama', '8qc8bcxoko', 'haysville', 'ks', 'bettyfreedoms', 'abninfvet', 'hillary', 'meltdown', 'drdrewhln', 'areva', 'kid', 'mind', 'ya', 'business', 'jenniferarri_', 'comeeeee', 'bout', 'tho', 'phones', 'offers', 'bytbz8s5ux', '034', 'pin', 'connector', '1a', 'charger', 'apple', '5s', '5c', 'ip', 'o3wvsclicx', 'charging', 'lightening', 'struck', 'backyard', 'holding', 'hurts', 'bad', 'happily', 'married', 'kids', 'sprinter', 'automatic', 'frontline', 'choice', '14', 'lez', 'compliant', 'ebay', '4evttqpeia', 'okanagan', 'bc', 'makewaterwork', 'rating', 'maxed', 'txrbdaubnn', 'ue78c7egox', 'westerncanadadrought', 'everything', 'comes', 'dark', 'street', 'refugio', 'costlier', 'bigger', 'ap30pszkvx', 'charles', 'mentally', 'preparing', 'joshsternberg', 'seems', 'once', 'fantastic', 'passamaquoddy', 'ictyosaur', 'wtf', 'moment', 'yet', 'months', 'degree', 'houstn', 'lil', 'nothing', 'hatteras', 'agency', 'seeks', 'comments', 'permits', '9vd6x4wdoy', 'contactsimplenews', 'gmail', 'com', '70', 'atomic', 'bombs', 'struggles', 'past', 'anniversary', 'wrought', 'ltvvpflsg8', '3g79prayyc', 'topnews', 'engulfed', 'men', 'escape', 'parley', 'canyon', 'crews', 'investigating', 'yfavsuogvl', 'isi1rllct0', 'francisco', 'solano', 'sr37', 'skaggs', 'rd', 'trfc', '1141', 'enrt', 'mylieruxk1', 'daborsch', 'shocking', 'lured', 'fanbase', 'wod', 'disappointed', 'hardcore', 'everyones', 'leaving', 'holly', 'springs', 'urufusanragu', 'treasures', 'revealed', 'drains', 'lakes', 'kah1kmtrj7', 'desolate', '33', '209923', '87', '545328', 'atl', 'fran', 'flight', 'square', 'real', 'does', 'prepare', 'hhs', 'selects', 'regional', 'special', 'pathogen', 'treatment', 'centers', 'ebola', 'qmo1txxdkj', 'torrential', 'rain', 'cut', 'screams', 'wisdc', 'obama', 'supports', 'death2usa', 'serarcnrby', 'blown', 'troylercraft', 'yeah', 'already', 'spammers', 'second', 'minecraft', 'lucky', 'block', 'bob', 'wither', 'showcase', 'popularmmos', 'tngye2fklv', '20bags', 'messenger', 'bags', 'clutch', 'designer', 'handbags', 'qualit', 'zgjgghdurf', 'y46isyzkc8', 'survived', 'spanish', 'sweet', 'ritual', 'iniqzfyioi', 'hostages', 'westwestwestwestwestwestwest', 'stood', 'cold', 'nuke', 'ban', 'superiority', 'unconditional', 'surrender', 'putin', 'set', 'match', 'release', 'atx', 'luke_winkie', 'whoever', 'directing', 'videos', 'nicki', 'minaj', 'recognition', 'minds', 'gaping', 'opens', '0xa6fcjyec', 'amazon', 'seller', 'propagandist', 'keep', 'adjust', 'shoe', 'shaper', 'width', 'extender', 'adjustable', '8cpcz2xohb', 'raining', 'flooding', 'tampabay', 'days', 'count', 'recover', 'date', 'totally', 'c5ggszugw1', '2pimg9bice', 'glosblue66', 'crime', 'rate', 'guns', 'become', 'mexico', '20plan', 'route', 'based_georgie', 'yo', 'forreal', 'action', 'incase', 'donald', 'trump', 'becomes', 'president', 'whipe', 'structural', '20failure', 'clip', 'coercion', 'weakness', 'ensuring', 'gnorijnsva', 'listen', 'soundcloud', 'sjkgjxff2r', 'liì', 'ge', 'rubi_', 'stacks', 'apply', 'purgatory', 'weloverobdyrdek', 'adrian_peel', 'clue', 'clicks', 'nout', 'rubbin', 'salt', 'm8ufjdtlsm', 'islip', 'slone', 'truly', 'ripples', 'compound', 'level', 'behead', 'croatian', 'tlvfaces', 'auspol', 'a6ppegelox', 'evacuation', 'lifted', 'roosevelt', 'misses', 'komo', 'qcpmktgllr', 'japon', '39', 'gigawatts', 'installed', 'capacity', '_one', 'gwatt', 'equal', 'leczolkmsv', 'blaze', 'losses', 'nearly', 'double', 'rages', 'e0uusnpsq5', 'madhya', 'pradesh', 'village', 'youth', 'saved', 'fnaf_talkmc', 'stands', 'smiling', 'cake', 'hah', 'earth', 'omega', 'writer', 'explores', 'religion', 'epic', 'kyle', 'rayner', 'story', 'utc7pdidfo', 'newsarama', 'haji_hunter762', 'middleeasteye', 'maybe', 'muzzies', 'spontaneously', 'combust', 'payback', 'yogya', 'berhati', 'nyaman', 'wocowae', 'oioecbsh1f', 'ushed', 'waterloo', 'ont', 'alarm', 'zehrs', 'working', 'decide', 'brizzle', 'tomarse99', 'intending', 'waiting', 'winds', 'signal', 'allowed', 'none', 'servicin', 'section', 'lurkin', 'radiation', '20emergency', 'else', 'wants', 'documents', 'procedures', '24', '09', 'hxwfbpp1b3', 'iphone', '104393', '96', '628624', 'mattmosley', 'cockerelshoes', 'giant', 'manly', 'sms', '087809233445', '2327564d', 't1mbw0ia3o', 'clfa0py5lm', 'outbreak', 'sue', 'legionnaires', 'affected', 'disease', 'edinburgh', 'eye', 'space', 'occurred', 'star', 'o784', 'involving', 'fleets', 'totaling', '4103', 'calum5sos', 'stop', 's_casualty', 'basking', 'ridge', 'nj', 'int', 'bridgeportspeed', 'free', 'saturday', 'details', 'dih1tgqhej', 'diamondville', 'ayhoka_', 'happy', 'bn', 'foxy__siren', 'jennifer', 'aniston', 'xjkrxrnwnv', 'sa', 'insubcontinent', 'jlwgshyy3n', 'adriasimon_', 'round2', 'yycstorm', 'fqqi8gvlq4', 'ontario', 'hwy401', 'eb', 'hwy', 'cambridge', 'opp', 'enroute', 'ag', 'port', 'matilda', 'wardens', 'aprensss3x', 'gwersyllt', 'wales', 'anymore', 'emotional', 'summerfate', 'mikeparractor', 'misscharleywebb', 'buenos', 'aires', 'argentina', 'candylit', 'imagine', 'sarumi', 'zombie', 'fighting', 'heart', 'conversations', 'xizkjfff29', 'collided', 'pvris', 'sad', 'elchilicitanierraversal', 'nowplaying', 'strike', 'de', 'snow', 'patrol', 'hundred', 'suns', 'grzchkdf37', 'thunderstorm', 'russellville', 'ar', 'clarksville', 'dardanelle', 'cdt', 'n844h1aspj', 'lava', 'seriously', 'amazing', 'fond', 'memories', 'sz2rvwpwhj', 'lajx578dru', 'cape', 'arrive', 'sicily', 'p4doa5yyje', 'fwd', 'jumped', 'put', 'clothes', 'usagov', 'koreans', 'performing', 'olympic', 'games', 'apksnplxzj', 'espì_rito', 'santo', 'stars', 'align', 'worlds', 'oldenburg', 'dfr', 'ep016', 'monthly', 'dnbheaven', '08', 'ejkrf8n8a8', 'drum', 'bass', 'heavy', 'nasty', 'sphwe6wfi5', 'hear', 'walking', 'cars', 'concord', 'pisgah', 'national', 'grows', '375', 'acres', 'd7zxz42qw1', 'rp', 'ot', 'mort3mer', 'honey', 'ain', 'scream', 'ahead', 'shot', 'raleigh', 'transportation', 'panel', 'showing', 'pileup', 'wheelers', 'wy', 'ûïmake', 'amssummer', 'jcdd6sd6qn', '9guckjghms', 'intensifies', 'toll', 'surges', '55', 'irpssresrq', 'oup', '8jcyxhq1az', 'palma', 'islas', 'baleares', 'asimtanvir', 'nemesisk_pes', 'kevr_7', 'kiranahmedd', 'nato', 'talibans', 'watched', 'trailed', 'colin', 'goodness', 'haunting', 'drawn', 'wj7ujfs8fd', 'cliff', '20fall', 'decent', 'billers', 'promoted', 'manager', 'billings', 'humble', 'columbus', 'refuse', 'reduced', 'keeps', 'shovel', 'expirehc', 'upheaval', 'actions', 'ferguson', 'tbqsqtmqv4', 'moncton', 'brunswick', 'gas', 'leak', 'forces', 'saint', 'john', 'e1vkc2efst', 'nb', 'beua507iug', 'billboard', '100', 'chart', 'social', 'media', 'driven', 'music', 'charts', 'wvlah8jrxe', 'dubai', 'arab', 'emirates', 'irony', 'proof', 'tempered', 'glass', 'screen', 'protector', 'blackberry', 'z10', 'sd7loww9nu', '7hkavtvx81', 'intermountain', 'greenbuildermag', 'nfpa', 'webinar', 'mitigation', '2pm', 'et', 'xmsvohkccp', 'firewise', 'michele_nfpa', 'ma', 'charred', 'remains', '2nd', 'manchester', 'rips', 'damaging', 'neighboring', 'ja3w1s3tmr', 'wellington', 'thesewphist', 'holds', 'address', 'fuckface', 'wineisdumb', 'spam', 'meant', 'des', 'moines', 'annual', 'football', 'hoops', 'recruiting', 'nuggets', 'ancient', 'mayan', 'tablet', 'hieroglyphics', 'honors', 'lowly', 'king', 'wqikqx9e3w', 'belgium', 'xmwodfmtui', 'aquarium', 'ornament', 'sailing', 'ship', 'destroyer', 'fish', 'tank', 'cave', 'decor', 'kncm9jc8i9', 'swviazsphk', 'desolation', 'photoset', 'littlebitofbass', 'silinski', 'ed', 'sheeran', 'onåê', 'hobbit', 'smaug', 'german', 'premiere', 'iosthxlcyv', 'teafrystlik', 'sky', 'darken', 'ungodly', 'powerful', 'bolt', 'vancouver', 'uber', 'reduces', 'drunk', 'driving', 'independent', 'jvivt6zrv7', 'honduras', 'ops', 'gameplay', 'hunted', 'snd', 'competitive', 'multiplayer', 'ss1zl36y9v', 'p3g3bqbczu', 'rpbxdfnx5k', 'robot', 'lvl', 'earned', 'total', '6615434', 'satoshis', 'dmlj1agotw', 'robotcoingame', 'bitcoin', 'freebitcoin', 'southafrica', 'cambodia', 'cafe', 'acid', 'qmif0blwoa', 'l6pif3lpen', 'chrisman528', 'wars', 'trooper', 'pop', 'vinyl', 'bobble', 'figure', 'funko', 'kjbxieypma', 'enpjcfma8l', 'moa0q0aufa', 'nkou7zwwrt', 'hibernating', 'pbx', 'irrespective', 'pitch', 'careerism', 'crbzfz', 'bringing', 'tornadoes', 'america', 'plaguing', 'farrakhan', 'quote', 'gideonstrumpet', 'held', '20zone', 'louisiana', 'sundays', 'seasonfrom', 'shouldn', 'onshit', 'complete', 'zone', '17', 'beyonce', 'thoyhrhkfj', 'beyhive', 'wvj39a3bgm', 'jakarta', 'youngheroesid', 'blast', 'dieanpink95', 'yu_nita99', 'pantherattack', 'phoenix', 'arizona', 'mistaken', 'sitting', 'smart', 'cataclysmic', 'event', 'reator', 'melts', '20bomber', 'dozen', 'saudi', 'mosque', 'arabia', 'started', 'experiencing', 'pioy1o54f4', 'e9yfe3p7p1', '8gzbgmmaa1', 'silesia', 'lt3dave', 'specs', 'lore', 'sworn', 'defend', 'proven', 'themselves', 'friends', 'kabul', 'tuebingen', 'innsbruck', 'raniakhalek', 'faced', 'uncle', 'hopefully', 'afghanistan', 'children', 'ugly', 'linton', 'hall', 'orxdqfz0j0', 'zombies', 'huthxlkyxy', 'sacramento', 'drvox', 'nice', 'things', 'drill', 'agw', 'denial', 'perenjori', 'panoramic', 'resources', 'cuts', 'muwmfjgzyh', 'daretotaha', 'nah', 'foreskin', 'dismantling', 'vn0accf6d4', 'smoke', 'worldwi', 'toooooo', 'lmao', 'number', 'bck', 'makes', 'sense', 'lol', 'hearths', 'of3td6dglb', 'bees', 'knees', 'posted', 'blog', '5ytiex55lh', 'bucs', 'norf', 'gon', 'happen', 'ysxun5vceh', 'books', 'published', 'dancers', 'caribbean', 'pirate', 'shipwreck', 'margarita', 'engle', 'henry', 'holt', 'byr', 'i7eskymoec', 'financial', 'views', 'efcn9ivnfg', 'plains', 'pipeline', 'university', 'seem', 'burnt', 'fucking', 'niggas', 'mpls', 'loyalty', 'mission', 'involves', 'kicking', 'nobleman', 'elven', 'weirdo', 'pennsylvania', 'turkish', 'troops', 'kurdish', 'militant', '7cibxls55f', 'proudly', 'african', 'swiftycommissh', 'taoistinsight', 'immortaltech', 'jewish', 'agree', 'tht', 'bully', 'nd', 'killin', 'founding', 'fathers', 'unavoidable', 'consequence', 'socialism', 'bbdpnj8xsx', 'fakefams', 'correction', 'tent', 's7vygenjuv', 'bioterror', 'espoo', 'finland', 'usatoday', 'frontpage', 'sanctions', 'rickperry', 'foxnew', 'xfhh2xf9ga', 'pyrbliss', 'ah', 'remember', 'dundas', 'jays', 'rocking', 'joeybats19', 'rogers', 'offs', 'bell', 'moseby', 'barfield', 'pedophile', 'hunting', 'rqwuoy1fm4', 'republican', 'styled', 'undergroundbestsellers', 'dili5jhmur', 'learn', 'grow', 'stronger', 'trials', 'pass', 'thomassmonson', 'lds', 'mormon', 'memenaar', 'design', 'decision', 'wonderful', 'kindof', 'odd', 'restrospect', 'hiroshima', 'nagasaki', 'alleged', 'crimes', 'ndxrk2ncln', 'uswarcrimes', 'th9ywbbeet', 'nairobi', '25', 'kamayani', 'janata', 'ex', 'gratia', 'announced', '6sdtzsgelq', 'mediterranean', 'carryi', 'hijacker', 'governor', 'weighs', 'parole', 'bus', '7npbfrzejl', 'y0kbyy8nce', 'tora', 'l9udest', 'freeway', 'til', 'audi', 'hazard', 'associated', 'installation', 'non', 'external', 'cladding', 'btpqdehl3p', 'www', 'cbplawyers', 'doco', '9pm', 'setanta', 'sports', 'freeview', 'largest', 'presence', 'soccer', 'prevent', 'commodity', 'escaped', '4hngtkdqmv', 'sodak', 'check', 'reshapes', 'rocks', 'l1gh8064yv', 'scichat', 'science', 'k9fbtccu58', 'ts', 'nri', 'trs', 'tdp', 'bjp', 'xyj0rpsai2', 'pray', 'devastated', 'dorset', 'absolutely', 'actor', 'miss', 'rossbarton', 'girls', 'loves', 'beirut', 'poor', 'sods', 'arriving', 'amman', 'yesterday', 'diverted', 'ben', 'gurion', 'jkpjpch9i6', 'ruin', 'yulee', 'chrisdyson16', 'mta', 'sorrybutitstrue', 'fear', 'halifax', 'denying', 'polar', 'bear', 'article', 'coconut', 'porcupine', 'iylvzy3cob', 'lancaster', 'domestic', 'gevrmbvznb', 'wonderland', 'usami', 'lt', 'nigeria', 'openly', 'accuses', 'nema', 'stealing', 'relief', 'materials', 'idps', 'wom', 'teq7sri57p', 'wanderlust', 'troy', 'rosvxqelqj', 'rio', 'janeiro', 'iamrrsb', 'pdehd1tcpk', 'skywars', 'que', 'hack', 'flechadas', 'sinistras', 'baton', 'rouge', 'carl', 'everest', 'rob', 'cobes', 'whitt', 'frost', 'leo', 'snuff', 'godly', 'few', 'drink', 'beer', 'someday', 'targ56igbz', 'sport_en', 'being', 'linked', 'arsenal', 'warcraft', 'inspired', 'mode', 'heroes', 'wz55nbyao3', 'l7pmdmejs1', 'mdp2ni1pqu', 'trackside', 'crackdown', 'multiple', 'servers', 'whole', 'copped', 'telangana', 'maratha', 'raiders', 'scorched', 'lands', 'punjab', 'refused', 'aid', 'bengalis', 'harbor', 'feelings', 'copenhagen', 'capital', 'region', 'denmark', 'dog', 'rendered', 'kitten', '9cpwiecegv', 'rzlytnez2u', 'dude', 'antioch', 'demolition', 'czallstarwes', 'derby', 'souda', 'lady', 'sonia', 'kneelbot', 'merica', 'sometimes', 'sorrowful', 'stage', 'redemption', 'david', 'platt', '86v81dv00e', 'ij', 'comment', 'rules', 'changes', 'insurer', 'h132iul7mu', 'seven', 'bells', 'e1kbludwh5', 'blitzes', 'traverse', 'disrupts', 'management', 'briefing', 'seminars', 'summer', 'blitzed', 'tra', 'nkaw9ezqgg', 'three', 'israeli', 'soldiers', 'bank', 'haaretz', 'u4gsbnu8wc', 'hilton', 'sc', 'sensanders', 'gd', '77', 'wrked', 'almost', 'reed', '8437150124', 'thailand', 'sapphirescallop', 'oppa', 'oops', 'haaaaaa', 'accra', 'ghana', '360wisenews', 'market', 'gems', 'eatfro3d5x', '5km', 'hawaii', 'users', 'download', 'information', 'v3azwoamzk', 'smelling', 'bon', 'mores', 'ahh', 'forgot', 'headphones', 'supposed', 'ayhhhhhdjjfjrjjrdjjeks', 'motogp', 'indianapolis', 'espargaro', 'layout', 'worries', 'rny4l3sr7a', 'igx8xfz8ko', 'daily', 'horoscope', 'relationship', 'disruptive', 'gk4unpznhn', 'willhillbet', 'result', 'cairo', 'egypt', 'tattoo', 'donate', 'receive', 'hamilton', 'woo', 'hoo', 'qr6btdcqcj', 'd1vjoyg52a', 'kaylen', 'clears', 'walk', 'outside', 'narnia', 'added', 'playlist', 'qsekoeubmd', 'boys', 'joked', 'innings', 'cubstalk', 'fedex', 'longer', 'potential', 'pathogens', 'chorr2xovp', 'atlbizchron', 'break', 'homebuyer', 'miscalculation', 'thousands', 'mwjcdk', 'soooo', 'pumped', 'southridgelife', 'destroys', 'tqh5amoknd', 'faceåê', 'bm0sxzbnke', 'sea', 'windstormåêinsurer', '92fwtobi3u', 'crushed', 'ph', 'piece', 'charcoal', 'handled', 'stress', 'exceptionally', 'pressed', 'side', 'cor4', 'cowboys', 'george', 'woes', 'took', 'claiborne', 'round', 'stick', '12giqbvlys', 'asterpuppet', 'carried', 'brothers', 'sisters', 'entered', 'academia', 'allows', 'jwfiilj8wr', 'liveleakfun', 'ionwarvrfy', 'swift', 'invalid', 'grazed', 'rexyy', 'towel', 'programme', 'chicagorobotz', 'jen', 'czqr3ci9xw', 'vero', 'jaydennotjared', 'sending', 'hugs', 'canberra', 'mr', 'fluffy', 'schedule', 'b77t2qxdcs', 'quito', 'ecuador', 'learning', 'legacy', 'eruption', '25sy9y295l', 'newyorker', 'christycroley', 'works', 'vela', 'short', 'q8reoevlue', 'notexplained', 'infamous', 'cooper', 'jlzk2hdetg', 'judson1360', 'xtra1360', 'rest', 'roster', 'stout', 'barring', 'realise', '3g', 'comuiok3mp', 'westchester', 'fantosex', 'suck', 'because', 'amends', 'subconscious', 'stacedemon', 'morioh', 'tinyjecht', 'user', 'queen', 'rochester', 'students', 'throw', 'dungeon', 'stupid', 'preparedness', 'fema', 'weeklong', 'biological', 'radioactive', 'response', 'welshninja87', 'click', 'tag', 'lots', 'hashtag', 'whao', 'tuvbr4lep3', 'haddonfield', 'closes', 'road', 'pond', 'cpeqv52lna', 'oxford', 'direction', 'album', 'upset', 'deserve', 'rly', 'mp', 'recount', 'ûïwhen', 'coaches', 'plunging', '72ix7vm87w', 'empire', 'ariabrisard', 'leiaorganasolo', 'along', 'operation', 'ageekyfangirl14', 'significant', 'other', 'humor', 'farts', 'creates', 'test', 'interesting', 'congress', 'fs4y1c9mnf', 'emiiliexirwin', 'birth', 'saying', 'blaming', 'fans', '60th', 'ss', 'ima', 'nobody', 'solve', 'em', 'division', 'broadview', 'heights', 'hey', 'concept', 'wander', 'whenever', 'whirlwind', 'internet', 'richard', 'returns', 'l8w30wfw3r', 'avalanche', 'performance', 'chip', 'saver', 'chevy', 'tahoe', 'blazer', 'icrzi5tqc5', 'onxhkfhn2a', 'bail', 'accused', 'fife', 'aug', 'hu5cxqnobf', 'uymxocfs33', 'lauren_miller_7', 'bedroom', 'sunday', 'able', 'thank', 'orlando', 'wftv', 'psychologist', 'child', 'porn', 'charges', 'lgglf5yrme', 'belbroughton', 'aerospace', 'exec', 'aircraft', 'wing', 'th', 's2wm8lh7oo', 'silence', 'safer', 'violence', 'aggressive', 'cannoli', 'eater', 'witnessed', 'psa', 'excitement', 'worn', 'ab', 'precious', 'olive', 'weathernetwork', 'n00dvxega2', 'hough_jeff', 'marketing', 'dougkessler', 'b2b', 'b2bagency', 'enqgtbaxuj', 'slideshare', 'contentmarketing', 'orleans', 'guys', 'reaching', 'loading', 'shoulders', 'spinning', 'neither', 'hitting', 'load', '6vei1mhea4', 'eat', 'sleep', 'ago', 'dropped', 'articles', 'opinion', 'samanthaturne19', 'nagaski', 'sanctioned', 'forgiven', 'allies', 'n71hmvervv', 'save', 'bloomington', 'cans', 'kaldi', 'u6isxv2f3v', 'twitch', 'tv', 'pksparkxx', 'slosher', 'goat', 'freaking', 'splatdown', 'switching', 'splatling', 'acdelco', 'gm', 'original', 'equipment', '213', '4678', 'o2jd4tbrwa', 'jfx6qiyivf', 'roanoke', 'wsls', 'montgomery', 'tips', 'childcare', 'less', 'expensive', 'jennasjems', 'patrickwsls', 'kensington', 'lma39zrwoy', 'seemeth', 'unto', 'thereof', 'ways', 'unr', 'continues', 'wind', 'weston', 'custer', 'river', 'pennington', 'sd', 'midwest', '05', '12pm', '45pm', 'ayfdjeb7hy', 'arwx', 'lynnfield', 'weekends', 'times', 'vnni3zzuz6', '28t3nwhdky', 'dtn', 'brazil', 'oi', 'pdosrg8cf7', 'epicentre', 'studio', 'nowhere', 'becoming', 'communication', 'icrgseagya', 'kpvymhm2ub', 'portugal', 'rider', 'suffered', 'serious', 'threatening', 'lowestoft', 'vienna_butcher', 'funny', 'phixznv1yn', 'falmer', 'drive', 'bethlehem', '6tvvlg2fni', 'stratford', 'selection', 'september', 'bridgeport', 'invasion', 'looking', 'burglar', '7mlcd0l0b8', 'sikh', 'prevention', 'key', 'dviyer', 'colorlines', 'nlbltynv36', 'bjrrqhhohl', 'debatequestionswewanttohear', 'start', 'willing', 'ur', 'sons', 'daughters', 'trouble', 'motivated', 'regret', 'matthew', 'donnelly', 'greece', 'tax', 'revenues', 'debt', 'guardian', 'bailout', 'cjvbqxw83s', 'chill', 'thibodaux', 'la', 'ih8udz8mq3', 'keighley', 'kurt', 'zouma', 'changed', 'uqnj6nk9y3', 'qlnnmxzfqk', 'pg', 'chillin', 'currensy', 'talkin', 'ghostwriter', 'anybody', 'waved', 'flag', 'wont', 'misled', 'quantico', 'marine', 'base', 'furtrix', 'cougars', 'uniform', 'iamdigitalent', 'aim', 'taiwan', 'andåêchina', '3og66nfsig', 'howling', 'uhf7nyabsw', 'security', 'site', 'everydaynigerian', 'everydaynaija', 'houses', 'kaduna', 'nonm8c6l8p', 'deliver', 'value', 'cash', 'source', 'course', 'st5fgblsye', '0uk0h9hozn', '__scrambledeggs', 'calling', 'kia', 'gets', 'claimin', 'sent', 'secrets', 'catechize', 'confidential', 'respects', 'len', '101', 'rig', 'sick', 'ujrx9kgawp', 'runner_joy', 'especially', 'clients', 'wart', 'didn', 'notice', 'background', 'floatin', 'ja0wgp8spe', 'student', 'campus', 'ryah8fni5q', 'electric', 'brewing', 'wanting', 'question', '26oo0fcl53', 'whistleblower', 'lawsuit', 'supervisor', 'sleeping', 'job', 'officials', 'ipwysnik0g', 'pbban', 'temporary', 'avysss', 'flags', 'fast', 'xp', 'reason', '20services', 'glenstannard', 'essexweather', 'abouts', 'fool', 'coverage', 'dat', 'pro', 'squad', 'material', 'gkye6gjtk5', 'personalinjury', 'advice', 'solicitor', 'otleyhour', 'bluedio', 'turbine', 'bluetooth', 'wireless', 'stereo', 'headset', 'blk', 'wwfqgcqyii', 'gscswyuupa', 'kolkata', 'cautious', 'jejc9xctmp', 'dorman', '917', '033', 'wxces39zte', 'pygkssscfr', 'zealand', 'gns', 'sees', 'unnecessary', 'resulting', 'strengthening', 'legislation', '4ryzmzsgdw', 'lizard', 'wizard', 'lwb', 'mgr809yc5a', 'italian', 'alps', 'reuters', 'uzwxjbg0zh', 'insurance', 'hunt', 'willinghearted', 'rpn', 'pbya7uv3v5', 'former', 'executives', 'prosecuted', 'umjprrwruu', 'vcu', 'realized', 'normal', 'sit', 'driver', 'cop', 'safety', 'seconds', 'f1bakpnyn6åê', 'lzxwoaye4x', 'viralspell', 'traffic', '2781', 'willis', 'foreman', 'vckit6edev', 'actively', 'embraced', 'audiences', 'emhub', 'impact', 'ugc', '6mbpvwitxf', 'based', 'newyorkcity', 'medicine', 'lennox', 'hill', 'hospital', 'drjustinmazur', 'screaming', 'kamkasteiiano', 'bluntedjayt', '20bang', 'kenya', 'colnharun', 'breaking', 'unconfirmed', 'bang', 'nearby', 'appears', 'neighbour', 'melbourne', 'ollymursaus', 'meat', 'mmchale13', 'tries', 'cord', 'rocketing', 'galaxy', 'satanaofhell', 'dreamy', 'ears', 'slowly', 'toward', 'disea', 'vbsj8tniv1', '20bagging', 'seeing', 'bagging', 'google', 'wall', 'nf4iculoje', 'brother', 'law', 'riooooos', 'dudes', 'beast', '463p0ys0eb', 'rail', 'fu1btuq1et', 'revitup', 'pizzarev', 'bp8bm8xsxw', 'p6cylz5lpt', 'jpu9gips9f', 'mirrors', 'reflected', 'each', 'private', 'desires', 'david_cameron', 'upsetting', 'bee', 'companies', 'savebees', 'ndjja4d5o8', 'l7bjsq0y2o', 'update', 'passenger', 'metro', 'derails', 'terrible', 'hell', 'blcbabm7a1', 'shah', 'alam', 'malaysia', 'nightmare', 'jump', 'remembered', 'alas', 'late', 'arson', '30', 'caught', 'u1fuwrgk5u', 'tube', 'travel', 'updates', 'chaos', 'accepte', 'vg8hrbebda', 'prayers', 'cousin', 'helping', 'cncpts', 'solelinks', 'surprised', 'global', 'precipitation', 'measurement', 'satellite', 'captures', 'nasahurricane', 'igcetumkcw', 'x1xj0xvtj7', 'steven', 'yeun', 'amc', 'dauntedpsyche', 'gently', 'dabbed', 'cotton', 'rag', 'across', 'pain', 'worse', 'glenn', 'yosemite', 'sam', 'drumpf', 'ûïnobody', 'ill', 'rabbit', 'skin', 'huh', 'aprylpooley', 'a1', 'couldn', 'therapy', 'communicate', 'gravitychat', 'helene_yancey', 'helene', 'aelinrhee', 'mascara', 'smeared', 'horrific', 'extension', 'extends', 'bath', 'tub', 'lets', 'howardu', '90blks', '8whts', 'colluded', 'wht', 'org', 'idis', 'id', 'hers', 'peshawar', 'ik', 'troll', 'rivals', 'abused', 'abuse', 'loosers', 'twin', 'dnu5hwsxo2', 'prophet', 'giving', 'charity', 'irandeal', 'covers', 'activity', 'broken', '27', 'agreements', 'apparently', 'zonewolf123', 'u66kyg11zd', 'southampton', 'universe', 'actually', 'exist', 'scientists', 'defj7xekgx', 'sun', 'began', 'pov', 'footage', 'kxewlhh7uw', 'wreckage', 'rì', 'union', 'qnvxj2palj', 'vol', 'deejayempiresound', 'np', 'rqiuqxnm2x', 'angelriveralib', 'snowden', 'laws', 'katrina', 'jaawuiovdc', 'forgotten', 'aesop', 'rgyuakc0dr', 'orchardalley', 'les', 'manufactured', 'repression', 'abcnorio', 'gardens', 'ba2rrxugsg', 'exploded', 'yokohama', 'kakeru', 'teduka', 'bfore', '70years', 'bomd', '8vzl1ns2io', 'cranboonitz', 'threats', 'hereticofethics', 'curfew', 'pon', 'di', 'gully', 'rite', 'tlk', 'widout', 'nuh', 'aka', 'cum', 'fi', 'steal', 'itz', 'rubbery', 'dem', 'knw', 'kingston', 'jamaica', 'entity', 'montego', 'sewer', 'tvjnews', 'p5zicjudxo', 'kzhb8zx6yc', '302', '13', 'reasons', 'lulgzimbestpicts', 'uz1yiz7n6m', 'ijwar15h16', 'beck', 'arnley', '158', '1017', 'ryobyqjfce', 'lw9o2kdk18', 'lennonparham', 'jessica_stclair', 'gilmoreguysshow', 'podcast', 'ihave44episodesofgg', 'nojoke', 'gander', 'tna', 'appease', 'morbid', 'curiosity', 'destinationimpact', 'weudlkc4o4', 'trl1dskf81', 'though', 'hahahah', 'worrying', 'uplifting', 'spirit', 'anchor', 'paradise', 'lordbrathwaite', 'growingupincolorado', 'fleet', 'induced', 'tidal', 'happened', 'movies', 'tin', 'tesco', 'prompted', 'complaint', 'chelsea_dogs', 'pets', 'animals', 'puppy', 'qzvkpahsq7', 'tomorrow', '20truck', 'wheeler', 'truck', '180', 'degrees', 'roll', 'kmpfhglhoo', 'hanover', 'fyi', 'cad', 'nhs', '999', 'piner', 'horndale', 'dr', 'glasgow', 'scotland', 'angusmacneilsnp', 'case', 'utterly', 'ûªd', 'embarrassed', 'indy', 'press', 'apollobrown', 'zdtz3rbs6w', '29pm', '15pm', 'o8x4m5er6b', 'okwx', 'sf', 'asian', 'shelter', '415', '751', '0880', 'support', 'english', 'montrì', 'al', 'quì', 'bec', 'grenade', 'impossible', 'hoes', 'careers', 'kansas', 'bug', 'fully', 'patched', 'os', 'active', 'exploit', 'macs', 'sbgirvqvzb', 'fairfax', 'firefighter', 'placed', 'admin', 'amid', 'probe', 'facebook', 'dept', 'rogersville', 'savagenation', 'reminds', 'peasants', 'stalin', 'redistribute', 'record', 'major', 'nine', 'pioneer', 'ky', 'cards', 'dispatchers', 'boone', 'seat', '5fhkxtrhyu', 'az', 'cases', 'constitute', 'epidemic', 'jblrrnmdsm', 'plague', 'health', 'publichealth', 'laredo', 'petition', 'remaster', 'frame', 'windwaker', 'selfie', 'cell', 'shop', 'ioq051t5te', '629', 'klxaucnp5i', 'kou', 'ayr', 'lhdcpnzx6a', 'drrichardbesser', '88', '92', 'difficult', 'esp', 'dispersed', 'hills', 'boyd', '5th', '3ugfpwmy2x', 'detroitnews', 'sexydragonmagic', 'realization', 'attention', 'span', 'both', 'painting', 'playing', 'heebsterrr_', 'ac', 'faster', 'overtook', 'tru', 'luv', 'ixwin', 'louis_tomlinson', 'incredible', 'dancing', 'cia', 'stopped', 'permanently', 'vermont', 'retirement', 'instruction', 'bookmobile', 'libraries', 'reading', 'l2nmywrmq2', 'tunisia', 'march', 'museum', 'kurqlxfihl', 'nolocation', 'bengal', 'cm', 'mamata', 'banerjee', 'blames', 'dvc', 'claims', 'bozlwr716z', 'c9t2f6dltm', 'jazz', 'hip', 'hop', 'tidalhifi', 'mzqq5pai8g', 'rave', 'wedding', '1313', 'patrick', 'frederick', 'meals', 'cook', 'wj0u59mppb', 'teams', 'studying', 'warnings', '900037', 'hong', 'kong', '6ime8kjacv', 'marks', '70th', 'qreinwg0gs', 'drinking', 'cup', 'tea', 'dunking', 'greater', 'stu', 'beetroot', 'swear', 'uncover', 'gods', 'slumber', 'refugee', 'connections', 'indiegogo', 'campaign', 'launch', 'online', 'atlantic', 'ia', 'ffa', 'foodstand', 'fairgrounds', '9am', 'uae', 'forbes', 'c0slabbp7j', 'splatoon', 'default', 'splattershot', 'jr', 'boston', 'raynbowaffair', 'editor', 'chief', 'diamondkesawn', 'releases', 'issue', 'ge0yd3mkav', 'ramag', 'models', 'attractive', 'named', 'ross', 'parents', 'orange', 'public', 'hearing', 'suny_orange', 'thurs', 'ctr', 'goshen', '80dzgco6vc', 'beforeitsnews', 'six', 'meter', 'crater', 'qwo7q1amh8', 'esrkmazeq9', 'eagle', 'bro', 'udkesj01ml', 'lethbridge', 'priority', 'ended', 'updated', '05th', '29', 'mdt', 'yqyiwjn8ez', 'bqblwiw08g', 'roimentor', 'yycwalks', 'goa', 'estimate', 'wednesday', 'disclosed', 'zqihnhdwpv', 'osi2016', '10th', 'bronx', 'reaches', 'digits', 'jtzefipdbo', 'oshawa', 'wisdomwed', 'bonus', 'habits', 'improve', 'lifehacks', 'tbm9fqb8cw', 'btwn', 'rock', 'place', 'celestial', 'separate', 'trajectories', 'intertwine', 'dance', 'caitlin', 'kiernan', 'centipede', 'signed', 'numbered', 'limited', 'mcsek4hx5s', 'iifgaz0fil', 'jt_ruff23', 'cameronhacker', 'duval', 'wv', '25573', 'unhappiness', 'btjpeo0bto', 'clyj32l333', 'bigamist', 'wife', 'pregnant', 'dlaub2nvtn', 'poll', 'rtfirzcpoc', 'irons', 'xii', 'nightmarishly', 'brutal', 'used', 'ritualistic', 'club', 'xpfmr368uf', 'nmaumydke1', 'oyster', 'shell', 'andrew', 'carnegie', 'falling', 'asleep', 'plate', 'stadium', 'vivaargentina', 'hertfordshire', 'eventually', 'protestors', 'skyscrapers', 'plant', 'covered', 'residents', 'central', 'engineers', 'options', 'ocnj', 'jzprciqa9d', 'potters', 'fj7kcrlir7', 'citadel', 'oldtown', 'petchary', 'either', 'displeased', 'spots', 'congrats', 'reggaeboyz', 'lockout', 'progress', 'rene', 'jacinta', '2k13', 'fallen', 'skies', 'edit', 'mar', '7mlmsuzv1z', 'neil', 'kitchen', '32215', 'def', 'plus', 'conclusions', 'stuff', 'm5rjekvddp', 'antoine', 'fisher', 'hail_zel', 'kno', '2pcs', '18w', 'mining', '4wd', 'beam', 'rea', '1qt51r5h98', 'oqh1jbuenl', 'bagef9lfgt', 'bvxqa3kfrx', 'vibez', 'radio', 'emvohm9m6j', 'listenlive', 'creationsbykole', 'cork', 'haha', 'pack', 'coloiccarnality', 'instincts', 'kicked', 'scratches', 'matrix', 'airlines', 'hhwv0eudfv', 'belgrade', 'feminists', 'grill', 'arrived', 'prefer', 'fem', 'kmndkfa7me', 'wackos', 'michelebachman', 'predict', 'firey', 'inferno', 'cant', 'accept', 'globalwarming', 'hello', 'raì¼l', 'sends', 'message', 'condolence', 'vietnam', 'behalf', 'cuban', 'emrzicb004', 'lwilliams_13', 'richland', 'detroitpls', 'interested', 'win', 'sevenfigz', '20b3pnqxmd', 'cc', 'leadership', 'bathroom', 'asb', '4682', '18287', 'reportedly', 'kee1tytz15', 'semasirtalks', 'hadnt', 'butgod', 'told', 'paint', 'eighty', 'spe7u8t40k', 'pennlive', 'mechanicsburg', 'ohyd7hhcpe', 'indiana', 'triumphant', 'eggs', 'easy', 'yolk', 'fqj5aga1pd', 'bake', 'hilarious', 'moments', 'environment', 'confirms', 'touched', 'weekend', 'åè', 'x8zqbwnfo1', 'aknbtuyaef', 'mauritius', 'helicopters', 'civilians', 'gaza', 'completed', 'exercises', 'pt', 'unit', 'responsible', 'targeting', 'muslim', 'scholars', 'imprisoning', 'f4lhfmehzh', 'blazing_ben', 'pattyds50', 'gwfrazee', 'joshuaassaraf', 'expect', '12', '72w', 'alloy', 'diving', 'mjmwa72er6', 'adx9iyi246', 'stops', 'tkeoaedqkq', 'trucking', 'avenue', 'x9ofv1kmv7', 'markwschaefer', 'screeching', 'accompanying', 'walked', 'scissor', 'alexhammerstone', 'kttape', 'ktfounder', 'remymarcel', 'frofrofro', 'b19z8vi3td', 'adopt', 'overlooked', 'whyor', 'santa', 'ana', 'blocks', 'raid', 'holistic', 'pot', 'dispensary', 'yvv1rlghft', 'smartnews', 'durant', 'nba', 'adidas', 'swingman', 'retail', 't81oayjowc', 'sport', 'cbc', '0dqjeretxu', 'birmingham', 'rare', 'occasion', 'throwing', 'passing', 'accustomed', 'alcohol', 'billionaires', 'shantaeskyy', 'enemy', 'destiny', 'blocked', 'heavenly', 'blessings', 'reacted', 'ik7mgidvbm', 'af1yzus8ln', 'jocelyn', 'gargoyle', 'hoof', 'coil', '2ii3brc7nx', 'remove', 'softenza', 'anthelmintic', 'nature', 'drawing', 'spying', 'thoughts', 'kshllcenterpri1', 'progress4ohio', 'mean', 'churches', 'allen_enbot', 'mess', 'syringetoanger', 'åç', 'disagreements', 'occurrence', 'clear', 'cartoony', 'whoa', 'papa', '4zmcqrmois', 'dk', 'guide', 'auctions', 'l9ekhnkbar', 'plano', 'prime', 'quick', 'takeaways', 'magnificent', 'dbdwtocgxf', 'å_', 'wcw', 'catsandsyrup', 'tha', 'bitch', 'asshole', 'y3fo0ghg8t', 'activities', 'breakfast', 'millennium', 'hotel', 'nations', 'plaza', 'lunch', 'layzba9y8h', 'santiago', 'bernabeau', 'runs', 'living', 'shut', 'mthe', 'premises', 'oc', 'princessduck', '6th', 'james', 'orjb3j803f', 'mwdhxyfrag', 'xspqdoriqj', 'cqyvfr4ucy', 'downstairs', 'rhiannon', 'hungover', 'uhmmmm', 'airdrie', 'reddeer', 'tremblayeh', 'cannot', 'lie', 'sirmixalot', 'bluebell', 'p9rymfjcux', 'delmont', 'onion', 'purchased', 'yojkfqej6s', 'nashvilletraffic', 'moving', '8m', 'slower', 'usual', '0ghk693egj', 'gearing', 'deadgrassandflowers', 'wildfires', 'warrington', 'certainly', 'ian_bartlett', 'hs2', 'astroturfers', 'crumbling', 'lovelylikelaura', 'favorite', 'blow', 'halloikbenwill', 'hottest', 'youngins', '178', 'boko', 'haram', 'sentinel', 'florid', 'kctigymahl', 'ashland', 'ember', 'aware', 'lzml1xb2nh', 'bombings', '1krpz3j1eu', 'g37hujx6et', 'mickinyman', 'theatlantic', 'politics', 'dappar', 'mohali', 'gurmeetramrahim', 'msgdoing111welfareworks', 'welfare', 'ke', 'appx', '65000', 'har', 'victim', 'ki', 'liye', 'tyar', 'hai', 'sharjah', 'abudhabi', 'healing', 'reviving', 'attacking', 'characters', 'atchisonsean', 'princeoffencing', 'frickin', 'humidity', 'invzices', 'sllikely', 'nevada', 'caesars', 'gzmoblsjxu', '5cgtqfk2ur', 'knocking', '3am', 'wearing', 'footed', 'pajamas', 'greedy', 'bastards', 'fullscreen', 'creativity', 'censorship', 'nmtlpo4b58', 'flew', 'letters', 'telling', 'setzorah', 'claim', 'xbox', '360', 'smh', 'alabama', 'y2jt1amyfj', 'triskelion', 'partially', 'honestly', 'friday', '3rd', 'floor', '7nu7prxeul', 'experienced', 'below', 'waist', 'exercised', 'demon', 'att', 'price', 'kept', 'rising', 'goodbye', 'campinas', 'mtvsummerstar', 'videoveranomtv', 'mtvhottest', 'lana', 'rey', 'heaven', 'sanity', 'brings', 'score', 'sfa', 'rw8b50xz9m', 'rhett', 'windy', 'vzwsupport', 'texts', 'teens', 'digital', 'hamayun', 'shaheed', 'pilot', 'heli', 'mansehra', '2z8ubsy5m8', 'conveniently', 'zionists', 'revere', 'honour', 'baruch', 'goldstein', '3kob7xbea0', 'brownie', 'batter', 'fashionable', 'mountaineering', 'resistant', 'couples', 'leisure', 'tab', '7dyoglhmre', 'hkm3rtd4zf', 'cranes', 'restoring', 'dutch', 'alphen', 'aan', 'den', 'rijn', 'leading', 'boss', 'welcomes', 'mj2jq2psv6', 'vail', 'matt_kroschel', 'mock', 'agencies', 'swwylrk0fv', 'gears', 'preview', 'member', 'chat', 'welcome', '6sdgz5dxnt', 'superbug', 'biolabs', 'epidemics', 'biosurveillance', 'outbreaks', 'homeland', 'wire', 'cvhygwcbzv', 'prov', 'mesa', 'arizonadot', 'bound', 'salado', 'crackin', 'pissed', 'donnie', 'stevenontwatter', 'pussyxdestroyer', 'nuts', 'flavored', 'boom', 'ice', 'cream', 'womens', 'buckle', 'casual', 'stylish', 'pockets', 'mwzqcjhzpb', 'shadow', 'alive', 'bjzssw4tid', 'mix', 'ultimate', 'library', 'o207jyabyz', 'cjctb2ocxg', 'dry', 'thunderstorms', 'ugzu9iqprw', 'cawx', 'nwsbayarea', 'bukittinggi', 'sumatera', 'barat', 'investigators', 'virgin', 'galactic', 'spaceship', 'wc69xajis4', 'pontefract', 'ledofficial1', 'requests', 'samples', 'sweets', '412', 'nw', 'worry', 'plenty', 'ipa', 'squeeze', 'radler', 'a8nmdkd3rv', 'pueblo', 'ferrell', 'zach', 'galifianakis', 'commit', 'comic', 'political', 'farce', 'tq3j2qgtzq', 'cuernavaca', 'morelos', 'xico', 'igxrqpotm7', 'landi', '3kpbu6hgt5', 'peritoengrafoscopia', 'lining', 'barn', 'moon', 'mizuta', 'gl4mcax0ny', 'stormchase', 'ef', 'el', 'reno', '3sicroaanz', 'i27oa0hisp', 'land', 'kings', 'tsunami_esh', 'esh', 'denali', 'wolf', 'declined', '143', '2007', 'reinstate', 'buffer', 'protectdenaliwolves', 'alaska', 'adndotcom', 'sand', 'f1tcbg1mki', 'is2idc3ubj', 'sarah', 'palin', 'parenthood', 'minority', 'bb4sp', 'sayzt2oagm', 'canal', 'tookitlikeaman', 'lovemydentist', 'sore', 'stats', 'u7vavyrgv9', 'kbstrxnhup', 'sectarian', 'protest', 'shia', 'cleric', 'militias', 'withdraw', 'fightin', 'uve', 'foster', 'zrzejpef5j', 'temptation', 'kirsten', 'gillibrand', 'amea3lamdj', 'extend', '911', 'palo', 'alto', 'yo3t8qho9h', 'nkulw', '8odtzmvqar', 'terre', 'haute', '64oz', 'jar', 'peanut', 'butter', 'solution', 'rid', '9cntp3nq6o', 'browser', 'removal', 'qdf6asaelm', 'mfs', 'brasì_lia', 'echoes', 'benjm1', 'tourofutah', 'b1grego', 'racing', 'evergreen', 'spies', 'vbhu2t8wgb', 'infowars', 'grabbers', 'demand', 'ûïhatchet', 'n3yjb8tcpm', 'nwo', 'border', 'pakistan', 'handed', 'udj50j3mv4', 'argus', 'industries', '666', 'wondering', 'drone', 'freak', 'dhggxo7mcc', 'drove', 'bill', 'clinton', '5ortb8p51c', '2012', 'lcc', '96355', 'syria', 'benzema', 'increasingly', 'benitez', 'frequently', 'wmata', 'smithsonian', 'buried', 'i8sj1kws1d', 'eldoret', 'kisii', 'plot', '5bdrfu1duo', 'countynews', 'relatives', 'discovery', 'rlftjmhhvt', 'gotham', 'hopefulbatgirl', 'beaten', 'ra', 'ghul', '_charleyisqueen', 'barber', 'hair', 'wouldn', 'egg', 'atmosphere', 'lmfao', 'hhahaha', 'garbage', 'thebuffshow', 'thetwisterokc', 'boyfriend', 'shaniatwain', 'twisterlovesshania', 'o61h2taae4', 'penn', 'n95igskd3p', 'farm', 'beginnings', 'thrhkhogcuåê', 'tzszmf2qxe', 'hq', 'komen', 'devastates', 'myanmar', 'fcujsioyqo', 'shelby', 'bcjylerryx', 'ori', 'bind', 'ep', 'friendswood', 'twia', 'board', 'approves', 'percent', 'hike', 'association', 'directors', 'esemjrn5cc', 'brackley', 'pe', 'trois', 'rivieres', 'legionstrackandfield', 'pue5xnznqb', 'megadeth', 'symphony', 'ecd7hizja1', 'wherever', 'flickershowell', 'crying', 'faan', 'gives', 'owners', 'abandoned', 'ultimatum', 'zzpojgngaj', 'dailytimesngr', 'gvj7slbelp', 'memphis', 'interview', 'sbfglqjzfs', 'matter', 'napviygkyk', 'ottawa', 'zayn', 'itsqueenbaby', 'bunch', 'adanne___', 'kindly', 'follow', 'robbiewilliams', 'fkn', 'asswipe', 'killers', 'karma', 'moral', 'systems', 'rejects', 'innocents', 'explicitly', 'endorses', 'behavior', 'qadrkejz9t', 'follownflnews', 'michael', 'devalue', 'fantasy', '5dujgypima', 'nfl', 'playoffs', 'wolves', 'plummeted', 'savedenaliwolves', 'tweetstorm', 'sywuel7yyx', 'anchorage', 'ak', 'nurse', 'practitioner', 'healthcare', 'recruitment', 'counselors', 'wasilla', 'lkz5cnynxx', 'pensacola', 'senator', 'voices', 'concerns', 'bp', 'settlement', 'mfsbwpj0ce', 'concluded', 'harcourt', 'goodluck', 'dame', 'hashgqafic', 'pmggavtokp', 'meet', 'pnssia5e46', 'lsvsyspdxx', 'welovela', 'nhlducks', 'defense', 'blues', '9v1rvcomh2', 'sportsroadhouse', 'coleslaw', 'sijnbmczij', 'huntsville', '30a', 'radar', 'widespread', 'showers', 'storms', 'areas', 'minor', 'hunwx', 'e3l1jqjh2u', 'reply', 'gpm', 'bullseye', '7vcezi6cbb', 'azovgv4sb6', 'flat', 'sided', 'linerless', 'bottle', 'caps', 'choose', 'wrnpywyalj', 'qv7iydovx9', 'countermoonbat', 'voodoo_ben', 'hearts', 'expected', '312', 'goats', 'ofecs6tcvc', 'q2eblokeve', 'directioners', 'encmhz6y34', 'x1441', 'sharing', 'lsjowgyvqh', 'bbcwomanshour', 'setsuko', 'thurlow', 'cvjyml7krm', 'fph01u3eii', 'demi', 'mcc76xowli', 'langley', 'imilsfxntf', 'filipino', 'uh', 'dick', 'outlet', 'evening', 'outdoor', 'happenings', 'featured', 'huzrhgmksy', 'eventspalmbeach', 'waterford', 'rick', 'morty', 'uqkx5vbium', 'meaning', 'fit', 'clean', 'laundry', 'sirens', 'hamburg', 'midfield', 'edm', 'soni', 'soner', 'sonisoner', 'devffptcvj', 'spent', 'feeding', '4000', 'syrian', 'marrie', 'igll3ph6o1', 'abs', '1xpw292tje', '462446', '022017', 'drones', 'deadliest', '9qpg0z3rh9', 'bjvfk1ete9', 'trafford', 'odeon', 'cinema', 'false', 'dzlense1gw', 'tennis', 'defending', 'champ', 'svetlana', 'kuznetsova', 'withdraws', 'citi', 'open', 'cites', 'lower', 'leg', 'espn', 'im2hdsklq5', 'rage', 'sharply', 'costs', 'dfyrppzkpu', 'iwsdbgd1zq', 'responsibility', 'wpilp4mymf', '8nhd9idajs', 'bless', 'susinesses', 'stlnd', 'king_naruto_', 'madara', 'strawberry', 'shitsickles', 'mockingpanems', 'cuddlesforjen', 'slammed', 'wrong', 'retainers', 'wear', 'daddy', 'kink', 'scalpium', 'sammy', 'kfc', 'fam', 'mike', 'magner', 'discusses', 'trust', 'betrayed', 'psbxl1hvu3', 'ivano', 'frankivsk', 'butterlondon', 'lip', 'crayons', 'be_ram0s', 'enter', 'bbloggers', 'dsb3ldfuxu', 'laughs', 'sticking', 'ttq9ilhp8w', 'chelsea', 'talisman', 'eden', 'keen', 'cristiano', 'ronaldo', 'lionel', 'messi', 'mipasho', 'lxvlqvbc8r', 'lowkey', 'acmrm833zq', 'lzob8qoh1b', 'kirkwall', 'deep', 'roads', 'hahahaha', 'lolol', 'oslo', 'norway', 'muslims', 'waving', 'pamela', 'geller', '1pdjoq4jc1', 'odai', 'bucharest', 'romania', '600', 'hungry', 'pjigxpvpl0', 'hampshire', 'hadn', 'gotten', 'tracking', 'qyu8grorq1', 'conclusively', 'nn6y0fd3l0', 'wedn', 'bkpfpogysi', 'powder', 'discussed', 'introduction', 'theological', 'aesthetic', 'bz3ir4gmwj', '7mzycu2iho', 'arabic', 'vietnamese', 's0ktiliskq', 'fortaleza', 'ce', 'fahlo', 'queenåê', 'olpbmy9xw9', 'justin', 'bieber', 'on18cqgcoa', 'terrifying', 'coaster', 'disclaimer', 'cochrane', 'cityofcalgary', 'enacted', 'municipal', 'flg', 'rocket', 'okay', 'freebesieged', 'martinmj22', 'yougov', 'tory', 'possibly', 'wafer', 'thin', 'majority', '2q3fuerey5', '5bgcw3ezb5', 'tfan6qq2ys', 'rakwwritpo', 'chronicle', 'yllqjljiiq', 'sunrays', 'hairy', 'dried', 'spiderweb', 'selena', 'hilary', 'stans', 'sold', 'copies', 'dal', 'rb', 'lance', 'dunbar', 'injures', 'ankle', 'listed', 'eujgu1hvvx', 'itfbbz9xyc', '130', 'specially', 'modified', '1980', '6ioabsl6i7', 'ophiuchus2613', 'truelove', 'romance', 'lith', 'voodoo', 'seduction', 'astrology', 'rtrrt', 'lotz', '1008pla', 'petersburgfl', 'aisle', 'dedicated', 'serbian', 'director', 'foods', 'clothing', 'accionempresa', 'sparked', 'interest', 'bargain', 'go0pkrfzmf', 'gerenciatodos', 'extreme', 'stories', 'volga', 'dmtzmgyrik', 'electrical', 'circuit', 'pump', '5hkgxzjlmx', 'scares', 'versions', 'knowing', 'governments', 'glad', 'answer', 'chicora', 'oakland', 'davidolszak', 'loses', 'tardis', 'siren_song21', 'pc', 'account', 'hacked', 'pull', '1200', 'bucks', 'wasn', 'nsf', 'lauradeholanda', 'forrest', '83', 'awful', 'xxx', 'haven', '2014', 'corp', 'breaches', 'prepared', 'ek6kyhxpe9', 'yn6nxoucr1', 'dems', 'detained', 'americans', 'interrogation', 'facility', 'uwitvbsbnc', 'inexpressible', 'wc8aqxedf7', 'rises', 'eight', 'adults', 'iqj1z3jxx8', 'effected', 'yugoslav', 'republic', 'macedonia', 'editaxohaze', 'cuffed', 'milwaukee', 'owner', 'gay', 'admits', 'scheme', 'myhohvrhil', 'lgbt', 'tm5hthfdo0', 'paterson', 'unrecognized', 'ik8m4yi9t4', 'morganville', 'pisces', 'tweets', 'tightrope', 'forward', 'downright', 'lavenderpoetrycafe', 'encoded', 'sensory', 'cognitive', 'dmb6xp966d', 'sexual', 'hysteria', 'affliction', 'primarily', 'u2es0uk1u3', 'bgrab7lk8d', 'smokes', 'noahj456', 'xnto3jmmts', 'gta', 'sticky', 'nashsnewvideo', 'epzwaseyky', 'cfevtrsc1u', 'vfctrzaok2', 'garden', 'grove', 'exofficio', 'boxer', 'brief', 'acb0ryenuo', '205', '478', 'max', 'tf', 'fired', 'catfishmtv', 'bekah__w', 'sweat', 'bullets', 'beating', 'vet', 'finds', 'jihad', 'mall', 'ûïall', 'islamaphobe', 'hwnyxxkczz', 'chicken', 'microwave', 'intead', 'rachelrofe', '36', 'woke', 'raquel', 'michael5sos', 'attitude', 'markets', 'lnzi7o166y', 'investing', 'trading', 'forex', 'tmpfwjpi6i', 'pretend', 'ayekoradio', 'brasswork', 'shaken', 'qh5axvhwh5', 'netlabel', 'electronicmusic', 'ccmusic', 'kylewappler', 'thisishavehope', '1pdnlsp8xw', 'cyclists', 'carefully', 'harlem', 'stony', 'jackson', 'felons', 'thus', 'satan', '0wbecdmhqo', '253', 'stupid_niggr', 'a2ss7pr4gw', 'walton', 'firefighters', 'headed', 'j2pykyo0en', 'urgent', 'wildhorses', 'protect', '14wh0pjj2c', 'sbnation', 'penalty', 'xyi5fdacxo', 'sjtvzggcxu', 'careless', 'campfire', 'primum', 'nocere', 'georgefoster72', 'edmund', 'fitzgerald', 'karachi', '3brme6sn4t', 'applies', 'horrendous', 'sb3rjqqzix', 'tomdean86', 'alright', 'willian', 'shifted', 'easily', 'mdnugvubwn', 'yugvani', 'drivers', 'reap', 'benefits', 'qltwhojqya', 'netherlands', 'armed', 'targe', 'm0dap5xlwo', 'kurd', 'ghghqm9e6d', 'petersburg', 'sponge', 'docks', 'washed', '5pmikavykl', 'sks5jccrj2', 'beit', 'vsoxkbt6nq', 'scottsdale', 'stamp', 'assistance', 'retooled', 'retirees', 'handicapped', 'nomorehandouts', 'sneak', 'spoiled', 'deconstruct', 'kerri', 'sackville', 'tms7', '985dwwpdet', 'wb', 'compensations', 'wmdihdiz1r', 'palinfoen', 'privilege', 'sonofbobbob', 'shimmyfab', 'trickxie', 'chopping', 'heads', 'gays', 'rooftops', '367', 'fox', 'cedcugeuws', 'scranton', 'emdjnnltp0', 'tmid_', 'nikistitz', 'looked', 'nikki', 'scary', 'falcon', 'anywhere', 'hkxyzhvmqe', 'fxdh3u8bq3', 'yzhvobgocq', 'abandon', 'construct', 'e9d9lk5fdw', 'fukuoka', '3htj2pypsg', 'himself', 'further', 'effort', 'painful', 'roger', 'bannister', 'kenosha', '53143', 'i9dspdkruk', 'nep5azwkna', 'leader', 'sympathy', 'xlq8g6vb2r', 'cleared', 'trailer', 'catches', 'k5fijankjb', 'blighty', 'nicklee8', 'london3', 'loo', 'whats', 'yr', 'bush', 'xy41z0o5ei', 'pollster', 'realdonaldtrump', 'colombie', 'britannique', 'dilawri', 'vg7jnah0iw', 'kshsgwghfj', 'loan', 'oneself', 'foreclosed', 'tejc', 'expecting', 'trad', 'authors', 'plummeting', 'early', 'renfrew', 'batfanuk', 'enjoyed', 'utica', 'pleasant', 'paws', 'average', 'size', 'grass', 'layang', 'perak', 'horizon', 'utp', '7vsqqsvgni', 'pete_r_knox', 'gemmasterful', 'hipster', 'unfortunately', 'got7supportph', 'unbelievably', 'insane', 'aeroplane', 'freaky', 'cezhq7czll', 'lo', 'mid', 'republicans', 'guess', 'darwinism', 'philadelphia', 'onthisday', '1620', 'mayflower', 'sail', 'laphamsquart', 'ssn1mxsfoa', 'fw8elbnap7', 'photographer', 'brian', 'ruebs', 'endures', '4500', 'climb', 'capture', 'bride', 'groom', 'jxhazebnqk', 'arabian', 'vijfnhl630', 'wilbraham', 'anthonys', 'considering', 'everytime', '9jxb3rx8mf', 'linkury', 'b5s5epj7um', 'hpa9gqrywa', '2011', 'gallup', 'ari', 'qdmvtj4lzj', '4tiles', 'zacb_', 'dell', 'win10', '2nip3d15dx', 'egyfnlaoqv', 'qpur3vd7hl', 'abbswinston', 'zionist', 'kidnapped', 'overnight', 'palestinian', 'villages', 'j5mkcbkcov', 'smiles', 'july', 'australian', '4yi4nuovbv', 'yahoo7', 'recycling', 'chemicals', '1916', 'continually', 'strives', 'maintain', 'eco', 'friendly', 'existence', 'ns', '8ddijzynkf', '52uus4tfn3', 'timkaine', 'deserves', '578gunp8t9', 'bridges', 'biggest', 'ipod', 'weloveyoulouis', 'tryna', 'disneyirh', 'tatzfk63ch', 'oneonta', 'staten', 'colder', 'earbuds', 'realize', 'politely', 'jared', 'unless', 'revolution', 'boksburg', 'marksmaponyane', 'sundowns', 'previous', 'meeting', 'celtic', 'indeed', 'improvement', 'barackobama', 'mccain', 'whoops', 'photographed', 'chilling', 'jnromse1z2', 'acmilan', 'w6yu7qs4cv', 'screw', 'cupcake', 'cramp', 'ìñ', 'reblogged', 'picture', 'scars', 'visit', 'sqn4girdvz', 'wgwiqmicl1', 'raheelsharif', 'manifesting', 'helm', 'stormy', 'lesotho', 'dorado', 'thomashcrown', 'grandfather', '95', 'predictions', 'visited', 'humbled', 'november', 'acc1z5q9zw', 'alanhahn', 'hdumpty39', 'daughtery', 'emotionally', 'rants', 'factual', 'basis', 'wasington', 'pms4pmur0q', 'russaky89', 'eastatlanta', 'westgeorgia', 'wce', '_explicitpretty', 'eqjcpwilvn', 'reject', 'russian', 'initiative', 'alliance', 'assad', 'regime', 'complaining', 'emblem', 'turns', 'ray', 'gigant', 'difficulty', 'option', 'tribal', 'turned', 'madinah', 'prophetmuhammad', 'naperville', 'slipped', 'zhgu8ye1bj', 'silvermoon', 'ironforge', 'fel', 'zakuun', 'x1onv3d5ux', 'armory', 'announcement', 'chem', 'wbogs8ejsj', 'factory', 'worker', 'pays', '17000', 'n8ezfctfce', 'activision', 'cognizant', 'gknrp0e8qs', 'fitness', 'pumbrnebje', 'canaanites', 'hz4lkffc59', 'worldnetdaily', 'homosexuality', 'downfall', 'society', 'barbara', '1945', 'ow4gexynbh', 'highway', 'suv', 'ajtxuafoem', 'add', 'familia', 'beaumont', 'respond', 'benews', 'pme0hojvya', 'baseball', 'tri', 'cities', 'wash', 'edyfo6e2pu', 'm5kxlpkfa1', 'homra', 'turn', 'retract', 'pam', 'tbbobvcotj', 'wordpressdotcom', 'elvy', 'ohyayyyyay', 'k9cd0efvut', 'portage', 'curb', 'responder', 'wtafaepukz', 'somerset', 'sale', 'aqua', 'scghl0piq6', 'chases', 'weak', 'eic', 'dm0uupqgwy', 'resulted', 'adz8kburt7', 'jun', 'yemenis', 'ûªa', '11juzhlgmt', 'pig', 'symbol', 'stds', 'rejected', 'slogan', '20skyhawkmm20', 'traplord_29', 'fredosantana300', 'lilreese300', 'hella', 'mosh', 'pits', 'rocky', 'mountains', 'wwii', 'lessons', 'mtgfx3efiv', 'rapidcity', 'cheyenne', 'toiindianews', 'ofcourse', 'crossed', 'caued', 'washing', 'republica', 'dominicana', 'losdelsonido', 'declares', 'saipan', 'signs', 'declaration', 'ivanberroa', 'golf', 'mcilroy', 'fuels', 'pga', 'speculation', 'rory', 'fueled', 'speculatio', 'dcyyjvmxhr', 'honeybunzgem', 'primalkitchen', 'stages', 'tuicruises', 'aida_de', 'cruise', 'whales', 'faroe', 'cont', '3a3fgzfmzh', 'catharines', 'wider', 'variety', 'therapies', 'ptsd', 'g0q0bzbjli', 'exyr6c5qpu', 'militarydotcom', 'danielkemp6', 'likened', 'steps', 'shepherd', 'producer', 'fel4qhwyfd', 'lone', 'i_electrocute', 'bandar', 'lampung', 'indonesia', 'dan', 'cunayyh', 'taufikcj', 'mediterran', 'zg1yddywa5', 'dodxi41y1cåêis', 'lyrically', 'hlmyaanrc9', 'doctors', 'nurses', 'pediatric', 'department', 'specialized', 'k1tmlwvjmj', 'lauderdale', 'frustrated', 'quantit', 'û_https', '64cymg1ltg', 'scourgue', 'tunein', 'player', 'xssgedsbh4', 'paranaque', 'cover', 'aztec', 'nm', '40mln', 'designs', 'sputnik', '0dxvz7fdh3', 'cracker', 'cc7d0wxk0m', 'cllrraymogford', 'comprehensive', 'porto', 'alegre', 'grande', 'sul', 'waking', 'kooks', 'annihilation', 'tonto', 'horse', '0fekgyby5f', 'insides', 'customized', 'dcubecrafts', 'greetingcards', 't07qxp5cbe', 'abuja', 'mkqsvp8e0g', 'nursing', 'bre_morrow', 'eaten', 'fill', 'danbury', 'seemed', 'transformed', 'unconscious', 'tc', 'henderson', 'dignity', 'rn', '7a', '30p', 'siena', 'fdiu44jldj', 'bodìü', 'norge', 'person', 'ethereal', 'c0nkgp6w03åê', 'imwmfdjssn', 'exchange', 'gunfire', 'hworb1n6vn', 'tuzacdwfqd', 'soufside', 'selling', 'weed', 'yall', 'fionagilbert_', 'delay', 'applications', 'arlington', 'truckcrash', 'overturns', 'fortworth', 'interstate', 'rs22lj4qfp', 'ld0uniyw4k', 'gypsy', '66yvulizbk', 'nova', 'scotia', 'sa5cdwvdxt', 'browardcounty', 'alot', 'kidneys', 'bellevue', 'darkreading', '8eijdxapnp', 'smb', 'relay', 'steals', 'credentials', 'legit', '4kus', '15moferadio', 'heavybag201', 'battle_dom', 'qotring', 'battlerapchris', 'hughes1128', '7spydy1csc', 'helder', 'rijkswerf', 'navy', 'sidelines', 'newest', 'subs', '9wqixgmhfh', 'krasnodar', 'pm2tnnfdww', 'washingtonpost', 'friend59', 'pics', 't94lnfwf34', 'rocyyei2dm', 'domingo', 'alma', 'rosa', 'soloquiero', 'firefighte', 'colo', 'lzkely', 'mama', 'thuggin', 'homies', 'inmate', 'magnolia', 'fiore', 'coldmpress', 'commiting', 'villagers', 'passengers', '9lpf4v4hmq', 'hashd', 'shaabi', 'theft', '2ag9auabr3', 'qna4tubnwh', 'stewart', 'julian', 'anp9g6njfd', 'gexhzu1vk8', 'highly', 'fanboys', 'accounts', 'cancelled', 'penny', 'sized', 'bellalinn', 'alrighty', 'scegnews', 'neighborhood', 'etisalat', 'mb', '100mb', 'tecno', 'q1', 'ime', 'avzsyie1nt', 'racist', 'elitist', 'zdj2hyf6ro', 'knoxville', 'advisory', '10pm', '00pm', 'urban', 'semw5cq7dg', '1hlvrkwgip', 'megaquake', '9f3rdn9n3d', 'annajhm', 'jcomanse', 'paul_staubs', 'rslm72254', 'blanktgt', 'fartanxiety', '115film', 'doctor', 'immediately', 'core', 'unstable', 'kentucky', 'irishspy', 'sucked', 'selma2oakland', 'worried', 'losing', 'disgusting', 'tsutomi', 'yamaguchi', 'blasts', 'otd', 'daalpenzp0', 'adelaide', 'wnd', '030', 'cld', 'sct014', 'bkn032', 'exp', 'inst', 'apch', 'rwy', 'oper', '2030', 'taxiways', 'foxtrot', 'navbl', 'tmp', 'switzerland', '320', 'ir', 'icemoon', 'ynxnvvkcda', 'djicemoon', 'dubstep', 'trapmusic', 'dnb', 'ices', 'weqpesenku', 'view', 'editorial', 'longs', 'cas', 'rhxmghspd7', 'enews', 'affleck', 'eonlinechat', 'complex', '14028', 'contained', 'trinity', 'lfnippnoto', 'yg697fcqgr', 'jkl', '4e719w6m4v', 'wx', 'freddy', 'fazbears', 'pizzeria', 'drag0nking0201', 'animatronics', 'shower', 'fresno', 'network', 'sww0qsmxvm', 'bcdp4gkoka', 'breachgamingorg', 'ksa', 'riyadh', 'organic', 'horn', 'expander', 'earrings', 'jewelry', 'nvzdilrfgj', 'u9cd0txe7z', 'artumhmbhh', 'vgzgok5k3s', 'njenga', 'hero', 'razing', 'ywkk26arag', 'sink', 'holes', 'slides', 'avalanches', 'xrrlnhelap', 'usgs', 'emsc', 'm1', '94', '04', 'utc', 'zdtoyd8ebj', 'tradcatknights', 'slam', 'knocks', '20k', 'customers', 'sky9eokggb', '5iyzsda6xb', 'bowl', 'ecsu16', 'newlyweds', 'hosting', 'banquet', 'dinner', 'xzv0lt9zzk', 'latin', 'm2y9ym3if6', 'nada', 'otrametlife', 'pty9hrcuzh', 'mentor', 'dislike', 'todays', 'femnism', 'movement', 'r7pvtsduma', 'ltyefjdm3a', 'indiatv', '0la1aw9uud', 'maid', 'dh30000', 'sponsor', 'y35qtvdsoh', 'qhujajctr5', '8hgcbxukz0', '4kopkcyvtt', 'mythgriy', 'ujnrgfangj', 'tmipegqyev', 'campo', 'ms', 'dfyasvj7nf', 'detailed', 'toxicsavior_', 'froze', 'hated', 'frostburg', 'nostalgia', 'numenor', 'haley', 'lu', 'richardson', 'review', 'oobscfoktq', 'konoha', 'meetkakarotto', 'bother', 'offline', 'managed', 'hinata', 'avv6hpnpch', 'lzk', 'sharp', 'auxsmdg1un', 'tim_a_roberts', 'nana', 'restlessness', 'damnnnn', 'gmcr', '26', 'whomever', 'accordingly', 'minister', 'buzzfeed', 'qsipl1c9fa', 'smith', 'fri', 'pwjjimrfly', 'nlccollide', '3w0pxfyyri', 'redding', 'column', 'above', 'blake', 'routecomplex', 'yqg5pvw5gx', 'j6wseptxga', '5sosfam', 'qwgiwc9w7z', 'drift', 'storming', 'bebacksoon', 'whippany', '9lyx7zmthe', '5pbc96rtmj', '9km', 'ssw', 'anza', 'jakegint', 'bothered', 'traditionalist', 'jkt48', 'muse', 'a7x', 'roh3', 'jfb', 'tfb', 'alrasyid448iturasya', 'izjtoojzkp', 'smantibatam', 'roh3smantibatam', 'lenn_len', 'bishops', 'stortford', 'lindasocvat', 'tflbusalerts', 'cow', 'slow', 'htx', 'hastle', 'drug', 'tested', 'tb', 'document', 'filling', 'tt', 'kettlebell', 'blueprint', 'chris', 'lopez', 'hindsight', 'jhmnye', 'fifth', 'dynastic', 'legendary', 'period', 'yr8knephgu', 'dumuzid', 'owen', 'bullet', 'rapidly', 'kerricktrial', 'twcnewsclt', 'nnbexhklhr', 'theghostparty', 'vines', 'disrupted', 'cta', '6ezkoof2xt', 'facm78eg7k', 'southeast', 'asia', 'l90dcpv9zu', 'aveiro', 'lonely', '53', 'marilyn', 'monroe', 'ripriprip', 'z8xiqngulc', 'basics', 'defective', 'intertissue', 'mate', 'milk', 'host', 'guabxfv', 'uzsqzycb8x', 'csaresu', 'sdmrzgeryx', '540', 'median', 'motorcycle', 'traveling', 'p18lzrlmy6', 'likwqhshhx', 'nbcnews', 'chills', 'honeymoon', 'jaureguiswisdom', 'ive', 'sooo', 'notifications', 'hollyorange8', 'emotions', 'mash', 'bonn1egreer', 'propelled', 'leaves', 'piles', 'tides', 'ashxjonespr', '_ashj', 'v4br5gjmiy', 'newark', '4i0rkcbk1d', 'son', 'savior', 'telnet', '124', '172', 'streamyx', 'southern', 'conversation', 'tunisian', 'bardo', '1fvootqnej', 'nikostar', 'abject', 'subway', 'restaurants', 'lara', 'likes', 'teeth', 'flesh', 'clawing', 'j43nwkx0x3', 'midlands', 'bbcengland', 'burst', 'main', 'q4kgftc2am', '6w6a2l4qae', 'omg', 'rku0idm6aq', 'northerncalifornia', 'monijjth7v', 'zippednews', '0yxbb5dzw5', 'flushes', 'gtfo', 'txg7k2do9v', '11th', 'dimension', 'hunchback', 'notre', 'notoriousd12', 'choke', 'tube4nbqnz', 'rida', 'yucatìán', 'babe', 'nepa', '570', 'scourge', 'whedonesque', 'fanged', 'q0jhdcu6ly', 'creation', 'ai', 'workforce', 'contact', 'inequality', 'yea', '15th', 'kgswhsr7mn', 'teamsurvivors', 'zombiefunrun2014', 'tagged', 'attackonstiles', 'millions', 'punk', 'hang', 'alpha', 'doll', 'latssuo4ws', 'chennai', 'disowned', 'kasab', 'disowns', 'naved', 'captured', 'hgdrk81sn4', 'tipster', 'previews', 'swansea', 'pfsryjs1pc', 'skdbot7tgf', 'kerry', 'camilacabello97', 'suryaray', 'ptq3zmgnck', 'alcoholandmetal', 'trusted', 'xeni', 'bet', 'mother', 'marysville', 'fence', 'homeowners', 'vlaiuvtomm', 'ajpnebg803', 'multiverse', 'awaits', 'kinda', 'shii', 'pun', 'intended', 'pr', 'treyarch', 'davidvonderhaar', 'quarters', 'pontevedra', 'galicia', 'metallica', 'inc', 'bangtan', 'bts', 'franklin', 'antiochhickoryhollow', 'lyallpur', 'jhpdssvhve', 'build', 'lion', 'unfolded', 'dq3ddgvgbf', 'cricket', 'vista', 'wspuxorewb', 'cindy', 'noonan', 'cindynoonan', 'heartbreak', 'baltimore', 'yahistorical', 'undergroundrailraod', '96km', 'brenas', 'puerto', 'rico', 'time2015', '34', 'utc2015', 'sdzrrfzhmy', 'busty', 'blonde', 'natalia', 'starr', 'fucks', 'guard', 'qew4c5m1xd', '28pm', 'edt', 'd02sbm0ojs', 'wxky', 'jrowah', '3934', 'grh7zlk979', 'mango', 'juice', 'aphl', 'responds', 'transport', 'germs', 'anthrax', 'mishaps', 'cgdj3drso9', 'age', 'arrestpastornganga', 'officers', 'collaborating', 'carregado', 'hurt', 'midnight', 'pageparkescorp', 'chloeunguyen', 'laurensicle', 'charstevens97', 'tiara_marei', 'gemma', 'bowe', '9wowps78vd', 'chambered_blood', 'speakingfromexperience', 'klavierstuk', 'lvg', 'spurs', 'smaller', 'blind', 'lcb', 'cl', 'missouri', 'awadgolf', 'gop', 'capitalist', 'voted', 'elect', 'thejenmorillo', 'district', 'gentrification', 'alllivesmatter', 'incredibly', 'necessary', 'legio', 'ucbfgibfor', 'muhamadjabal', 'cancel', 'aknynpv461', 'elevator', 'decided', 'noses', 'button', 'mainly', 'warship', 'iranian', 'hfzk09mcen', 'wmnonhxeir', 'bannukes', 'alert', 'units', 'simulate', 'nu', 'ndgpwyxu6h', 'ian_hellfire', 'ignored', 'fadc', 'bleed', 'greatest', 'masterpiece', 'unites', 'caneyttwev', 'ljp', 'chonce', 'cryibg', 'portsmouth', 'blame', 'cuz', 'cart', 'common', 'race', 'bounce', 'churchill', 'leaking', 'sewage', 'housing', 'estate', 'irish', 'italianåêalps', '8bhvxx2xl9', '4ou8s82hxj', 'zsdvweglf5', 'commoditiesåêare', 'crashing', '2008', 'njd1n5txxe', 'alex', 'mika', 'ego_resolution', 'heal', '1000', 'eureka', 'humboldt', 'cty', 'sheriff', 'office', 'residence', 'lassics', 'eruzbuqzyu', '12000', 'repatriated', 'cameroon', 'avwe1lbvhn', 'bill_roose', 'depressing', 'intragenerational', 'sandra', 'bland', 'zweygphpf7', 'kasiakosek', 'desk', 'skye', 'horny', 'juicy', 'pussy', 'pounded', 'tales', 'trees', 'xuhmj098lq', 'ri', 'lisnaskea', 'woken', 'y8h5v1j2y7', 'blockage', 'woodward', 'northbound', 'davison', 'shoalstraffic', 'conscience', 'affects', 'pocket', 'tr', 'eysvvza7qm', 'hollywood', 'dissuaded', 'victims', 'j3cirxjfa6', 'reckon', 'brain', 'dmt', 'relive', 'simulation', 'foo', 'fighters', 'surry', 'lengths', 'amrox4y4nx', 'expert', 'prepper', 'grid', 'avvsoino8z', 'voyruxcrin', 'strong', 'bernardino', 'qcyqhvn2ha', '2005', 'spider', 'someones', 'wrist', 'smth', 'gadget', 'jtxji7ygrl', '2be7bwcmpl', 'ahhtheenikki', 'responded', 'gunman', 'quickly', 'legna989', 'correct', 'sides', 'fb', 'rep', 'quilmes', 'arg', 'desperation', 'dislocation', 'separation', 'condemnation', 'revelation', 'isolation', 'bounty', 'hunters', 'surrounded', 'dgelj8ryt9', 'dlh', 'a0ad8z5vsr', 'yoenis', 'production', 'identification', 'bqv3qttuxr', '0drqlrsgy5', 'ariana', 'favs', 'cp7c1ch0zu', 'cargo', 'onesie', 'recalled', 'choking', '0pamznyyuw', '3939', 'akron', '5qyczywkgg', 'canadasuicide', 'ktd5ig9m5o', 'evolve', 'hua', 'gainesville', 'meek', 'sensitive', 'talking', '2jhtlwuey0', 'fact', 'muscle', 'fluid', 'strains', 'sprains', 'g0dn1chluo', 'abomination', 'maketh', 'antichrist', 'desecrates', 'jerusalem', 'matt', 'onnnn', 'sounders', 'finish', 'swea', '4zqrsaqrrt', '6ar3ukvsxw', 'jerseyville', 'flatliners', 'balance', 'longevity', 'lucifer', 'wcfpznsn9u', 'wrap', 'un', 'warns', 'female', 'vsvy1qe69t', 'pbs', 'el_torro_loco', 'homers', 'tulowitzki', 'epic_insanity', 'grimrail', 'depot', 'wplrhbfhee', 'eelex4ssvf', 'h6z7hxuqtu', 'yahoonews', 'rts', 'endorsements', 'christopherszen', 'hunterlove1995', 'tblack', 'brits', 'hsdbgciyrs', 'moscow', 'liquidation', 'usar2015', 'usar15', 'ruor', 'ggtmdquddo', 'stray', 'strangers', 'qhfqlui6ry', 'reshareworthy', 'bacon', 'admit', 'aomq1rykmj', 'ensure', 'veteran', 'access', 'highest', 'proper', 'treatmen', 'followme', 'annealiz1', 'simon', 'o_o', 'local_arsonist', 'genuine', 'ipad', 'jp', 'rcburzsb2b', 'ehsfklgri3', 'spinningbot', 'jorrynja', 'bf', 'gf', 'ter_ell', 'nprfreshair', 'skipping', 'debate', 'cymru', 'araul', 'mccainenl', 'spectacular', 'stonewall', 'young', 'aren', 'damsels', 'distress', 'peers', '5xrc0a76vd', 'ikeja', 'mrw', 'beneath', 'gif', 'comedy', 'ifunny', 'xiydyfptru', 'hayden', 'ryan', 'poses', 'strips', 'anderson', 'birdland', 'meridian', 'fd', 'wn', '02', '9ikhdyhvnc', 'therein', '200000', 'repeat', 'elisagxrcia', 'ely', 'cambridgeshire', 'incredulous', 'continued', 'outcry', 'waste', 'taxpayers', 'similar', 'objection', '100bn', 'skynews', 'scum', 'cancer', 'greg', 'garza', 'atlas', 'leones', 'negros', 'copa', 'mx', 'usmnt', 'po19h8ycnd', 'bb7ttdvjwe', 'loveland', 'kiwi_karyn', 'parking', 'johns', 'hpvodud7ip', 'darrellissa', 'deal', 'amazin', 'dey', 'dedication', 'motivation', 'ew5wzc07fo', 'mkayla', 'cee', 'room', 'petty', 'childish', 'earths_voice', 'tigers', 'appalling', 'businessmen', 'jlwhaowfqa', 'saveti', 'heared', 'priceless', 'chatham', 'christ', '9bliddngtf', 'hopeinchrist', 'lifelettercafe', 'newyear', 'yuo7jdnijx', 'deployed', 'cacheadvance', 'besides', 'remembering', 'rebecca', 'roga', 'murdered', 'hamas', 'egged', '361', 'preppers', 'doomsday', 'collection', 'cd', 'shtf', 'preppertalk', 'survival', '2a', 'vpqtgeqlma', 'towboat', 'trek', 'vtc', 'eaaqumkkc9', 'stfxuniversity', 'human', 'experiments', '731', 'vvplfqv58p', 'l5awtundhm', 'crato', 'gostei', 'um', 'vì_deo', 'christinartnd', 'bwe9kjcept', 'postcards', 'polaroids', 'bikini', 'mwnhappy', 'pls', 'alllll', 'nittys', 'stockwell', 'shakjn', 'c7', 'magnums', 'shaking', 'sophie', 'edition', 'i4aogcsoy5', 'djiwg9pxv4', 'gunfight', '2h0dpmv2ef', 'nantes', 'starbs', 'ut', 'jixscpmdud', 'stab', 'promise', 'spread', 'palmoil', 'increase', 'destroying', 'throughout', '4zn0mdsrvp', 'joel', '28', 'acts', 'rgpem2tqej', 'peach', 'suvs', 'dickheads', 'iron', 'fist', 'swing', 'fouseytube', 'zaynmalik', 'brbrs', 'fousey', 'springer', 'spaniel', 'dolphin', 'g03dkpoonp', 'go0hpi0b4c', 'est', 'metal', 'yao1e0xngw', 'tripsburg', 'babysweet420', '420', 'attached', 'cheat', 'cereal', 'i4', 'doctordryadma', 'dreamz', 'angelina', 'jolie', 'sef', 'espaì', 'spain', 'espagne', 'eastern', 'pacific', 'formation', 'hilda', 'ksxto8nknl', 'liverpool', 'homealone2', 'film4', 'pair', '27w', 'atv', 'utv', 'd3p88xdlec', 'j2ddvh7fy0', 'mum', 'picked', 'battery', 'sort', 'muppet', 'descriptions', 'cats', 'exciting', 'bjycrgfh5y', '152261', '106', '775995', 'lanjut', 'dirumah', 'yagitudeh', 'jake', 'rumah', 'cipinang', 'yilt1bb68k', 'catalinas', 'n0tawgezjx', 'growing', 'homecoming', 'prom', 'waters', 'socialnews', 'vmkexjtyg4', 'philly', 'lately', 'stressing', '_pokemoncards_', 'icequeenfroslas', 'calk5nv5vc', '19th', 'jul', 'attacks', '64', 'blamed', 'o2cdkpsdfp', 'zac', 'newsome', 'suncorp', 'profit', 'billion', 'cwz37lndvk', 'swedish', 'hiring', '4kdthctemv', 'thyzomvwu0', '83joo0xk29', 'etoffe', 'charmeuse', 'clothesless', 'precisionistic', 'vestment', 'psfda', 'demons', 'swim', 'ducks', 'elephants', 'flaming', 'countless', 'globe', 'orchestrated', 'corners', 'levels', 'g1bwl3dqqk', 'aep', 'pilots', 'vicinity', 'airports', 'kz35rgngjf', 'funkflex', 'flex', '2azxdlcxga', 'pittsburgh', 'gave', 'vocal', 'chords', 'workout', 'field', 'axvq80rbyj', 'funnydadcoach', 'brecksville', 'items', 'lnpscadaxr', 'croydon', 'sophieingle01', 'angharadjames16', 'gifts', 'banana', 'malt', 'loaf', 'worm', 'kuala', 'lumpur', 'ciwwuqthin', 'spoke', 'kennedy', 'avert', 'bolster', 'approval', 'socal', 'ybtheprophet', 'realhiphop', 'zpsnx5iyaj', 'desert', 'bedrooms', 'baths', 'palms', 'qms8rressd', 'zla30jcssq', 'olympia', 'fte', 'yu6nue7gfb', 'mourning', 'notices', 'stabbing', 'stir', 'grief', 'posters', 'shira', 'banki', '3gz5zqqthe', 'jonesboro', 'arkansas', 'reports', 'caution', 'wendell', 'berry', 'gulf', 'tn1ax1xmbb', 'neil_eastwood77', 'knobhead', 'duvuzhmvut', 'khanna', '4xb4zwyhct', 'bp6mfjhars', 'camberwell', 'gloria', 'gaynor', 'oktaviana', 'devi', 'hukjz1wt36', 'concur', 'spend', 'mmk', 'dxwfx56pwh', 'milton', 'keynes', 'slating', 'gpaulista5', 'jackwilshere', 'disgrace', 'afc', 'cunts', 'jeromekem', 'nq89drydbu', 'dj', 'nalathekoala', 'professional', 'deals', 'sequalae', 'consider', 'suicides', 'homicides', '5ebpybfh4d', 'deai', 'sqydkslfzp', 'cousins', 'osaka', 'hara', 'kiri', 'uo0aqk9kr8', 'recovered', 'airasia', 'semarang', 'parental', 'coral', 'offspring', 'preconditioning', 'adult', 'corals', 'increased', 'n9c3i9v8go', 'dependency', 'counselor', 'intern', 'skqpwsnoin', 'mkwyvm3i8r', 'ventura', 'doubt', 'implicit', 'statement', '5hljucxi0s', 'fifa16', 'season', 'tournaments', 'whocares', 'rvacchianonydn', 'surprise', 'queens', 'fanarmyfaceoff', 'kgtxnnbj7y', 'robdelaney', 'unable', 'ejaculating', 'blinker', 'kaiseiw', 'lily', 'xo', 'sexy', 'cowgirl', 'sticks', 'removing', 'karen', 'robinson', 'enviromental', '1meeo3wjco', 'positive', '852', 'sis', 'cam', 'giyaad7dcc', 'wgmzmj5imd', 'geometric', 'pattern', 'satchel', 'totes', 'qvsp6b2qsu', '0s6ydfrwdq', 'gasparc', 'bbsnews', 'hebron', 'gne1fw0xhe', 'victoriagittins', 'pfmn63vnam', 'vkwqbojfjc', 'sweater', 'natz5ipv1x', 'leaeby6cr2', '54', 'mchenry', 'tunnel', 'bore', 'nort', 'montana', 'spends', 'srslcxhc2t', 'qew', 'erie', 'approaching', 'niagara', 'vehicles', 'removed', 'gemini', 'distance', 'fitz', 'tantrums', 'league', 'pwd5l0glkv', 'feat', 'h9fsiaxv3q', 'livingsafely', 'parts', 'fwqfckncqw', 'jsunnews', 's7nbowa7tp', '3f7owdecy7', 'trillion', 'crosses', 'instant', 'travelelixir', 'helo', 'flying', 'apt', 'payday', 'loans', 'promote', 'finance', 'desire', 'liqd', 'fredonia', 'hahah', 'goof', 'guild', 'saunders', 'hkbxxvd9iw', 'djryanwolf', 'djcoreygrand', 'djknyce', 'djoneplustwo', 'officialcoredjs', 'standup', 'iamtonyneal', 'p6gqmctglj', 'spookyfob', 'feelslikefob', 'kindness', 'stump', 'asylum', 'seeker', 'zsykzj2bzg', 'austell', 'cornwall', 'rains', 'portaloos', 'sentient', 'fx7uzzxte4', 'benedict', 'cumberbatch', 'ûê', 'mariah', 'thick', 'manila', 'partnerships', 'afterhaiyan', 'ga14egplw9', 'haiyan', 'yolandaph', 'livelihood', 'disasterrecovery', 'render', 'gain', 'proxy', 'fortune', 'ssu', 'ks7ln8hq8s', 'rsn', 'mauds99', 'jagexsupport', 'ush59uq30j', 'password', 'kick', 'iso', 'psp', 'hbpnfoawii', 'bestnaijamade', 'ksawlyux02', 'residential', 'afternoon', 'rvkyj3yuvk', 'unlocked', 'braking', 'system', 'theatre', 'cmon', 'kontrolled', 'ww3', 'bs', 'dice', 'demonization', 'yorker', 't344phnpy9', 'dhaka', 'bangladsh', 'peaceful', 'civilization', 'guildford', 'holiday', 'sunbathe', 'drno7okm21', 'roar', 'rolling', 'dlvyfvnqee', 'westside', 'trunk', 'donå', 'illusions', 'fn', 'webcam', 'kessily', 'mishacollins', 'allthekidneybeansandsorbet4misha', 'bangkok', 'ajabrown', 'chinese', 'wmnb5ita5p', 'derbyshire', 'cable', 'ranefihbuk', 'mflrvbh4qa', 'mbiwa', 'rat', 'zzzz', 'vymnrnsthg', '1mvsqg0xke', 'cedar', 'rapids', 'warships', 'satisfying', 'battleship', 'silang', 'cavite', 'paraì', 'aque', 'untill', 'fe', 'studebaker', 'inj', '6uhih9pbru', 'screenshots', 'lovely', 'combat', 'magnum', 'opus', 'mudgu1puns', 'aqxwolbcfq', 'musician', 'kalle', 'mattson', 'recreates', 'classic', 'clever', 'vbswhz4s2v', 'stepkans', 'travelling', 'ingu6ztyg4', 'economy', 'chiswick', 'recipes', 'stew', 'arsonists', 'plastics', 'pcaldicott7', '7newsadl', 'r1xwdnvb0g', 'quedv2xxxx', 'barrington', 'hoffman', 'estates', 'afte', 'b6nphxorzg', 'scumbernauld', 'robert', 'ballew', 'statements', 'lansing', 'bigburgerboi55', 'footballs', 'spartans', 'crushing', 'sammysosita', 'blunt', 'ciggs', 'series', 'finale', 'thegame', 'tomcatarts', 'explaining', 'survivor', 'evolved', 'godlike', 'coffeeshop', '1952', 'dodge', 'wayne', 'bodied', 'window', 'libby', 'mcejzzxgh8', 'resemblance', 'abbott', 'campbell', 'perhaps', 'historic', 'applied', 'recently', 'exposed', 'childsexabuse', 'scale', 'tonymcguinness', 'creamfields', 'mainstage', 'kpivxgjnqt', '42', '910975', '78', '865828', 'heiekfchdm', 'laguna', 'clogs', 'jrdwyy0ax4', 'since1970the', 'depreciations', 'usd', 'b4federal', 'election', 'coincide', 'opposition', 'wgqkxmby3b', 'kediri', 'jawa', 'timur', 'muttatek', 'kwwwkwwwk', 'hug', 'jiahahahha', 'yeyeulala', 'wk63tm34a0', 'lim', 'leh', '9naw3qoqol', 'brunette', 'stretches', 'victorian', 'sofa', 'trip', 'skardu', 'nqnwktrhsa', 'saddle', 'accountable', 'preferable', 'brass', 'tawfmcaw', 'kamunt', 'holy', 'youuu', '90l2lb5wmr', 'mortal', 'kombat', 'predator', 'iggfnbixt5', 'grandeur', 'gfdhfmpcel', 'audio', 'differently', 'pt1', '9utqe9zfde', 'qpr1980', 'rorington95', 'nowt', 'fergie', 'drinkers', 'wenger', 'waukesha', 'rolo', 'dq', 'dire', 'radiant', 'b7omj7u3ei', 'mtmoia0oo0', 'nn4ztcmsru', 'westerland', 's5nuegswyj', 'remorse', 'poplar', 'dl', 'patch', 'error', 'symantec', 'computer', 'ergo', 'qdhxto57em', 'stones', 'bones', '600858', '047821', 'yvvpznzmxg', 'acquire', 'postexistence', 'elevation', 'addition', 'perquisite', 'brzjc', 'gorpuazikinak', 'tongue', 'puddle', 'awkward', 'e0lugbl6pb', 'upi', 'irannucleardeal', 'knox', '40121', 'sakhalintribune', 'eastward', 'gskjqwyi2d', 'ercjmnea', 'sunshine', 'slsandpet', 'sally', 'emailed', 'awol', 'argh', 'resigninshame', 'squirrel', 'yzzxxknism', 'zzsee5hipm', 'govt', 'remain', 'unite', 'freesikhpoliticalprisnors', 'bapusuratsingh', 'gerryconnolly', 'repdonbeyer', 'commute', 'debacle', 'clearly', 'mgr', 'semekeepschanging', 'soyeh', 'tagging', 'j3lyon', 'ffvii', 'exclamation', 'mark', 'midweek', 'auz', 'cst', 'radioriffrocks', 'pjlda9hd5v', 'hrs', 'hump', '3wnjauar7w', 'whitehouse', 'pearl', 'emptive', 'i2aag6lp6w', 'gained', 'earners', 'uclvihwoec', 'lightning_ooc', 'subjected', 'unwarranted', 'civilian', 'mistakes', 'mothernaturenetwork', 'thundersnow', 'extremely', 'uncommon', 'eydapaupvg', 'supply', 'install', 'frp', 'slide', 'tunas', 'kijangbank', 'negara', 'closing', 'zpqwkhfhnf', 'wakefield', 'yorkshire', 'stvmlly', 'safferoonicle', 'yell', 'beached', 'rqbspucjdf', 'supernovalester', 'ugh', 'jfc', 'saline', 'predicted', 'pendleton', 'drifting', 'temecula', 'zr5rgbgh03', 'englewood', 'idgaf', 'acting', 'borrowers', 'concerned', 'sbhhkkz01y', 'pizza', 'jake_adavis', 'fatality_us', 'cuddling', 'xpddwh5tem', 'greeley', '2acrgdqhj0', 'promises', 'communities', 'of3q75fgeu', 'startups', 'attempted', 'administration', 'jbrk8zsry6', 'baileysmsteach', 'û_ahhh', 'û_that', 'perrychat', 'cyprus', 'lead', 'victory', 'youtu', 'code', 'lzktjnox', 'zz0cewew64', 'epicenter', 'ad', 'wet', 'sbzwruwufh', 'hooligan', 'jailed', 'matches', 'uknews', 'q5mp2q6hy8', 'apocalpytic', 'breaks', 'y8wloctevc', '15p', 'nuff', 'pet', 'store', '7p', 'feikc9fxed', 'onlinecommunities', 'wired', 'comfortable', 'ylisse', 'masochisticmage', 'reckless', 'finnish', 'financing', 'secured', 'uhkxmxab9l', 'impairs', 'mental', 'individuals', 'zisuwlqrhf', 'penneys', 'xela', 'struggle', 'grateful', 'dcfd', 'chr3lyc', 'iaff36', 'doghouse', 'barcelona', 'alba', 'jyiegtnc6h', 'rnk', 'rockingham', 'stokes', 'l1gfxgozvx', 'tkjybjjskl', 'education', 'nelson', 'mandela', 'qr1l2jyuez', 'icon', 'cheese3d', 'chromsucks', 'jetstar', 'bali', 'flights', 'ash', 'raung', 'jtjofltms4', 'barbados', 'cruz', 'elizabeth', 'superintendent', 'lanford', 'vplr5hka2u', 'sxhw2tnnlf', 'enemies', 'warlord_queen', 'thrusts', 'jams', 'cock', 'womb', 'bossland', 'cxb55h37jn', 'rascal', 'flatts', 'tour', 'tickets', 'h6tyysgr30', 'durham', 'element', 'freedom', 'mirage', '7hanpcr5rk', 'delete', '9zmwt9xydz', 'tim_micallef', 'yankees', 'troubleonmymind', 'v4smaeslk5', 'flashflood', 'gilgit', 'farmland', '365disasters', '911f3ixrh0', 'collapses', 'chunks', 'onto', 'eeewo207mx', 'slappin', 'smackin', 'gulfport', 'realizations', 'cjuighbxyn', 'burford', 'council', 'fairie', 'tasted', 'feast', 'starving', 'trusting', 'jack', 'writes4coffee', 'sto58qa94c', 'iartg', 'rwa', 'tw4rw', 'rrbc', 'hermitage', 'chriscesq', 'voter', 'circus', 'stl', 'ace', 'grille', 'mounts', 'speedtech', 'lights', 'amber', '544', 't6seku4yvm', 'tjoz4u4txl', 'gemmahentsch', 'megynkelly', 'dloesch', 'envision', 'placing', 'adoption', 'lancasteronline', 'ph7wllkrfi', 'beard', 'any1', 'prison', 'hideous', 'uglypeople', 'mac', 'vuln', 'oxxrnab8un', '5u5gakx2ch', '695807', '837865', 'kg4vaal', 'lmaov', 'trend', 'babalmao', 'nyozi', 'kwaaaaa', 'heals', 'stays', 'tianta_', 'inundation', 'athens', 'surge', 'map', 'jzwrwlvlsj', 'ot3bjjhh8s', 'sioux', 'silo', '260th', 'hartford', 'titortau', 'loretta', 'lynch', 'fuckin', 'larious', 'realtime', 'checking', 'ombudsmanship', 'gzgpwsqymw', 'firenews', 'ay49mtyyl8', 'mofo', 'unarmed', 'gunned', 'worseits', 'asses', 'kca', 'votejkt48id', '12news', 'housed', '90th', 'osborn', 'extinguished', 'snapchat', 'fvck_casper', 'g62txymzbv', 'ekiti', 'distributed', 'ode', 'gbonyin', 'lga', 'bicycles', 'fences', 'fly', 'idiots', 'swollen', 'rivers', 'booktubeathon', 'supernatural', 'paved', 'pennies', 'ferry', 'lemairelee', 'danharmon', 'comics', 'nights', 'representative', 'sample', '140', 'blasting', 'benediction', 'sanelesstheory', 'sigeeq42cz', 'vai', 'vir', 'pra', '6acswzo7cw', 'draw', 'circle', 'jumps', 'cliffs', '3tnuaciv3c', 'sakorgdqul', 'location', 'premonitions', 'iikssjgbdn', 'ncjpgf6znv', 'gerjau74ey', 'booty', 'write', 'xv', 'fell', 'scraped', 'summer2k15', 'chazifornia', 'salute', 'frog', '2002', '81neizeknm', 'disrwhqgym', 'sm', 'm4tui0p9nt', 'mentioned', 'reporting', 'thedailyshow', 'mahalo', 'nui', 'loa', '20s', 'generation', 'jonvoyage', 'holomua', 'shadowman', 'monstrosities', 'tbpqlyfyot', 'hdckeposqc', 'annapolis', 'administrative', 'calls', 'mt029qj4ig', 'rbmucurs2f', 'modelbubbles', 'jordan', '7amdollela', '3la', 'kulli', '7aal', 'dhambp54ya', 'shawie17shawie', 'row', 'duh', '7paovyzttw', 'carmike', 'cinemas', 'behfhsppud', 'shark', 'third', 'adamtuss', '5000', 'wheel', 'climbing', 'vern', 'sq', 'miners', 'chile', 'starring', 'tyyfg4qqvm', 'elderly', 'companionship', 'chestertweetsuk', 'onvd9d4nkg', 'hhtwayt4yo', 'kissed', 'disasters', 'cracks', 'pour', 'swmo', '3ev07ppapn', 'strongly', 'suckers', 'plotted', 'vibrator', 'shaped', 'vape', 'busted', 'charlottetown', 'integrates', 'fat', 'format', 'interval', 'shaping', 'techniqu', 'xuzee2budv', 'rockville', 'glaucoma', 'occurs', 'builds', 'optic', 'nerve', 'eyefacts', 'restore', 'siding', 'mhl7pfr7kb', 'lou8lbla1f', 'darnley', 'prince', 'edward', 'decorating', 'rec', 'proceeds', 'iwk', 'earonlwifh', '8e7ry8ebmf', 'belongs', 'kacrlpjc0l', 'yjjbntcazy', 'cabin', 'fever', 'yxnagsqvbm', 'fail', 'immensely', 'e84ifmcczn', 'senseless', 'nonsense', 'strip', 'unknown', 'gopsicp8bm', 'beacon', 'dacherryontop13', 'ohh', 'swimming', 'planes', 'swindon', 'listening', 'grandad', 'mc', 'impressed', 'arsonistmusic', '1elreh1jlj', 'cascadia', 'kathrynschulz', 'amirite', 'antigua', 'bare', 'ngapain', 'marians', 'q3dtoqo04c', 'guaranteed', 'bitten', 'mutant', 'mosquito', 't8sv2ai7sw', 'acebabes', 'healthweekly1', 'amateurnester', 'pzeixi4xk7', 'elijah', 'walker', 'huriivfdkc', 'njd28pg9xv', 'obsolete', 'broad', 'bat', 'ashes2015', 'engvaus', 'a7tjawwtj7', 'warszawa', 'ashdod', 'discovered', 'emittin', 'swq5lmydka', 'dannyonpc', 'aauizggc9q', 'battlefield', 'hardline', 'throwingknifes', 'defendbutera', 'calfreedommom', 'steph93065', 'contributor', 'murderous', 'jmawrlt7hb', 'sorrower', 'l056yj2ioi', 'utmwmjirty', 'activates', 'approach', '8ihuco4glw', 'deflategate', 'perfectly', 'incremental', 'bored', 'caring', 'jwalkerlyle', 'nickcannon', 'realmandyrain', 'itunesmusic', 'dehmym5lpk', 'blowmandyup', 'horno', 'elkhorn', 'blvd', 'walerga', '5qhqo6ejtu', 'tiggr_', 'heyitsepark', 'opened', '107', 'facts', 'minions', 'looooool', 'list', 'famous', 'musicians', 'oppose', 'risks', 'wielding', 'pepper', 'spray', 'fake', 'connecto', 'motorcraft', 'wpt', '410', 'bsmj2hvgwd', 'bxalnedy49', 'violations', 'chattanooga', 'hddbmu2yca', 'sgxp1u5ol1', 'si02qrguka', '0c1y8g7e9p', 'rohingya', 'sittwe', 'return', 'cgf61fpmr0', 'conditions', 'ihhen', 'msf', 'church', 'media420', 'silent', 'papicongress', 'journo', 'pragnik', 'argues', 'pelosi', 'kiev', 'jnn0krnxvy', '5loiwuyv5r', 'visible', 'tucson', 'steep', 'terrain', 'zrtrpl77qv', 'dmac1043', 'origin', 'reddish', 'colored', 'dummies', 'pronouncing', 'space_wolverine', 'foul', 'somebody', 'needed', 'politifiact', 'harry', 'reid', 'served', 'pants', 'amymwwcpym', 'tcot', 'witness', 'cgmjlseylo', 'mikecroninwmur', 'bradleybrad47', 'bokaro', 'steel', 'jharkhand', 'kakajambori', 'yor', 'maintenance', 'distinct', 'rotation', 'condenses', 'villa', 'mcv', 'sub', 'fd9dzspugk', 'thr', 'thrarchives', '1928', 'mgm', 'tbt', 'wpkl2qniqw', 'bd52fxdvhq', 'hahaha', 'shoutout', 'j5onxfwlao', 'claiming', 'banthebomb', '6g49ywwsqj', 'bs6xaqhsim', 'ûïa', 'marker', 'y3zfqjsvpz', '79th', 'nosurrender', 'xehwmsh7lv', 'tozlet', 'leprosy', 'jerkface', 'syndrome', 'lateral', 'lisp', 'rickets', 'web', 'a0v1ybysod', 'åê', 'siren_voice', 'liveonstreamate', 'grant_factory', 'grants', 'funds', 'weymouth', 'seawalls', 'th2wlilbmo', 'vam5podgyw', 'zevakjapcz', 'za4axfjsvb', 'denton', 'gettin', 'bowling', 'da9lzton1c', 'redondo', 'babies', 'sockets', 'pleasanton', 'prompts', 'recall', 'kraft', 'cheese', 'singles', 'xgkyvf9t4f', 'u9bkqt6xhr', 'website', '300000', '1200000', '11000000', 'prci76howu', 'rtcufag0au', 'liberty', 'reds', 'lightly', 'reserved', 'halton', 'preventative', 'cabling', 'bracing', '905', '877', '8591', 'cts', 'cebu', 'philippi', 'al28rvkqpq', 'fbi', 'stole', 'honduran', 'minors', 'ndwep6izdq', 'hoop', 'present', 'snaymldiun', 'judge', 'dis', '5pm', 'zlco4ue5oq', 'dump', 'lordrsbiscuits', 'blackpool', 'afzqvotutj', 'darude', 'dudairbbpo', 'padosfyxnm', '1beegwrsis', 'scmp_news', 'drculiyp0t', 'kgb', 'cossack', 'ushanka', 'bla42rdt1o', 'einsqs8tfq', 'ripped', 'hole', 'saturn', 'eytay', 'neur0sis', 'zyrzx6dfki', 'smug', 'dorret', 'gateau', 'ziam', 'tattoos', 'respect', 'amarillo', 'nyt', '6cx46e7qb7', 'tayiorrmade', 'megatronafc', 'ankles', 'regardless', 'tgcr5vofj3', 'compete', 'badges', 'e65v80fcus', 'knowledge', 'foolish', 'wisdom', 'teaching', 'amsal', 'crowdtappers', 'joinvroom', 'elsa', 'anna', 'ohhhh', 'tangletalk', 'committee', 'personnel', 'drbcrypj4p', 'warm', 'jwiv6wyw6f', 'osage', 'qvs7o10bg3', 'm19ivwrdkk', 'tacoma', 'x2wn7o2a3w', '7ad0l7cgee', 'hhzql9tznp', 'firemen', 'firetruck', 'summertime', 'hcyajsacfj', 'pkfv8lksld', 'ellenfromnowon', 'speed', 'nexus', 'shifter', 'rjpjbwvfck', 'trinidad', 'tobago', 'disillusioned', 'character', 'crowe', 'tropes', 'intact', 'kinesiology', 'ironmanå', 'lasting', 'durability', 'effectiveness', 'ejymkzpeex', '0iyuntxduv', 'seas', 'giannis', 'submerged', 'reef', 'gn3whnsfib', 'fwpof5twoc', 'audacityjamesta', 'babes', 'lan', 'shady', 'hyenatown', 'james_justus', 'corn', 'flakes', 'cameron_wate', 'copycat', 'lvlh3w3awo', 'viwxy1xdyk', '4got', '81g18wsauk', 'circular', 'ruins', 'od2ratxrqs', 'codemew', 'opening', 'master', 'û_1', 'mil', 'credits', 'û_one', 'û_you', 'odds', 'auburn', 'ton', '160', 'trucks', 'scene', 'ahvymsqhqc', 'pnhpljho8e', 'jmcwrites', 'pitchwars', 'realism', 'diff', '64xr9ltnoh', 's0eyq1wehe', 'c5jutfxbm9', 'senior', 'bulletproof', 'funeral', 'uqssnaattu', 'curtain', 'uxp6poqjlb', 'becarefulharry', 'vmwtouyohm', 'x1392', 'utah', 'crobscarla', 'lifetime', '8015', 'bryansinger', 'reveals', 'rupaul', 'alexshipppp', 'oqw8jx6rts', 'chemical_babe', 'attend', 'rally', 'organized', 'protesting', 'bvckd9pdti', 'uonebahh3h', 'jasoncundy05', 'utd', 'pedro', 'mill', 'snake', 'yonews', 'lowndes', 'wkpzp1jcau', 'exposure', 'hzpx6vaqpz', 'l4w0pcorbs', 'broadcast', 'journalism', 'otherwise', 'quot', 'television', 'operations', 'superv', 'fgcu', 'quarrel', 'z8ij8ktkyk', 'rjkrraj', 'karnakarank', 'vimvith', 'wud', 'thalapathi', '9nyxjndora', 'turner', 'fenton', 'sg1ftkaegq', 'rkb7egkveb', 'particularly', 'ages', 'knbv2ytnwc', 'qz', 'taraswart', 'vivian_giang', 'ianokavo96', 'hogsmeade', 'alger', 'sandiego', 'trolley', 'wed', 'rvmmut3gvc', 'algeria', '58', 'jade', 'ybdsljw7c1', 'gaffney', 'dorrian', 'u4bdy1w7d4', 'harms', 'news4buffalo', 'guardrails', 'starts', 'johannesburg', 'achieve', 'excellence', 'develop', 'habit', 'matters', 'author', 'enterprise', 'identitytheft', 'taxreturn', 'cleaning', 'cri', 'gxqwd1qzbd', 'realhotcullen', 'lyrium', 'sacae', 'peacetime', '2010', 'streaming', 'vve3usesgf', 'surely', '370', 'gyqlaoz3l2', 'garowe', 'puntland', 'pckf0nl2yn', 'bah', 'gear', 'autumn', 'winter', 'menswear', 'urbanfashion', 'ccwzdtfbus', 'melrises', 'gayler1969', 'wwwbigbaldhead', 'jessienojoke', 'melissaross9847', 'monty', 'python', '_stiiilo', 'aogashima', 'oegfqbiqiq', 'photography', 'gross', 'lighting', 'leeds', 'blowers', 'tuffers', 'aussie', 'batting', 'bbctms', 'kevinedwardsjr', 'ncjlkqasuk', 'rays', 'mkx', 'gqskwqzuul', 'ymczyvkfme', 'albeit', 'unsuccessful', 'estimates', 'tens', 'mackinnon08', 'inbounds', 'bounds', 'nats', 'nl', 'l0deocxu6o', 'anywehere', 'status', 'buying', 'drinks', 'aliveafter5', 'sc4twjkxr1', 'yn6duotimr', 'slc27emugm', 'combined', 'isbtzujfbm', 'louisville', 'icy', 'rum', 'thisdayinhistory', '1862', 'confederate', 'crew', 'iw7elszifz', 'montetjwitter11', 'nolesfan05', 'nutsandboltssp', 'concern', 'restive', 'northwest', 'qv1rmzi3j1', '7old5mjwph', 'foodscare', 'offers2go', 'nestleindia', 'slips', 'loss', 'magginoodle', 'humanconsumption', 'nother', 'amateur', 'actress', 'reprises', 'role', 'horrormovies', 'w9cd6offcj', 'marches', 'doylech', 'persecution', 'wonderousallure', 'tipperary', 'sweetpea', 'allotment', 'brightening', 'rainy', '6ndbfopk5m', 'newberg', 'jacque', 'betz', 'orcot', 'orpol', 'dazqamoo0c', 'foxdebatequestions', 'institute', 'sharia', 'nsfw', 'milf', 'oiled', 'closeup', 'faogxkwdpg', 'backs', 'summit', 'rmucfjcazr', 'acaciapenn', 'jail', 'shidddd', 'schiphol', 'mail', 'seshqn5dsk', 'manitou', 'spirits', 'orders', 'mma', 'noted', 'zuqgvjneqa', 'bc19', 'presume', 'timeline', 'soggy', 'lashings', 'moist', 'knob', 'm6x1', 'thread', 'sqpshaws0w', 'udlebh88uz', 'zoipkpbd6o', 'gotta', 'frautrapani', 'cj76k0yayj', 'flow', 'lh9mrypdrj', 'mp3', 'pqhuthss3i', 'rar', '0iw6drf5x9', 'dissonance', 'soonergrunt', 'station', 'tons', 'telemarketing', 'maatmhi', 'barry', 'solo', 'generally', 'pickens', 'pea', 'scwx', 'tsaletftkt', 'hamont', 'edwin', 'chick', 'masturbates', '5qhoehe9hf', 'largo', 'controlled', 'passive', 'aggressively', 'coerced', 'commitment', 'bhopal', 'michaelwestbiz', 'e1', 'particulate', 'solid', 'fossil', 'voltaic', 'voc', 'petroleum', 'ch4', 'bacteria', 'decomposition', 'surgical', 'healed', 'jeannathomas', 'bit', 'vic', 'hardy', 'freeman', 'practicing', 'connecticut', 'wale', 'knows', 'bldrcosheriff', 'younger', 'era', 'cbsdenver', 'misfitrarity', 'misfit', 'jgdlx4faw8', 'ivwtynoujk', 'assured', 'crowd', 'investigated', 'kmxzho5tfm', 'albvdnwjtg', 'overload', 'context', 'structure', 's0ctcqjvjx', 'leyjwnnah8', 'treating', 'patient', 'dlizfkk30y', 'thestrain', 'wal4frtfka', '0f8xa4ih1u', 'hooters', 'peachtree', 'midget', 'ngkrzpza45', 'overhead', 'oakridge', 'sw', 'melt', 'zimbabwe', 'samaritans', 'v5yuualoqw', '263chat', 'twimbos', 'zimpapersviews', 'modern', 'au', 'lizz', 'untameddirewolf', 'sansa', 'shook', 'blinked', 'eug6zhciun', 'åèmgn', 'africaå', '263789f4', 'fdjuyvzmrv', 'wizkidayo', 'buffalo', '30s', 'htez4z48od', 'eq4rxc9bb3', 'meganbee92', 'kadiegrr', 'tyler', 'blackburns', 'pll', 'bjjoifzuhl', 'iywzallsn4', 'ushiocomics', 'submitting', 'form', 'generational', 'schism', 'privacy', 'dqtmtpqmbr', 'dmsnyptscy', 'h3dch6fyaw', 'peekskill', '10566', 'beet', 'luigmhma1i', 'dani_riot', 'team', 'weeks', 'lively', 'ttw', 'bumzvmwam3', 'towers', 'fotofill', 'gorgeous', 'watertown', 'gazette', 'jhc2rt0v9f', 'homemade', 'frozen', 'yogurt', 'pops', 'luck', 'yzazf4ceoa', 'x5rc5nuamh', 'zak_bagans', 'sabrina', 'cage', '1k2phqcuw8', 'pagasa', '12am', 'yellow', 'panay', 'guimaras', 'landslides', 'mountainous', 'trivium', 'rrusa', 'cubdnsnuvt', 'nasa', 'dggm5b0w4l', 'eyr2xx5l1p', 'erker', 'eep', 'w0exzad5gc', 'universityoflaw', 'eg1fskqbv6', 'freakiest', 'indi', 'ildbeje225', 'indiannews', '241cn8yxjq', 'kierannicholson', 'gmtty', 'mhtw4fnet', 'router', 'ddos', 'vxxmvgtzvg', 'gaming', 'ks94', 'ihphzckm41', 'wuicdttuhf', 'thursd', 'ibype1kaz5', 'nanaimo', 'hakogaku', 'åêi', 'born', 'raised', 'obp595w7tm', 'rv9dv6joew', '5fcjvml520', 'fvyrwhux8p', 'maddzz_babby', 'turning', 'lego', 'bricks', 'crazyideascollege', 'dh0s4buuk7', 'mclean', 'c_pinto001', 'orpik', 'taught', 'zfivvxydzy', 'ambulances', 'lorry', '9pfeaqeski', 'fntg70rnkx', 'emsne', 'fsc', 'emilee', 'milkshake', 'lk5uqkop1e', 'indexing', 'remedial', 'angioplasty', 'dissertation', 'elite', 'hospitals', 'dismayed', 'vgvjgr8zoo', 'worked', 'jimmyfallon', 'worstsummerjob', 'wearethenews', 'cosponsor', '928', 'renew911health', 'akcsl', 'venture', 'chosen', 'suitable', 'jariana', 'justinbieber', 'arianagrande', 'emily', 'helen', 'shelley', 'attjcdemos', 'folieacat', 'timebomb', 'destined', '40w', 'us70', 'teamvodg', 'flow397', 'atcha', 'golfball', 'sunny', 'parkchat', 'unsuckdcmetro', '82', 'interlocking', 'crashes', 'barrier', '15t', 'sa15t', 'padded', 'speaker', 'qty', '2jbibeib9g', 'p5ktaqw5qg', 'shadows', 'disappearance', 'novel', '_minimehh', 'cjoyner', 'overlooking', 'blacklivesmatter', 'lahore', 'profile', 'lamha', 'ba', 'icc_realckt', 'stung', 'stepped', 'x6asgrjswc', 'bfes5twbzt', 'dna', 'hebrooon', 'derivative', 'formula', 'maj', 'muzzamil', 'offr', 'kl4r1ccwct', 'sousse', 'tunis', 'myhhthsli3', 'invited', 'feelin', '9hkxxbb82o', 'joelsherman1', 'dw', 'chipper', 'sprinklers', 'faq', 'lawn', 'answered', 'ebb', 'carr', 'ijobz3mzp0', 'twoptwips', 'adding', 'headlines', 'sifting', 'generalnews', 'm9o08gurt4', 'schools', 'uganda', 'strikes', 'lit', 'ûªre', 'paying', 'influencers', 'socialtimes', 'ptc0xcragy', 'kemal_atlay', 'roleplay', 'jkd7cti2iw', 'lajn2n5e2d', 'jasonpope2', 'johnfugelsang', 'referring', 'ruled', 'dictator', 'p8yr2po6jn', 'nghlth', 'envyseven', 'aquarius', 'queenmy', 'pretenses', 'overtures', 'sing', 'phantom', 'songfor', 'cute', 'cams', 'nose', 'vbqmz5apwj', 'c2eyjnybfn', 'gt7gf0fsex', 'graduated', 'v5gtunwohy', '6peeip4y7w', 'williams', 'outcomes', 'term', 'metastatic', 'colorectal', 'journal', 'surgery', '5yl4dc1tqt', 'offensiveåêcontent', 'gllawb2fsk', '3kaafuoztc', 'shadowflame', 'wraith', 'ldbao0rsuz', 'angles', 'abc7eyewitness', 'abc7', 'hometownglory', 'disappear', 'atmospheric', 'thriller', 'tpoaprjudp', 'newz_sacramento', 'mzmandilynn', 'q5q1x5vcqk', 'inmates', 'remand', '1osmiuxkhw', 'kp2lf4aute', 'hvbj30aj9s', 'lhpgxc4b8j', 'pez', 'sophia', 'freyas', 'dozens', 'indiahttp', 'informationng', '309943', 'houma', 'womem', 'mommyisbomb', 'pol92mn8yz', 'unrelenting', 'dangerous', 's4srgrmqcz', 'salisbury', '325', 'cypress', '10am', 'oa6b0z2h6y', 'afk_10', 'dr_johanfranzen', 'orchs', 'frontlines', 'tyrant', 'cocoa', 'reopen', '35jyap0ul9', 'jones94kyle', 'sake', 'jmastrodonato', 'ortiz', 'bunting', 'forefathers', 'rg9yaybosa', 'boards', 'display', '582', 'workers', 'continue', 'gopdebate', 'independence', 'rowyso', 'setlist', 'songs', 'craig', 'vladimir', 'nvfkzv5fex', 'brics', 'jupiter', 'usnwsgov', '38pm', 'epzgg4uqji', 'prehistoric', 'theatres', 'k5knnwugwt', 'ipxpi3me16', 'authentic', 'pochette', 'bosphore', 'rv0fk7q4y5', 'pmhmmkspaq', 'playstation', 'ps1', 'retro', 'platform', 'platinum', 'deals_uk', '0gknpy4lua', 'terlingua', 'climatechange', 'czpdn9obit', 'anarchy', 'shores', 'kilby', 'padres', 'fiasco', 'jennife29916207', 'floated', 'peeked', 'mud', 'immune', 'deafening', 'ourselves', 'hermancranston', 'atk', 'letsfootball', 'skanndtyagi', 'dmtab6g7j7', 'outbid', 'lbpx8bucnv', 'catlow', 'c720', 'swivels', '3dc', 'shar', 'calories', 'pizzas', 'thisispublichealth', 'mark_argent', 'mohammed', '3mtwh0jjns', 'yobe', 'damaturu', 'bbqnk76qus', 'meerkat', 'fucked', 'periscope', 'scotts', 'depth', 'economies', 'coping', '0blkwcupzq', 'ft', 'nola', 'personal', '6sy44kyysd', 'allow', 'reiterate', 'mindset', 'individual', 'legion', '2lgtzkwmqw', 'chapel', 'undone', 'adverse', 'hits', 'gotriangle', 's7xdxuudcy', 'lqjjy1ptwt', 'purfleet', 'whereas', 'jez', 'simply', 'printing', 'genius', 'reffbkvg9r', 'clvlnd', 'bicycle', 'split', 'testicles', 'father', 'surprises', 'zdpvqmeezs', 'rand', 'qzdqrbr4lh', 'jesse', 'suffers', 'r4utnewlna', 'forsure', 'gym', 'waldo', '12u', 'cooperstown', 'dreams', 'joestrong', 'gokitgo', 'esk4yvzvap', 'whose', 'drako', 'zarharzar', 'imtygds5qo', 'guillermo', 'noaa', 'looping', 'aurugjegiq', 'l3w8mipvnt', 'o85m1bjfrw', 'hazards', 'recovery', 'recommend', 'hashtags', 'links', 'reads', 'dragon', 'wicdiv', 'tangled', 'ûïrichmond', 'jam', 'shkimonmlw', 'i1vpkq9yag', 'ty5gavn7uk', 'marked', '1mgvd4x5oe', 'ratings', 'categories', 'defined', 'odydt9qpk1', 'navigating', 'heavyåêrain', 'q3xq8r658r', 'cnmi', 'k3', 'prayforsaipan', 'enniscrone', 'aughris', 'sligo', 'motion', 'vjsaqpxngn', 'epa', 'begins', 'toxic', 'norkxbrs6g', 'laois', 'advertised', 'bff', 'igm2fcmupm', 'uxcfbj3mzx', 'tyrone', 'tastes', 'rubber', 'britishbakeoff', 'paulhollywood', 'frequent', 'gusty', 'uptown', 'midtown', 'kqjevyqzlv', 'cn', 'hmwhob7prs', 'modnao23', 'ruining', 'migraine', 'glasses', 'cihc8nrc9h', 'slytherin', 'tui9uwbvvp', 'rt_america', 'rt_com', 'lapse', 'fc3bxrthpg', 'biu4kowglz', 'l4wjhz4aj6', 'kmgdv7vsaz', 'bytsfms7md', 'islamophobe', 'vegetarian', 'vegan', 'torching', 'popular', 'bk', 'restaurant', 'strictly', 'kxplyom9rr', 'govegan', 'uniteblue', 'robpulsenews', 'huyovoetripolye', 'phillips', 'assisting', 'ldnr', 'organizations', 'xwnjysv9v9', 'neverland', 'km', 'pace', '46', 'nike', 'sportwatch', 'gps', 'nikeplus', '7d7vweq3es', 'toosoon', 'vdefmulx43', 'yqpaijsa5g', 'fraction', 'vital', 'econom', 'zsqm8ihe1k', 'candy', 'jet', 'illogical', 'opa', 'locka', 'osama', 'ironic', 'mhmmm', 'galveston', 'sixth', 'premium', 'galvnews', 'cm9tve2vsq', 'standwithpp', 'hxdg254dho', '407v1y4hhg', 'sidjsjdjekdjskdjd', '0vcsafx9by', 'court', 'session', 'testimony', 'examiner', 'discussing', 'gunshot', 'aracaju', 'sergipe', 'njturnpike', 'reopens', 'oabjztbvyz', 'gpbxrrdc07', 'cryptic', 'guided', 'nss5l64cvr', 'eu', 'squabble', 'immigration', 'eurotunnel', 'vf6cklmcsx', 'mm', '459', 'fdsaooiskj', '2uvmq4vafq', 'dartmouth', 'mayhem_114', 'qi8qdw5dfg', 'tyewzf3hqa', 'espn2', 'yewa', 'overcome', 'behold', 'tcc', 'catch', 'endless', 'eerkh8ljws', 'atleast', 'selfies', '3glyoyf6oc', 'jubail', 'ic', 'basildudin', 'barbaric', 'saudies', 'austrian', 'project', 'meditationbymsg', '45600', 'meditation', 'divine', 'blessing', 'vmf5lnxvzc', 'authorities', 'allay', 'glanders', 'equestrian', 'uotpnsqpz5', 'horsetalknz', 'solitude', 'summary', '4esbsa8int', 'utfire', 'cope', 'resilience', 'factsheet', 'fcfpijiqt5', 'van', 'buren', 'kjsvw06gbv', 'bieyguqpb1', 'bathtub', 'bett', 'smoak_queen', 'pointing', 'iucpcsfbmt', 'resident', 'usama', 'ladins', 'naturally', 'quest', 'murlo', 'android', 'tribez', 'pbclfsxrld', 'androidgames', 'gameinsight', 'odawara', 'okinawan', '1965', 'yvsjyzwxjr', 'fetch', 'pyjamas', 'k9asktwxfl', 'sfakqnveta', 'demco', '8550013', 'hitch', '21k', 'ultra', 'pivot', 'hrdwgfbfyq', 'nuohkmpzfj', 'uhc', 'creeper', 'salty', 'uninvestigated', 'incite', 'ezbtg81trz', '1061thetwister', 'maddie', 'tae', 'oktxduo', 'inåêchaos', 'xkonkz0zl6', 'dxvtgi1bvo', 'motha', 'lucysforsale', 'dumb', 'p4kofytkdx', 'robot_rainstorm', 'leagues', 'newbie', 'brrookkllyynnr', 'mithitennis', 'crackedgem', 'nqxqyi70w4', 'ride', 'riddler', 'primary', 'presidential', 'wannabe', 'certain', 'chances', 'rich', 'gpvzv0249y', 'iafflocal4416', 'protecting', 'tj_robertson2', 'laughing', 'davis', 'strawberries', 'mqydxrlae7', 'epjjkb4be9', 'matt_bez', 'bangin', 'sty', 'tu9cglmgvr', 'rochdale', 'heywood', 'wvexjjrg6e', 'enjoying', 'cramming', 'to0bpieyms', '7l6bhexixv', 'emosrmuvqa', 'cspan', 'prez', 'maker', 'stomach', 'terms', 'traditional', 'azure', 'cloud', 'seismicsoftware', 'channel', 'sales', 'enablement', 'kwmrcekvtf', 'zonnqgsxyw', 'afghan', 'nnylxhinpx', 'ljubljana', 'slovenia', 'horses', 'wvobvvtxkg', 'o4xljnav8f', 'japanjapan', 'inferior', 'anonymous', 'nytimes', 'baan', 'thai', 'sushi', 'udp10frxrl', 'jetixrestored', 'teamo', 'supremo', 'pogo', 'wblimlmt2x', 'pardon', 'mindless', 'niqqa', 'judgement', 'mpc', 'premature', 'fvlgu1nayr', 'plmiwofpom', 'opposite', 'r5bxzzhxkm', '6lojoorouk', 'madrid', 'comunidad', 'esn', 'cilla', 'stroke', 'f7a66diiyk', 'xqiadg9h2w', 'ypeelmjdzy', 'idols', '22days', 'wdym', 'bridport', 'seal', 'events', 'roman', 'gw0cxoojyv', 'msdizftz2g', 'buena', 'nora', 'jones', 'coursing', 'weyrey_gidi', 'maria', 'ukfloods', 'trekkers', 'himalayas', 'nsfzkfgznj', 'realistic', 'assets', 'entering', 'koz', '9zrqmd8ngz', '3942', 'meinlcymbals', 'medium', 'endorsement', 'starting', 'savioursquadåç', 'watches', '500th', 'duststormfilm', 'flunkie', '32', 'crowns', 'champions', 'championsblackfoot', 'v9i4pfxo0c', 'christiana', 'vgbootcamp', '7lvgcmyiyj', '109', 'sn', 'vabengal', 'zss', 'sws', 'captain', 'radios', 'stoponesounds', 'airwaves', 'g7s34sw2am', 'fm', 'stickynyc', '95roots', 'cdc', 'extensive', 'handling', 'bclqpwfdod', '204', '555', 'safe', '14cicptkna', 'balvanera', 'afterwards', 'savour', 'prolong', 'intensity', 'sigue', '2m1gneaifl', 'uqh85mip0v', 'rio2016', '9mtrq5jf4d', 'jesus', 'sara', 'misguided', 'prophets', 'imprison', 'fueling', 'disturb', 'kiddie', 'ploppy', 'bakersfield', 'kern', 'mornings', 'airing', 'kbak', 'cbs29', 'rorktmpqns', 'liveonkbak', 'edznx6goud', 'rg3bndkxjx', 'bq90pfzmrp', 'envw98', 'nickcocofree', 'juliedicaro', 'jdabe80', 'julie', 'frail', 'ish', 'despite', 'fantasticfour', 'cuana', 'minded', 'morning_joe', 'reince', 'presssec', 'joe', 'assholes', 'magnets', 'objects', 'btus5jejuy', 'zrtfxluk6r', 'woods', 'kurtschlichter', 'yep', '_freemarketeer', 'dibang', 'mdash', 'bronville', '6jjvcdn4ti', 'janta', 'firstpostin', 'cznxhutasx', '4am', 'laid', 'portion', 'w56cf75mxe', 'badotweet', 'beef', 'ministers', 'fennovoima', 'vb3vfm76ke', 'breakingnews', 'aaronthefm', 'drums', 'janice', 'silverstar58200', 'romero', 'cared', 'hutch', 'nia', 'quizzed', 'denies', 'ogzjokd7sv', 'elections', 'achedin', 'ell', 'rubybot', 'modiministry', 's43we7oe2i', 'rossum', 'difficultpeople', 'kama', 'damidnighter', 'theory', 'magisters', 'arent', 'dwarves', 'inspection', 'kkeh8qcgc3', 'kenai', 'spur', 'hbbgy2vzyt', 'cw500', 'dealing', 'jq9nj6gko3', 'mf', 'lyrical', 'vocalist', 'themale_madonna', 'melanie', 'fiona', 'slept', 'lose', 'lonelyness', 'strange', 'stressful', 'silas', 'sliced', 'headlinelike', 'chopped', 'cabbage', 'gh', 'sanganer', 'rahulkanwal', 'soft', 'rhodeisland', 'absurdly', 'ridiculous', 'manhood', 'vtp8i8qlen', 'drob', 'hughes', 'chair', 'rohnertparkdps', 'goofballs', 'pd', '1d', 'wwa', 'singing', 'p5jpjgiipw', 'auckland', 'unsure', 'paging', 'uxqkieqdyf', 'hagerstown', 'your4state', 'whag', 'filmed', 'lifting', 'aog5chjmvs', 'cln2sxzy1z', 'bnrdkgxavr', 'chrisdanielshow', 'pee', '1tvlfrhm1m', 'jogja', 'excellent', 'sega', 'flo8fgy35a', '150', 'wctv', 'pkuamxw6pm', 'amageddon', 'freespeech', 'pawvnj4sap', '5yrbegzafx', 'baydestrian', 'suddenly', 'gloomy', 'shakes', 'windows', 'x4ecggvnsn', 'misery', 'gazans', 'jw3hn9ewft', 'presstv', 'nywrkrq7kn', 'hrips_k', 'corpse', 'jittering', 'otp', 'grandma', 'ssshhheeesshh', 'gary', 'busey', 'plays', 'dixie', 'fiddle', 'celebration', 'sequence', 'chasing', 'jass', 'jusstdoitgirl', 'wbu', 'homie', 'antonio', 'chairs', 'emmy', 'iit', 'logically', 'sanction', 'uisnqiu3if', 'sneaking', 'glances', 'thancred', 'mogacola', 'zamtriossu', 'banditregina', 'caroline', 'bigsby', 'supermarket', 'nnmqlz91o9', 'o91f3cyy0r', '72', 'elkhart', 'appointment', '4914njpio3', 'lolo', 'paulo', 'e7shtylbnl', 'rafael', 'castillo', 'rcmp', 'confirm', 'tch', 'whitbourne', '0rokdutyun', 'christians', 'anger', '65xr1p9soo', 'mideast', 'ncms', 'thundering', 'tk65ske0zm', 'picthis', 'br7gmmh5ek', 'ûªm', 'amazingness', 'finall', 'thetimepast', 'saalon', 'resolved', 'theirs', 'actual', 'fricken', 'reflections', 'forms', 'delusion', 'seeking', 'pity', 'dxfqou4kt2', 'pyvrprnhop', 'dear', 'humanityi', 'apologized', 'nuclearweapons', 'twykzn4rlc', 'gusramzp1s', 'leicester', 'icymi', 'gl6eejyjky', 'wqtdnp3w5a', 'miranda', '521', 'kinkyconnors', 'tooth', 'fixed', 'absecon', '2009', 'xtf5dvgrvh', 'qkrltrd39b', 'macon', 'gawx', 'kaumelite', 'vor', 'smofc', 'byuwnbeki', 'tacit', 'raging', 'punpunlì', 'ndia', 'lobo_paranoico', 'golborne', 'businessman', 'condos', 'foiled', 'troupe', 'multi', 'racial', 'breakdancers', 'rss', 'illegally', 'imported', 'r6jdj9kigm', 'nxs3z1kxid', 'udkmadkuzy', 'tcgreno', 'reset', 'transporting', 'y3dm9ulqxg', 'hannover', 'x2qsjod40u', 'cpr', 'medical', 'panama', 'athlete', 'kfkaosh0kh', 'devil', 'cry', 'vergil', 'agnus', 'dmd', 'leedstraif', 'zhrtcvu0ff', 'cimubweyib', '9r5fsts7bd', 'sin', 'girlfriend', 'budapest', 'hungary', 'describing', 'technologies', 'sexuality', 'diagnosis', 'digitalhealth', 'hcsm', 'vxegcmmvbv', 'collar', 'cody', 'follows', 'crawling', 'hea', '1970', 'mercury', 'quarter', 'trim', 'moulding', 'cobra', '429cj', 'wqul8pg5px', '4ykxt3kd62', 'wings', 'xdxdprcpns', 'freegucci', 'texting', '7k', 'greensburg', 'lilithsaintcrow', 'evil', 'eswnsetftf', 'piano', 'yelllowheather', 'undeserving', 'thirsty', 'aids', 'grown', 'qbecjli7cx', 'sunnyvale', 'bentossell', 'producthunt', 'fy0r9o7xsl', 'puppies', 'cables', 'z4jyharrew', '8th', 'oqb7dasmvy', 'newbeginningsanimalrescue', 'llf', 'oqeq4uegf8', 'fez', 'dave', 'an3w16c8f6', 'heavyweight', 'rapping', 'lemon', 'lolla', 'yrfz5wj7r2', 'telly', 'structuring', 'cast', 'edcxo', 'burrow', 'dorette', 'thats', 'campers', 'blazes', 'wwgadpffkw', 'teamatowinner', 'mino', 'stuart', 'aussies', 'thetshirtkid', 'hfxstanfield', 'beelievedc', 'discoverycntr', 'contractor', 'danville', 'snowflake', 'boulder', 'greenharvard', 'documenting', '4q4zd7ou34', 'ford', 'drives', 'ixjjlp1lvo', 'bahstun', 'porta', 'reeko', 'papi', '1pack', '2pack', '3pack', 'fleek', 'ag65u29sgo', 'netflix', 'bhavana', 'advance', 'wqow', 'hj26sfddfi', 'later', 'asks', 'h9vmmdebdx', 'appraisal', 'mrospd9878', 'nz', '0ajisa5531', 'hugomatz', 'bubblycuteone', 'okayyyyyy', 'corey', 'brewer', '51', 'hhllqckcep', 'azimel', 'scientist', 'deceased', 'tumbling', 'investigation', '950109', '439469', 'pnnunrnqja', 'lovemywife1983', 'shedid', '4the', 'washard', 'stopping', 'time4me_sews', 'relaxinpr', 'miprv', 'latimes', 'ylhayfaoou', 'shedding', 'escondido', 'mcdonald', 'coolest', 'hawthorne', 'abe', 'pledged', 'seek', 'cbxnhhz6kd', 'boygbp0jw9', 'frightening', 'bdotq8dsln', 'somehow', 'letting', 'micom', 'contrast', 'color', 'bowknot', 'womengirls', 'zip', 'po', 'sqmtkkjimj', 'kate', 'infp', 'minsuwoongs', 'completely', 'understand', 'understanding', 'rotations', 'leaning', 'learni', 'wgl4lubnw1', 'mentality', 'nearest', 'trash', 'photogenic', 'gosh', 'xd', 'iminchina', 'yhqu5uv6ok', 'portable', 'closet', '3x', 'ebooks', 'medieval', 'files', 'dixon', 'aladdin', 'braoubgec2', 'fountain', 'teacher', 'tootrue', 'mcwd37iof9', 'gabriel', 'afraid', 'sudden', 'cometh', 'bp597yds2b', 'uvq41i3kx2', 'shore', 'h31knuwzz5', 'wailuku', 'maui', 'zu9yydf5di', 'cervix', 'odell', 'definitely', 'scotto519', 'believing', 'awake', 'cove', 'standing', 'hardball', 'heyot6', 'ore', 'ordered', 'sqsyueh4yi', 'koin6news', '199t7nd0pm', 'ly8x7rqbwn', 'mourns', 'superhero', 'epilepsy', 'bradley', 'diebold', 'epileptic', 'unsayjdtu7', 'standardized', 'tests', 'id667rlets', 'parentsacrossam', 'billgates', 'wishing', 'equally', 'incapable', 'nothingness', 'emerges', 'infinity', 'blaise', 'pascal', 'asbury', 'dadz5zfo1g', 'asburyparkpress', 'kfzvmxj9st', 'lifeguard', 'paztdblgyk', 'locke', 'positively', 'inning', 'efkcoegjck', 'preacher', 'faces', 'daplllfuqk', '1vjalja1sx', 'quincy', 'j3rtf2dt3x', 'khqa', 'simmering', 'nhl', 'concussion', 'pioneerpress', 'zl7fhucxhl', 'flushing', 'warthen', 'midst', 'bullpen', 'bubble', 'cardiff', 'benaffleck', 'respected', 'talent', 'stil', 'restricted', 'demonstratio', 'gwesgeszxv', 'currency', 'transgress', 'ward', 'fund', 'payment', 'unsecured', 'jbumzqpk', 'jlu2j5qs8u', 'praiz8', 'shite', 'utter', 'plez', 'spare', 'oom', 'suing', 'blizzheroes', 'dustinbrowder', 'chase', 'constantly', 'distraction', 'yuppies', 'tourists', 'layer', 'tryouts', 'minus', 'toenail', 'im2ad', 'urì', 'nus', 'brokenscnecal', 'lasvegaslocally', 'vitalvegas', 'reined', 'stool', 'malaysian', 'najib', 'razak', 'isla', 'fk1l4nozig', 'osuoivnigo', 'yrs', '120000', 'fcixk23xqh', 'iamhorsefly', 'hide', 'loose', 'ûïthe', 'ûïyou', 'warned', '4pqcmqchng', 'grtvnews', 'kk8cnppzmk', 'n08qluornx', 'toyu16mxbo', 'p10hndc0mm', 'scottwalker', 'typical', 'inroices', 'helps', 'preserve', 'ajw', 'x5jgkjv6ma', 'jishin_e', 'minamisoma', 'ljylxz1fbi', 'hsu', 'hao', 'flawless', 'paname', '4bcqzqjrzn', 'boundaries', 'unconsciously', 'negative', 'fnpdjwvw1j', 'cardboard', 'heartwarming', 'ginga', 'thinks', 'defeat', 'drago', 'walmart', 'innovative', 'z3nevglufm', 'lizbon', 'kidicalmassdc', 'breakdown', 'netkicorp', 'guests', 'eltne5v1qn', 'branch', 'surety', 'underwriter', 'product', 'pramklrmhz', '5sos', '57', 'languages', 'ldjet9tfmk', 'monterrey', 'despair', 'grindhouse', 'screening', 'texaschainsawmassacre', '1wopsgbvvv', 'morbidmovies', 'wowo', 'ptkrxtzjtv', 'piss', 'moan', 'choices', 'demeanor', 'staid', '202', 'brisk', 'myfitnesspal', 'nicosia', 'ought', 'c1xhizprad', 'victorinox', 'swiss', 'mop', '241487', 'yfy3nkkcoh', 'knehvvohvk', 'nv7rk63pgc', 'êwagger', 'ominicanì', 'lomasvisto', 'hipsters', 'devours', 'intersectio', 'qwtk1b2fmc', 'cadenadeseguidores', 'alvinnelson07', 'withstand', 'collisions', 'immediate', 'skiing', 'alexandria', 'chocolate', 'jan', 'moir', '2sgdofsmrq', 'xlegc6uora', 'suitland', 'officialtjonez', 'skills', 'korea', 'o8xvtlp4mf', 'varies', 'appreciativeinquiry', 'soea1ggbkj', 'cuvkf5ykax', 'seanhannity', 'hating', 'medford', 'hibdw7d7ja', 'provide', 'h6pm1w7ell', 'ipfzwwnxxp', 'heyseto', 'lytham', 'anne', 'grand', 'romeo', 'juliet', 'warmbodies', 'eqccrtlnbd', 'careful', 'afterlife', 'freed', 'bokoharam', 'captives', 'speak', 'ûïi', 'pk8dgvripw', 'rz0adzursw', 'khalidkkazi', 'todaysbigstock', 'stocks', 'foxa', 'cmcsa', 'sni', 'amcx', 'viab', 'twx', 'aqinavl1b6', 'nsw', 'explain', 'volcanoes', 'spouting', 'co2', 'willie_am_i', 'justthebottle', 'cooling', 'winechat', 'shrhkfj1bc', 'transfer', 'virgil', 'dijk', 'pvmr38lnva', 'decatur', 'rotterdam', 'benji_devos', 'partsunknown', 'dgatkrdyny', 'seagull07', 'aleisstokes', 'intelligencebar', 'modqnalwsb', '4c58ooavhy', 'libertygeek83', 'kissing', 'lej5onus9q', 'hw', 'ohlordy', 'izjk6kpwiz', 'fandom', 'panik', 'kelbytomlinson', 'hujvgsflus', 'sicamous', 'lizzie363', 'cstsmith', 'repair', '14000', 'thnk', 'float', 'abbyairshow', 'vxjcx8ukmd', 'pmharper', 'tornados', 'impacted', 'calwildfires', 'aftermath', 'wwxbgubww5', 'danryckert', 'drewscanlon', 'stealth', 'beats', 'silenced', 'm4', 'trillac_', 'murders', 'kuwait', 'vzpkn23rx4', 'japton', 'poss', 'blppzaiboe', 'qegmrhsms2', 'kristyleemusic', 'attic', 'b7zwevsrgo', 'naturaldisasters', 'tqwrw3jqwo', 'schelbertgeorg', 'ren', 'damatu', 'rzxqssun02', 'home2', 'suites', 'offices', 'salvi', 'bistro', 'paobghv3c7', 'goals', 'tix', 'fury', 'xvii', 'aa', 'kbtzzzg2tp', 'didnt', 'rbrw8pwipj', 'worldoil', 'subscription', 'kqvevuutdj', 'corii', 'spoil', 'l3gizrucy4', 'wishlist', 'hgedwxtdjn', 'exc', 'crcn8rwvkj', 'daorcey', 'nsit_', 'graywardens', 'bizzlemahomie', 'hamptonroadsfor', '9qnq45zduw', 'dhyljllrhl', 'slave', 'trade', 'coastal', 'shared', '2jxkmkpalp', 'ec46lyqqc6', 'kxy56fr8vm', 'wwi', 'mido', 'ww1', 'f9j3l2yjl4', 'mwwwowcayo', 'bozeman', 'names', 'deployments', 'deeds', 'n6zflxigvr', 'swinfo', 'dot', 'offloading', 'obfd7e4qcp', 'yazje5owvk', 'stuntfm', 'di5arr6hq6', 'torrent', 'recommended', 'java', 'scariest', 'lec1vms7x2', 'mentions', 'spike', '30min', 'prior', 'ckec', 'uubovy9gqi', 'abha', 'avoid', '1xw0z8zeqw', '3pcntczoxv', 'n0akjm1e4b', 'methville', '3nuih6pkui', '2ufcc6gh3m', 'flipadelphia', 'soonermagic_', 'sounding', 'infantry', 'mens', 'lume', 'dial', 'analog', 'quartz', 'nylon', 'fabric', 'hep9k0xghb', '80ebvglmra', 'snap', 'tools', 'cap', 'gray', 'embroidered', 'logo', 'mo7dbbdfvr', '0scnwe8xbv', 'brittanypetko', 'groton', 'prohibits', 'grills', 'decks', 'ke1zs6naml', 'wwat', 'victorious', 'rv', 'brentwood', 'o7qogmoegu', 'ssb4', 'losers', 'daisycuttertz', 'grogparty', 'tony_burke', 'imam', '2hours', 'wactt18gda', 'brains', 'smoking', 'lincoln', 'yahooschwab', 'rice', 'bulgarian', 'tittie', 'noemotion', 'produced', 'edk', 'pathfinders', 'hd', '9odqryjncf', 'bolshevik', 'monopolized', 'seize', 'hunhry', 'artificial', '0xouv7dhwz', 'beginners', 'tutorial', 'ia44nczlif', 'ogtuv1plht', 'plymouth', 'brobread', 'urogyn', 'mesh', 'talks', 'offenders', 'npoqlkqup9', 'meshnewsdesk', 'x1386', 'xkmlq99sjy', 'a3rgqucugo', 'everton', 'bid', 'wonderkid', 'nb1e7mnce5', 'omar_molina036', 'milioooo_', 'emilio', 'lawsonofficial', 'followed', 'contain', 'thankyou', 'zpxe3fmyng', 'woosley', 'im6m4xaen2', 'itsnasb', 'sarcasm', '__', 'alameda', 'njlqrqcnl9', 'surf_photo', 'squeezed', 'tear', 'blubber', 'baffling', 'telegraph', 'headline', 'rchs', 'players', 'coffins', 'locker', 'rooms', 'tommorow', 'alarmed', 'harassed', 'sbila2yqjq', 'beside', 'motors', '452', 'ed32pbvio7', '10x', '12v', '24v', 'tractor', 'ifm6v6480p', 'mile', 'mooresville', 'iredell', 'congestion', 'poorly', 'indie', 'fiction', 'escaping', 'farms', 'lnp', 'christianvalues', 'kp5dpoaf58', 'crptotech', 'banks', 'khztevedja', 'banking', 'bitcoing', 'blockchain', 'briannafrost', 'paxton', 'whelen', 'model', '295ss', 'amplifier', 'a5iwus8evq', 'gi82n2juwn', 'ashberxo', 'mind_mischief', 'traces', 'shaker', 'wyokt0ftrw', 'ouylwuixcs', 'northampton', 'jimmozel', 'puck', 'nashhmu', 'witter', 'skinless', 'c4news', 'sqgogj3s5r', 'nightbeat', 'veronicadlcruz', '2minutemix', 'trial', 'burglary', 'wftcrlz32p', 'watford', 'dopey', 'junsuisengen', 'changing', '03', '528', '530', '740', 'switch', 'oem', '20177', '707d', 'kvnahthuwz', 'y8xknpqmnj', 'km8ucihrrn', 'odu', 'tsunami_nopeach', 'antoniooooo', 'real_liam_payne', 'lungs', 'addtexastonext1dtour', 'z4ilb9y9nu', 'j295md1sow', 'hdvmhsqxhm', 'geneva', 'abyhrgss1s', 'heather', 'sparxxx', 'threesome', 'bakeofffriends', 'gains', 'rockyfire', 'jerry', 'heading', 'udhampuragain', 'rm50vcvjsh', 'david_hurn', 'tokteacher', 'skynet', '73umw2igrz', 'cakes', 'tvyqczgjdy', 'arthas', 'giveaway', 'dren', 'fhkhcqpl7j', 'ledmvezcol', 'railway', 'track', 'jdkqc12tid', 'warsaw', 'd8awx2okke', 'homefolks', 'opinionated', 'proposal', 'modernized', 'omw', 'omfg', 'drag', 'pandora', 'coworker', 'vzcvadkcqp', 'rip', 'jetengine', 'turbojet', 'boing', 'g90', 'kxxnszp6nk', 'marietta', 'stemming', 'cubs', 'rosters', 'arizzo44', 'jlester34', 'xgnjgle9eq', 'explosive', 'decisions', 'tween', 'lisowski', 'whitewashes', 'shanghai', 'masters', 'quals', 'mligpuhvoh', 'snooker', 'tcs2cd5y6y', 'stare', 'furious', '261', '0usdi5jcho', 'xyg7jhrjof', 'freezing', 'erally', 'unplug', 'myelf', 'lhh', 'mastered', 'biexwdldwc', 'lamia', 're_shrimplevy', 'napa', 'postal', 'agrees', 'sell', '7mepkbf9e8', 'brazos', 'languishing', 'exsqijf4ny', 'noirandeal', 'tedcruz2016', 'y7sipkb1kd', 'loathing', 'mas', 'min', 'deck', '0yo2l38ozr', 'peterborough', 'fowlers', 'frank', 'occupants', 'evanston', 'suppose', 'labs', 'northwestern', 'exitlxgisj', 'contruction', 'upgrading', 'ferries', 'standards', 'vashon', 'mukilteo', 'q13', 'e981dgskab', 'earthquakenews', 'piprhys', 'thetxi', 'gunnersfan89', 'ham', 'relegation', 'mermaid', 'whistled', 'skirt', 'managers', 'uniforms', 'implication', 'glove', 'fifty', 'dates', '5koho39oje', 'datingtips', 'goodreads', 'hwrf', 'lashes', 'taipei', 'cnkvile7be', 'u9fcb8dz3h', 'supreme', 'courts', 'szeapueuvy', 'devinjoslyn', 'cannon', 'ashayo', 'msmiggi', 'vods', 'presentation', 'hoxton', 'poignant', 'reminder', 'mwmt3bdr5l', 'scarier', 'uga', 'alumnus', 'annoying', 'crusty', 'phil', 'gravel', 'sobbing', 'endlessly', 'confused', 'randerson62', 'leaders', 'prayed', 'treated', 'wf8itk2kvx', 'huffpostrelig', 'wasnt', 'everwhe', 'x1x6d5enef', 'xhehjfft7g', 'gumptown', 'arobotlegion', 'oppressed', 'react', 'ignorant', 'jbjrg3ep1q', 'akure', 'ondo', 'mnsy1qr7bq', 'bsf', 'jawans', 'fidayeen', 'aks', 'insas', '1lk1eqwyuw', 'etribune', 'waziristan', 'acebreakingnews', 'jb038rdfak', 'awwww', 'rewatchingthepilot', 'teamscorpion', 'hinatobot', 'machine', 'firefighting', 'easternoregon', 'v6qxnfhrxf', 'rural', 'mccauleysdesign', 'abysmaljoiner', 'dyamiplotke', 'purpose', '4k', '500', 'e61x9y65qd', 'ovlet0gdqm', 'ehklp12yip', 'paci', 'rsf', 'gag', 'rickybonessxm', 'u2', 'sirius', 'chan', 'sayin', 'dhs', 'refuses', 'u8rgb51d22', 'po_st', '2tnu95vgfe', 'hkxfymhex', 'nx2d83a4du', 'alley', '30pm', 'psalm34', '22', 'redeemeth', 'servants', 'desde', 'sismo', 'ml', 'magnitudeåêåêml', '4regionåêåênear', '0wdazlcm90', 'cs', 'hearthstone', 'vcirn1md8v', 'freeport', 'jerseys', 'nruzhr5xqu', 'reopening', 'thexfiles201days', 'cascade', 'childress', 'dilyvrowyj', 'soldier', 'ranking', 'sihqpluidw', 'wews', 's7grbznwlr', 'commas', 'slab', 'labour', 'ripping', 'itself', 'apart', 'labourleadership', 'contest', '94123', 'explanation', 'request', 'provided', 'oxrwrjzmnu', 'limpar33', 'sweeping', 'legs', 'derives', 'powers', 'norman', 'vincent', 'peale', 'coyotes', 'lizards', 'k2tbes65oa', '2872j5d4hb', 'sirbrandonknt', 'exactly', 'lesnar', 'cena', 'summerslam', 'brock', 'odv3rqs8ju', 'fce0k1ihti', 'ferno', 'appreciate', 'engineering', 'inspect', 'components', 'gted6ldwho', 'arnhem', 'expand', 'yhaqa5wxok', 'artectura', 'pop2015', 'nå¼36', 'florence', '9le0b19lvf', 'andygilder', 'rspca', 'infomercial', 'crept', 'connormidd', 'krsy54xmmc', 'jacket', 'lakewood', 'channels', 'zqmtrbkas0', 'yeqq3bzx3g', 'kmvrzasxy4', 'followurdreams', 'lookss', 'brand', 't2kk8fya77', 'indo', 'pact', 'projects', 'xkurdr3yev', 'aix', 'en', 'provence', 'utrecht', 'creationmin', 'rwrabbit', 'gooneratheist', 'atheistic_1', 'lolatjesus', 'ddhwori5w1', '37592', 'replacement', 'dental', 'oral', 'cosme', 'zcvfc500yy', 'vscpgmsjxy', 'hybrid', 'szuter', '9e2f7bivle', 'destination', 'zoepzsoky1', 'lifts', 'glided', 'mjtn3qbgos', 'yahoofinance', 'answers', 'nyse', 'fdx', 'packages', '2kdq56xtws', 'dialta6t69', 'lrt', 'vgf41iupkn', 'du19', 'camila', 'spree', 'happiness', 'ykdsp0nrdq', 'rvfriedmann', 'belief', 'lodisilverado', 'ritzy_jewels', 'mariveles', 'bataan', 'croat', 'vdgfxyx3bw', 'homeworldgym', 'thisisperidot', 'ubfr1urafc', 'alnv51d95x', 'bailiwick', 'scriptettesar', 'katiecool447', 'btw', '30th', '1986', '2016', 'barbi_twins', 'sign', 'gilbert23', 'e8dl1lncvu', 'qu1iug3e9r', 'xaermbmvlv', '100s', 'mutek_montreal', 'vjbhxn9x1o', 'isea2015', 'newswatch', 'lock', 'lansdowne', 'sts', 'ptbo', 'emerg', 'montreal', 'rpneaj6fod', '573', 'certified', 'kent', 'lee', 'leejasper', 'tories', 'interestraterise', 'dratomic420', 'trophies', 'photoshop', 'melrose', 'g38y8h1tjt', 'rockland', 'nyack', 'pineview', 'railroad', 'crossing', 'csx', 'balanced', 'kukmal605a', 'msf_sea', 'massgrave', 'm0utldif77', 'excited', 'ensuing', 'ud', 'ypres', 'dyersburg', 'tak', '2iafpmqjep', 'cs8myauna4', 'usfs', 'acronym', '8nadrgr4xc', 'labyrinthia', 'harveymaine', 'aaaa', 'lemme', 'roomr', 'hears', 'nomad', 'draenor', 'iateyourfood', 'yikes', 'pup', 'qchv3jqovk', 'gc0udfnfgg', 'ìñ1', 'dtfswnjzil', 'freelancer', 'raabchar_28', 'drphil', 'morganlawgrp', 'inflict', 'wound', 'consistent', 'dimensions', 'aez3ak1lrn', 'encouragement', 'positivity', 'cbaxcuba0h', '9i6crcrq2m', 'eur', 'bwin', 'sikkg0fphr', 'jfyfzddlrn', 'brave', 'inspi', 'jywfygclhm', 'alil', 'indepth', 'ayp6zvhm2a', 'mrsbinker', 'emiliorivera48', 'davidlabrava', 'diesel', 'breed', 'pug', 'recognize', 'spouse', 'certificate', 'tziolfte5i', 'aphiabeta1907', 'ugliness', 'amesocialaction', 'frat', 'bioterrorismi', 'tolewant', 'macclesfield', 'binellithresa', 'ty', 'uan05tnksw', 'brutally', 'jn8s0drwbp', 'hhbu', 'antipozi', 'triggered', 'cucks', 'safely', 'waiver', 'microsoft', 'weight', 'hmmm', 'laughtraders', 'capitulation', 'joke', 'freestyles', '6cadrhioxp', 'news3lv', 'exdbcx4gcr', 'mars', '9jcibenckz', 'defines', 'perpetrators', 'ilford', 'wingers', 'prem', 'basically', 'federal', 'enclave', 'ohmygoshi', 'metrobus', 'cincinnati', 'atcmrjzjtp', '4i0kz2akly', 'no_periferico', 'm7na4skfwr', 'orapinforma', 'boarding', 'galleria', 'apts', 'nmpn2mqzge', 'kleenex', 'optical', 'illusion', 'clouds', 'eyevziopg1', 'subcontractor', 'survey', 'cgg', 'company', 'metlife', 'otratmetlife', 'raheel', 'sharif', 'visits', 'chitral', 'lauded', 'fwo', 'aviation', 'opera', '6aimd1uway', '9cgbjwmhii', 'affiliate', 'marketers', 'marketer', 'kpmyqujsue', 'edekrmqtpq', '41', '252426', '072013', 'southwest', 'omaha', 'utility', 'pole', 'dan0gkx28l', 'ojodu', 'khd99oz7u3', 'blutz10', 'indictment', 'nckogwjq61', 'consent', 'cleanup', 'underway', 'xszx9mwxyp', 'nmfsgkf1za', 'reg', 'competitiveness', 'saturated', 'brockton', '12m', 'regc', 'commonwealth', 'ppc', 'boxes', 'exploding', 'kittens', 'gameofkittens', 'explodingkittens', 'tfgrayudc5', '37dqvjhncv', '7ijlz6bcsp', 'morgan', 'dollar', '1921', 'ch', 'gem', 'bu', 'pl', 'satin', '99mbyfl3id', '4ddmtguzzs', 'toledo', 'hank', 'you7wn9xvs', 'cassadaga', 'fa07af174a71408', 'lived', 'looters', 'tolerated', 'curry', 'herman', 'stephenson', 'overturned', 'ybjezkurw1', 'victorville', 'wut', 'ditched', 'hungrier', 'mnpdnashville', 'montalbanony', 'clap', 'cgvuy3rcxo', 'goingdownthetoilet', 'unaware', 'sanitizing', 'sites', 'yrvgykdbm6', 'leicester_merc', 'hqewmreyso', 'y4y8fcljed', 'boise', 'idaho', 'abomb', 'destroyd', 'dlgnuuuuyn', 'cnv', 'vigils', 'jvkyzndtja', 'africansinsf', 'beyondgps', 'etdgpiwxti', 'architecture', 'routes', 'fw1ptaelgv', 'yeljpqhmed', 'calgarians', 'stunned', 'busy', 'fkfa9vsssz', 'bs6pjt09tc', 'seoul', 'wxhmp5ppjq', 'thyroid', 'ftunlh6ddg', 'thousand', 'paraguay', 'aw23wxtyjb', 'abgct9vfua', 'thinkpink', 'magichairbump', 'nmhztb1ewm', 'vacation', 'rjebpib5rz', 'untangle', 'requiring', 'partner', 'besttalkradio', '8j09zutxwt', 'gpcecp9khv', 'themagickidraps', 'executing', 'ayyo', 'dei', 'serva', 'fidem', 'embra', 'tier', 'dee', 'dum', 'mink', 'dakounty', 'cyhitheprynce', 'elephantintheroom', 'alexeivolkov1', 'mcfaul', 'roskomnadzor', 'ridiculously', 'politicized', 'autismawareness', 'balcony', 'ferriby', 'obsessed', 'anutoopkf4', 'rightways', 'integrity', 'problems', 'inspections', 'vz1irh0nmm', 'rightwaystan', 'outback', 'bbcnews', 'insurers', 'insurers163', 'numbers', 'controllers', 'formerly', 'usnoaagov', 'exceptional', 'steady', 'nyo1xuebfa', 'droughtgov', 'w0a1mjorhy', 'gusto', 'persist', 'amongst', 'pated', 'hpssjd', 'cnshlnjuqx', 'resting', 'peoria', 'ppsellsbabyparts', 'wzc5r4xoqz', 'jervis', 'pugprobs', 'szmnextdoor', 'appleofficlal', 'migrating', 'iphoto', 'wasted', 'hrsto', 'mbo6oaniqi', 'earthtwerk', 'crouch', 'tyre', 'startup', 'flowers', 'r3pddjpiee', 'latechwatch', 'surrey', 'carneross', 'remarkably', 'puny', 'epoch', 'pxnatosil', 'renunciedilma', 'annoyed', 'hung', 'audaciousspunk', 'spokes', 'raptors', 'beg', 'differ', 'rang', 'musik', 'goodlook', 'microsofts', 'virus', 'kodiak', '8kj1wdaigj', 'whs', 'daniglasgow45', 'cfouwpbrcg', 'sweden', 'publicizing', 'blossominglilac', 'ruined', 'attempting', 'munch', 'endangered', 'species', 'sec', 'bobbyofhomewood', 'joxroundtable', 'dropping', 'si', 'top25', 'leitchfield', 'o9dzgzqemf', 'axk9xno6yz', 'mercados', 'runjewels', 'met', 'discuss', 'relations', 'loveislove', '6ce1vwovhs', 'pore', 'decades', 'pijg5w2l2u', 'littleton', 'terran', 'prettyboyshyflizzy', 'beautifully', 'fkxcsztezb', 'grc', '000', 'subscribers', 'stolen', 'albany', 'lknu8902je', 'stressed', 'bloomberg', 'bekrpjnyhs', 'cal', 'calzone', 'sorrow', 'throwin', 'kaneohe', 'kuualohax', 'husband', 'posting', 'monday', 'kenton', '_chelsdelong12', 'kendra_leigh13', 'laos', 'underwater', 'vision', 'responding', '8fvqrizoux', 'pros', 'failures', 'qqsmshaj3n', '163', 'contr', 'inviting', 'brigade', '2z2htdjqzd', 'detains', 'xuub2hbli5', 'h5epx2d1ga', 'journeys', 'suilzs2s95', 'healthandsafety', 'lesa', 'trombonetristan', 'ooooohshit', 'ooohshit', 'nagpur', 'rs40000cr', 'lifeline', 'fci', 'grains', 'fr', '3_6_12', 'available', 'kennethbauer_', 'noodles', 'flee', 'burundi', 'vice', 'jojnq2oopi', 'dskui6mmgl', 'pmarca', 'affiliation', 'fees', 'eagles', 'matthews', 'rrq1ildkil', 'hotnewscake', 'drfriedencdc', 'infections', 'niv8x5tbe0', 'adiossuperbacterias', '1998', 'appetite', 'mafia', '_wildfire__', 'mulan', 'malkavius2', 'gassymexican', 'lpgfqnpjd3', 'realities', 'glitch', 'edfringe', 'm00nf00l', 'titania', 'summerhallery', 'reimagining', 'shakespeare', 'midsummer', 'iiaigzkbnj', 'yadkinville', 'collideworship_', 'vnzybfgzcm', 'gift', 'ibed3xg7fy', 'fed', '0yaxrjicrr', '66', 'garrett', 'unhappy', 'purposely', 'ashburn', 'iii', 'pattonoswalt', 'alamodc', 'pmxlezjbrc', 'slateport', 'hoenn', 'snazzychipz', 'alexalltimelow', 'cuties', 'animallogic', 'lotg', 'smoothed', 'bird', 'moth', 'chalked', 'mouse', 'subtle', 'diss', 'earn', 'mcr', 'snort', 'jst5hauk35', 'flavorchargedtea', 'italy', '358', 'slit', 'throat', 'apologize', 'rebeccaforreal', 'accepts', 'govwalker', 'nbc15', 'pis0aivrbr', 'kea5l3b1ae', 'radical', 'ffnzit7kgn', 'gbluhrrlto', 'wwe', '2k15', 'mycareer', 'ep18', 'mr5bi4kd82', 'm151a1', 'mutt', 'matching', 'm416', '9rryaylgyy', 'nm83johluu', 'stury', 'note', 'futurea', 'totalitarian', 'employs', 'literature', 'drfkarlz1d', 'zkkn6mse1n', 'fzhjf8bxld', 'nbcpolitics', '911bombing', 'barracks', 'bombers', 'milky', 'visiting', 'cfc', 'ancop', 'tita', 'bend', 'swayback', 'voluntary', 'inciweb', 'vn73o4sgzj', 'calfires', 'vrpmplczcy', 'fijapxykrq', 'eastcarolina', 'nqiobczkrt', 'flooded', 'fvck', 'vancouveråêisland', 'vdiliicyr5', 'traintragedy', 'jthusynjah', 'wonders', 'pilgrims', 'unimpressed', 'pw5dst9roz', 'trib', 'fishing', 'suspended', 'r4yzhxk7lw', 'awickedassassin', 'hugged', 'tightly', '07', 'tremont', 'fpkiqbus9r', 'cosmetic', 'periwinkle', 'copper', 'piping', 'a9bnlse6qb', 'waialua', 'gecko', 'wxela91juh', '234', 'sruj5zljgl', 'hackney', 'missleylaha', 'kissimmee', 'cy0ciu2u1c', 'gages', 'beckyfeigin', 'defs', 'aatt5amnmd', 'unpredictable', 'disconnected', 'favorites', 'californians', 'sahel', 'finding', 'chore', 'ysg9vsrt4g', 'adventist', 'lesson', 'sabbath', 'monsoon', 'landsli', '9tg7a5oqfp', 's01e09', 'vrpthvpymt', 'bloodymonday', 'tvshowtime', 'nkkvknbvoz', 'vì_sterì', 'whvholst', 'leashless', 'competence', 'soc', 'democratic', 'parties', 'pissing', 'antis', 'gxyivswki7', 'faze_rain', '3ac5wuy1r0', 'violators', 'improved', 'hurled', 'nuked', 'hint', 'beyondthebomb', '3nkculgvmw', 'theashes', 'paris', 'frusciante', '00cy9vxeff', 'himalayan', 'tweet4taiji', 'worship', 'superstitions', 'jslxtq3nqs', 'prmtxjjdue', '3yu26v19zh', 'chief__cg', 'ovofest', 'ovo', 'ziphimup', '35qwnglkos', 'rolls', 'surrounding', 'sxwjyr3k3l', 'aewglvqreh', 'eugene', 'kezi9', 'sahbhlxssh', 'melton', 'ee8rpoahpk', 'msnbc', 'idiot', 'terminated', 'activated', 'ha5boppejy', 'bars', 'greenpoint', 'delany', 'dhalgren', 'beastly', 'downing', 'doflamingo', 'msuy4qtpk9', 'aqcsusqbdy', 'charlesadler', 'ian', 'fart', 'browner', 'savannahross_4', 'chibi877', 'language', 'shouted', 'deadend', 'buddha', 'urbanisation', 'challenged', 'brahmans', 'dominance', 'misty', 'indifference', 'shutdown', 'separated', 'escorts', 'gfe', 'n6ahgfmudt', 'ending', 'whack', 'mole', '6exs23muy3', 'l9idherotj', '9tb82zmr2x', '039', 'monster', '13000', 'aptap6yx1r', 'kosciusko', 'pedestrian', 'jilfbr0ufp', 'crocodile', 'gravy', 'kidscompany', 'bcpmvylsih', 'ibadan', 'oyo', 'usvyhdg9og', 'ika', 'soup', 'diet', '8r5vpaoo5z', 'recip', 'jvcxb75drj', 'qwsbvflpe1', 'ville', 'wkrn', 'emails', 'trinna', 'roadside', 'rembr', 'vest', 'ohmyloz', 'rondarousey', 'detectado', 'japì_n', '43', 'miyagi', 'estimated', 'jst', 'megancoopy', 'laurathorne97', 'mesqtvdu63', '2am', 'pllolz', 'tft1bb4xaz', 'colinhoffman29', '63rd', 'prairie', 'zz5udilrea', 'pkkcdwjyg0', 'corsicana', 'cw_hoops', 'recording', 'thrown', 'dougmartin17', 'doug', 'longbreastyat', 'rnqebaycvm', 'nvp6wrkl1e', 'galatians', 'josh', 'salyers', 'blair', 'jenna', 'bdn2fdpdaz', 'macdaddy_leo', 'caption', 'freshman', 'k8ughv2aif', 'stacey', 'trap', 'basement', 'streetlight', 'spt54kfa9q', 'sinjar', 'yazidis', 'lack', 'q4q8xsyzob', 'elm', 'remade', 'hvwkjqxxyt', 'listeria', 'theneeds', 'f56v61ampt', 'h3sxfv5mtc', 'iewdrenauk', 'qj3pvgavn7', 'ad38kwoglh', 'folks', 'bash', 'cheated', 'ykvsttvdwo', 'ifqqpur99x', 'skip', 'basic', 'thh', 'furst', 'fk1vyh5qlk', 'newsdict', 'rogue', 'siskiyou', 'nf', 'lkwxu8qv7n', 'stylishly', 'unique', 'au3dbci7nf', 'bovjrf62t7', 'detectors', 'shevlin', 'hixon', 'z6ee1jvhni', 'kp', 'petting', 'allegations', 'janenelson097', 'stephenscifi', 'adaptation', 'optioned', 'sciencefiction', 'carterville', 'kkimmbue04', 'swaning', 'chairman', 'owbujez3q4', 'wrb7xd8w5y', 'crowds', 'reeves', 'corner', 'croydonization', 'huber', 'meanwhile', 'hush', 'burp', 'freshness', 'cilo9pmleb', 'convene', 'awards', 'gis', '0t9yd557ry', 'gisuserpr', 'geotech', 'alcoholism', 'addiction', '31tgtlz3ya', 'forgiving', 'c7rco2emwf', 'canvas', 'letter', 'print', 'zipper', 'scxfc5wi9t', 'gx1otoh8sj', 'qld', 'returned', 'fleeing', 'dutton', 'presser', 'interpretation', 'my8q1uwijn', 'uhhhhh', 'crusade', 'optps1lgkc', 'longaberger', 'floral', 'strap', 'fb8snrg4hu', 'ao4ju9vmmf', 'hinterestland', 'sel', 'oyy9mgw7hn', 'hinterestin', '060', 'damp', 'qnh', '1028', 'violation', 'pf8dxwibdp', 'socialmedia', 'couches', 'p1amginsys', 'virtual', 'dvd', 'horowitz', 'vaccines', '6pagjqfbzk', 'qzizelxbyr', 'gix1gaynxz', 'p93s2rfhx6', 'g3', 'rainier', '15000270653', 'ted', 'jeb', 'ûïwe', 'mitt', 'kcoff6bmie', 'lay', 'laugh', 'greek', 'fools', 'tsipras', 'wallybaiter', 'gbrnulp3fh', 'recal', 'j2erzbmjqd', 'waterways', 'achimota', '233liveonline', 'io7kuug1uq', '617', 'btown', 'beatdown', 'forrestmankins', 'camping', 's0vgtkhw7v', 'qvx0vqtpz0', 'vuwbsrsnry', 'iys9xwpvmk', 'pp', 'sami', 'kanger', 'coils', 'vaping101', 'cykr4xaluh', 'iadlslqdpd', 'newsintweets', 'o8y1sul4ow', '4cpnbbzkzg', 'moved', 'orcas', '956', 'tounge', 'pepperoni', 'canuck', 'eh', 'justintrudeau', 'g7', 'g20', 'reusing', 'advanced', 'equipments', 'transit', 'drumming', 'champaign', 'fdbdp', '123127', '825133', 'ztyzhbvzqp', 'transformation', 'pyehwodwun', 'aliens', 'exterminate', 'humans', '8jxql8cv8z', 'possibility', 'mysteries', 'egcv7ybjae', 'cis', 'istj', 'okgooner', 'loaded', 'liver', 'su4zvwadj7', 'chiyoda', 'wvtpuryx63', 'jayankondacholapuram', 'tamilnadu', 'fettilootch', 'slanglucci', 'oppressions', 'moll5vd8yd', '1976', 'chowchilla', 'schoenfeld', 'glwoakppjq', 'wllflfndgg', 'jdb', 'ljc', 'agb', 'tw', 'ahhhh', 'y678xsnvj6', 'bashes', 'comparison', 'iranians', 'shouting', 'txetcysm1h', 'bluebirddenver', 'iembot_hfo', 'nnw', 'hana', 'gg0dzsvbz7', 'kbe91arcdw', 'annmarieronan', 'niamhosullivanx', 'tat', 'flashbacks', 'locksmith', 'domesticate', 'mechanic', 'circa', 'clock', 'gba', '1q6ccffzv6', 'vxuftvt9au', 'smarttek', 'mpers', '3oionqlfql', 'hermosa', 'taron', 'wilshere', 'recordand', 'behaviors', 'bago', 'taaylordarr', 'zy3hpdjnwg', 'gz27audyha', 'p4ekgc9sig', 'ìøåàå_t', '736324', '73', '990062', 'intriguing', 'dominant', 'jobbing', '1xssvgimvb', 'mistresspip', 'amazed', 'mistress', 'okuma', 'gpv', '06jst', '6aug', 'wnw', '12jst', '18jst', 'l6jbjaj8dm', 'ogba', 'chieftain', 'tasks', 'dickson', 'n15b', 'donation', 'lqgoe7psxp', 'saving', 'proposed', '159', 'burton', 'fjddx43ewj', 'messnermatthew', 'newcity', 'appoints', 'brig', 'gen', 'kaiser', 'mississippi', 'commission', 'mrc', 'vdukcv7yjy', 'myrtlegroggins', 'gasp', 'predjama', 'eslovenia', 'bsg', 'sufficiently', 'hyped', 'delayed', 'theemobrago', 'jitsu', 'hexagon', 'yelled', 'peel', 'male', 'cyclist', 'southdown', 'royal', 'windsor', 'mississauga', 'weyburn', 'warn', 'fentanyl', 'province', '8bqjtp6id5', '8kjs7zqajs', 'thane', 'honolulu', 'serephina', 'k6uetsnlht', 'shaznlmsfe', 'saudiarabia', 'lwane9vupg', 'cpqgufzb28', 'wolverhampton', 'brum', 'wholesale', 'engines', 'ordained', 'spurgeon', 'midwestern', 'cowgirllawyer', 'nation', 'unawares', 'intoxicated', 'fangirling', 'wdvqlewybs', 'clayton', 'to9viqoofv', 'wild_lionx3', 'nebraska', 'warfare', 'tgtcru8jio', 'thankful', 'gfz', 'minuscule', 'qeopmcjbcz', 'etp', 'hszjafxrvi', 'pasadena', 'ladyfleur', 'cafì', 'destinythegame', 'bungie', 'experiences', 'challenge', 'dravet', 'drowns', 'vbo1tjndps', 'fairfield', 'northbayhealth', 'shines', '21b6skpdur', 'wbcb3sytj7', 'qgyn2u1up3', 'wis3h9tqrm', 'gunmen', 'salvador', 'salvadoran', 'gang', 'cntwb6sczj', 'praying', 'alton', 'livestream', 'nut', 'gvd7fcx8iz', 'joseph', 'minnesota', 'eddie', 'vedders', 'lap', 'questergirl', 'ditto', 'drank', 'vodka', 'celebrations', 'ehlq3zsptd', 'djx5elbrv1', 'affect', '1145', '45', 'mjstefggu5', 'sarahmcpants', 'justjon', 'titty', 'q4l7dg56jm', 'libyan', 'mjoeebdlxn', 'fven1ex0ps', 'progressives', 'hoping', 'vilnius', 'drugs', 'vroman', '5oqhq8quqv', 'm9ig3wq8lq', 'grabakahitman', 'izi_garcia', 'machida', 'u30n3ffx8y', 'acne', 'diarrhea', 'naturalemblem26', 'whitewalkers', 'intrigued', 'everett', 'diablo', 'westmarch', 'arreat', 'ikorodu', 'geeknwjjsz', 'dicky', 'councilscc', 'receipts', 'desperate', 'scandinavia', 'ud7xobyua1', 'clev', 'cleverbot', 'wrigley', 'katiekatcubs', 'yahoocare', 'yahoo', 'complaints', 'jackass', 'stuffin', 'ae9cpiexak', 'capicapricapri', 'brento_bento', 'wha', 'hueco', 'mundo', 'yi3oivk2x4', 'flightcity', 'vid', 'doublecups', 'lfkmtzaekk', 'trubgme', 'prod', 'thisizbwright', 'nouvelle', 'ìäcosse', 'maxsys', 'qtizcbww7g', 'û_turns', 'birds', 'funtua', '77ciwxabva', 'û_t', 'keeper', 'runnin', 'nno', '7cmf3noync', 'bki', 'kua', 'tutor', 'preferably', 'lightumupbeast', 'pres', 'deli', 'duck', 'greasy', 'oomf', 'instagrams', 'follower', 'youngstown', 'osp', 'mounting', 'ymp0ginwza', 'fyioqvioif', 'wipp', 'sejorg', 'sigmund', 'freud', 'caaaaaall', 'upgraded', 'hyperbole', 'saintsfc', 'pictures', 'uzwlgjqzns', 'stockton', 'j3x0doy7r3', 'cdcwhistleblower', 'measles', 'complications', 'looses', 'crickets', 'newton', 'produces', 'specialists', 'peterhowenecn', 'necn', 'gigagil', 'iof', '513', 'morality', 'zionism', 'e4wk8uri8a', 'xtljz7bjgl', 'lesbian', 'faked', '10muey8pxj', 'sahq5uoahw', 'fx', '7ennullkzm', 'boeing', '777', 'vanished', '239', 'heheh', 'playa', 'j8tyt1xrrk', '9d4nazoi94', 'hr88cwxpgz', 'livemint', 'rptouz2ijs', '69mlhfefhr', 'allthenews', 'uruguay', 'skyler', 'durban', 'cools', 'page', 'abnzqwlig1', 'm8mvdspjp7', 'martial', 'biuey7buts', 'jwqybe4ep1', 'anzio', 'abusing', 'obispo', 'qpwotugui9', 'exhibition', 'gvaipmlsl0', 'dill', 'pickle', 'taste', 'torn', 'shotgun', '0r03c6njli', 'fizzy', 'seats', 'ibeyiofficial', 'olnk1ti1nm', 'landolina', 'instantly', '0btniwagt1', 'realestate', 'hhzy3oqela', 'mctjnzx4h8', '6gsamy6mts', 'daqszzubub', 'wildomar', 'radychildrens', 'igwstttkwk', '140920', '150718', 'beijing', 'smile', 'luhan', 'exo', 'y7o55by36f', 'emaaalay', 'hidden', 'nsa', 'software', 'qycw5jjaj1', 'zeal', 'indecisiveness', 'ogtomd', 'zvre6ffnyd', 'spotlight', 'wniagospel', '1he4ufawzm', 'bnhtxaezmm', 'chpsre', 'followers', 'rezaphotography', 'rpmtropsvr', 'dwight', 'eisenhower', 'tìáchira', 'scseestapreparando', 'mag', '73km', 'khuzdar', 'wednes', 'i6lmccclv5', 'volcanodiscover', 'josh_lado', 'tweeting', 'joshua', 'typos', 'bmxsndx14g', 'glassanimals', 'slithering', 'viscous', 'yeahs', 'erykah', 'badu', '7zb9gm5z0h', 'wilmington', 'frascati', 'novalismi', 'mallord', 'william', 'shade', 'darkness', '1843', 'clicca', 'titolo', '458dtr3ulx', 'f7ljwxj5jp', 'devise', 'nekm1rpohu', 'oi6cmagasi', 'suffering', 'refugeesmatter', 'oez7o9ab2c', 'ronge', 'sask', 'nzrwddlntp', 'cosmic', 'oneness', '1buf0xm53d', 'fate', 'definition', 'barack', 'declared', '4k8olzv9bv', 'tnn', '9lo0hzwjpz', '5zdbtktww7', 'durban_knight', 'cwcvbubs01', 'nosy_be', 'giesomgwtr', 'ma3route', 'imeshika', 'hapa', 'mats', 'bumper', 'aar', 'bonnieg434', 'piga', 'kijan', 'virg', 'cy1lfenyv8', 'volfan326', 'tneazzy', 'mizzou', 'seasons', 'muschamp', 'bama', 'gcc', 'joined', 'daesh', 'june', 'confesses', 'tmz6x1n2gq', 'kindermorgan', 'danisnotonfire', 'advertise', 'turnedonfetaboo', 'hsjb215', 'rockin', 'claytonbryant', 'e1wrvyzfkv', 'artistsunited', 'vickybrush', 'topic', 'xoxo', 'ay', '42mawzb8t9', 'ethiopian', 'o6onsjhcsd', 'p2', 'multinational', 'jamesmelville', 'conflicts', 'tactics', 'corruption', 'infiltration', 'cyu8zxw1oh', 'trending', 'charge', 'ruler', 'informant', '93infxzhx0', 'roadway', '15901', 'statesville', 'sindria', 'fukurodani', 'bokuto', 'ppor', 'bravery', 'randy', 'irwin', 'k14q8chwkp', 'evansville', 'limit', 'usage', 'construction', 'sjnyfszcu1', 'wompppp', 'valparaiso', 'rizzo', 'okvsimogic', 'manhattan', 'fzujg7sxjg', 'iwate', 'gmoul9zq2q', 'gzekqwzijq', 'krnw0wxhe5', '30pcs', '12mm', 'resin', 'flower', 'flatback', 'rhinestone', 'decoration', 'fa', 'reebok', 'shirt', 'xl', 'znsvstgwx3', 'hockey', 'lucia', 'missjadebrown', 'tells', 'claimed', 'riding', 'rpda60aoni', 'tiffanyfrizzell', 'raf732vrtt', 'unprecedented', 'frenzy', 'disorder', 'mania', 'astounding', 'catovitch', '9z9hsmiavd', 'e2hltyyfak', 'pmxezuo4ay', '1pflm532mg', '58qrugzvg0', 'edmonton', 'f8gvwkfqox', 'faith', 'akito', 'roses', 'frothy', 'gyp', 'raqupzfkjy', 'weddinghour', 'qunxocxcga', 'barak', 'depends', 'voting', 'le', 'memenet', 'kainyusanagi', 'grummz', 'pixelcanuck', 'raynor', 'balding', 'imperfect', 'biker', 'emo', 'generic', 's3xleak', 'ph0tos', '19yrs', 'festac', 'delta', 'exp0sed', 'bbm', 'leaked', 'ixrehm05yq', 'snqfhpym3o', 'bartender', 'wisely', 'carnage', 'continuing', 'ggindependencmessage', 'ûªll', 'wukcalnqms', 'hmm', 'researchers', 'select', 'agents', '9viibxgjav', 'guaravitas', 'yellowknife', 'nt', 'gnwt', 'pickerel', 'rvsyxwj9cp', 'baskets', 'charming', 'tonyakappes11', 'xyav4t5n0o', 'paranormal', 'mackem', 'bolton', 'macbreck', 'math', 'sugarhouse', 'dccomics', 'imagecomics', 'darkhorsecomics', 'idwpublishing', 'enabling', 'dimapur', 'rukjyjg9oq', 'helmet', 'silvery', 'floors', 'karnal', 'shoot', 'sampling', 'pbcanpcx', 'thda', 'kicks', 'xzlrwc0pik', 'o5xlxmkoyq', 'greenspace', 'development', 'zzcbbqyj1q', 'kksghsblfh', 'kyee', 'nockthie', 'hamlet', 'taungbazar', 'buthidaung', 'severely', 'kasitaroch', 'vivianunhcr', 'returning', 'southline', 'yennora', 'repairs', 'cabramatta', 'immigrant', 'arrests', 'bl59fw4sys', '307558', '81', '403118', 'kash', 'foundation', 'magazine', '2fenu1syu6', 'mold', 'growth', 'proudgreenhome', 'kavaovjz2v', 'livin', 'plastic', 'toddyrockstar', 'jdtpirnm76', 'tarragona', 'a2tiivnjdy', 'fw2xifj6ec', 'aaarrrgghhh', 'g2uimbekge', 'xh4dz1gpyw', 'g0hsyh7yav', 'classycolkett', 'thorgan', 'gladbach', 'ashenforest', 'floorburnt', 'manzanita', 'timber', 'johnson', 'fymp4i2wp5', 'gurgaon', 'haryana', 'tornadogiveaway', 'thebookclub', 'ljomctuzfy', '2zgvslox5p', 'suginami', 'ku', 'pummel', 'jkym9edofc', '982988', '261624', 'fuckyeahcarey', 'bornverified', 'canoe', 'fastest', 'lrhcthband', 'bournemouth', 'luke', 'microphone', 'ovaries', 'sincerely_tsunami', 'rfp', '450', 'transporta', '8gtrvece1n', '7xq8jrtl7i', 'tool', 'j90dt2qnxb', 'weallheartonedirection', 'oer5hh41ew', 'broader', 'conservation', 'akgovbillwalker', 'burma', 'enduring', 'unrest', 'cheap', 'concludes', 'deactivated', '93iaeec26t', '612bsbvw8k', 'walkthrough', 'myfriendmina', 'screenshot', 'berlin', 'peterjukes', 'systematic', 'torture', 'grahamwp', 'arrest', 'aggressif', 'janeenorman', 'probability', 'deputy', 'cdohgnjmst', '87h5mba3n1', 'dimitri', 'mageavexis', 'tema', 'qjuu0wcwpx', 'realville', 'flgovscott', '10000', 'males', 'gv84wnhb7s', 'conning', 'portfolio', 'diversification', '33fbr25t1o', 'edappally', 'kochi', 'lue3waegpi', '9h0ym9ofsv', 'paducah', 'bilsko', 'humofthecity', 'm9yda5k6jf', 'spyro', 'texture', 'hacks', 'paso', 'modis', 'morocco', 'straits', 'gibraltar', 'qwqnni7vmz', 'duststorm', 'estados', 'unidos', 'approaches', 'njmidysxof', 'abc7chicago', 'infested', 'mouth', 'wimp', 'shity', '_itsmegss_', 'barking', 'cooool', 'electricity', 'scofield', 'hotbox', 'sona', 'stockholm', 'copperfields', '6un7xc9sve', 'enfant', 'closest', 'qyx5thkrbh', 'bae', 'soak', 'backroom', 'thisiswhywecanthavenicethings', 'kgxnwziuxd', 'exquisite', 'y9w0v6te9o', 'cumshot', 'porno', 'rq', 'fittscott', 'mul1j9aeux', 'vi', 'pacquiao', 'marquez', 'unfilled', 'swarm', 'durvod', '6vja8r4yxa', 'repì¼blica', 'bhzr9ugus2', 'mentalhealthgov', 'ahhhhh', 'alec', 'tort', 'comp', 'injustice', 'mh', 'qejedwsfdg', 'pitched', 'noise', 'ofnsixjks', 'senfeinstein', 'sen', 'feinstein', 'hurry', 'uncontrolled', 'ohndh2ri0v', 'infected', 'ear', 'piercings', 'aus', 'marlon', 'elvis', 'presley', 'panther', 'shuffle', 'legend', 'cutekitten', 'catsofinstagram', 'summerinsweden', 'katt', 'katterpì', 'dumle', 'dagens', 'p4zfxdnbch', 'guaj2t910b', 'glue', 'finger', 'type', 'adhd', 'i4fz75utnh', 'h6amecx5k7', 'b8iwrdxcm0', '1600', 'glpfu0uriz', 'elk', '02pm', 'rover', 'cf9e6tu3g7', 'internetradio', 'collegeradi', 'chernobyl', 'macob5xlsu', 'moore', 'octnpyueei', 'shootings', 'explosions', 'grenades', 'baffles', 'gloriavelez', 'lonepine', 'descendants', '666canberra', 'gallipoli', 't4fvvnrpc5', '0zznbvfuvo', 'monica', 'quality', 'licensed', 'agent', 'produc', 'vmjrtuvmh4', 'tweetinglew', 'tersestuff', 'notley', 'harper', 'heartland', 'tfw', 'slaves', 'albertans', 'hammersmith', 'dalailama', 'brisbane', 'aust', 'wfseaobato', 'surabaya', 'geu4h46csz', 'hoodedu', 'berlatsky', 'personally', 'illustrated', 'horrifying', 'gzib0mawmn', 'isai', 'psm', '138', 'conspiracy', 'scattered', 'episcopal', 'priests', 'interracial', 'shares', 'harrowing', 'harassment', 'rg4jishybs', 'whereveri', 'mat', 'rapper', 'autobiography', 'lawton', 'collins', 'r4kheh7iaf', 'qszgjfuutu', 'settle', 'gx9skuau9j', 'sneaks', 'cockpit', '1w58ehv9s1', 'p8ih0hni3l', 'goku', 'birb', 'royton', 'pbohanna', 'boring', 'justaguess', 'queenwendy_', 'isle', 'tlc', 'omb3os54tn', 'sibling', 'lqd1wefpqd', 'ggnbvzohwu', 'afrikaan', 'preorder', 'thebargain', 'uml5jztmcb', 'dr_baseball41', 'granttamane8', 'drewwtaylor', 'dtop77', 'christie', 'hillside', 'lq4lxgs2xu', 'tbx8cakdrw', 'collateral', 'fs012trudg', 'yahootv', 'colombia', 'nueva', 'favorita', 'bits', 'met4ytzmfb', 'deezercolombia', 'avu9b4k2rv', 'thesensualeye', 'apr', 'boobs', 'p96rgbbayl', 'mobile', 'pune', 'mostly', 'adani', 'modi', 'backed', 'sje59u2nnm', 'palermo', 'tm9zbhjcyf', '69', 'naypyidaw', 'prensa', 'latina', 'jods9a32pi', 'enfield', 'illusoria', 'icarus', 'e2wgreicmz', 'squibby_', 'ha', 'jans3fd4lf', '2sdmichb2z', 'somecity', 'scout', 'kerrykatona7', 'bak', 'puth', 'm27329', '1236', 'wandsworth', 'sw_trains', 'noises', 'epsom', 'wimbledon', 'cottage', '4d9cd4mnvh', 'unhqcq6bex', 'morganite', 'gemstone', 'opal', '925', 'ring', 'r1354', 'hhpvsatqxn', 'd12r8xpshy', 'ifs', 'ands', 'buts', 'hfgjgfgfel', 'fftokd0vts', 'harwich', 'ljxce1qw2p', '3945', 'prediction', 'expanded', 'slight', 'twcnews', 'ncwx', 'dgbeh5l9ds', 'wakanda', 'strickskin', 'nickscomics', 'objective', 'cyzlshlqhg', 'ndis8f1vzt', 'tubestrike', 'pisco', 'coya', 'ppekbqdcnc', 'gg_keeponrockin', 'strawberrysoryu', 'suspicious', 'rl', 'recorded', 'essex', 'noida', 'ncr', 'gdjtzkpchk', 'o1smuh2unn', 'xqj6wgiuqh', 'twitterville', 'articals', 'qd3dssfwue', '627', 'striked', 'otm', 'lexi_purduee', 'courtney', 'laudner', 'teases', 'panties', 'bunker', 'mayoroflondon', 'reduce', 'compulsory', 'notrocketscience', 'eritrean', 'hyider_ghost2', 'å_å_los', 'mina', 'x8moyevjsj', 'steveycheese99', 'mapmyrun', 'territory', 'alhaji', 'sha', 'ibeto', 'cement', 'competitor', 'random', 'dwu8qqys0v', 'rutherfordton', 'esteem', 'tu6scrsxvg', 'idhj4jbq05', 'ruhl', '38', 'modoc', 'temporarily', 'reassigned', 'etkd58un8n', 'lrelvrm06w', '82ndabndiv', 'paratroopers', 'ugesklcn8m', 'eau', 'claire', 'sentenced', 'chippewa', 'kqpky7dthj', '44', '414510', '942499', 'ibrahimmisau', '5zcje7arci', 'havxobcsvu', 'pretoria', 'phdsquares', 'mufc', 'built', 'epl', 'gl3c1vc88p', '8392', 'deluxe', 'vihdoksccc', 'storybrooke', 'chxrmingprince', 'jones_luna', 'folding', 'awtscucbbv', 'so81ab3a1x', 'rainfall', 'situation', 'hvxu1zcvau', 'ijmccmhh5g', 'kì', 'ln', 'nrw', 'elielcruz', 'streams', 'stephen', 'pots', 'iamdowntown', 'hbhx0dwkpc', 'paignton', 'hobo', 'zujwuiomb3', 'iap4lwvqsw', 'ur7fexszg4', 'wb8awoblcl', 'agreed', 'umzkc9azwd', 'insula', 'barataria', 'hypocrisy', 'francisunderwood', 'hoc', 'zqo6nuvytu', 'ibiza', 'pill', 'dannyjohnjules', 'spencer_fearon', 'christielinford', 'jamaicaplain', '1fhrrhcimh', 'ntswuayeji', 'wgefbuk4jk', 'g5zsru0zvq', 'frisco', 'wfaaweather', 'pete', 'scouts', 'okla', 'meteors', 'nside', 'kamchatka', 'daniel', 'korzhonov', '8t36hwgoqd', 'danagould', 'waynesteratl', 'checks', 'equalizer', 'mazda', '0l', 'v6', 'c8uxkizwm6', 'snxgh9r16u', 'upper', 'clair', 'thomasvissman22', 'keithyyl', 'keithyy', 'dlkuftlqnf', 'babybackreeve', 'oct', '1895', 'zckxtfc9pt', 'scotrail', 'bloke', 'hassle', 'mousse', 'tuai0zwgxu', 'winik', 'jay', 'ef4swp9sxz', 'nb7maaaofs', 'maine', 'heroin', 'addict', 'gzxipmoknb', 'loughborough', 'sony', 'sets', 'tower', 'stephenking', 'thedarktower', 'j9lpdrxcde', 'bdisgusting', 'dundee', 'blairmcdougall', 'commenting', 'dealings', 'arkan', 'straightfire', 'waseembadami', 'condemning', 'gv', 'heirs', 'itg84q7vii', 'notified', 'cufgvupkzi', 'banbridge', 'er', 'indoors', 'arfur', 'georgecole', 'sjxllzosw7', 'ankara', 'malatya', 'orontem', 'ara', 'infiltrated', 'ashrafiyah', 'afrin', 'ypg', 'imposed', 'runaway', 'minion', 'u2kwof3wtj', 'thecomedyquote', '50shadezofgrey', 'thirst', 'p45perez', 'sandunes', 'gentle', 'lapping', 'gulls', 'sizewell', 'x9cuihib5n', 'worldwatchesferguson', 'govjaynixon', 'clairecmc', 'citizens', 'tripoli', 'kristindavis', 'ypvjgzqqqb', 'abcnews', 'mg5eajelul', 'sedar', 'anaheim', 'deliberately', 'carolinaåêablaze', 'pcxarbh9an', 'cpanel', 'birkbje23e', 'buzwjmw49e', '650', '559', 'kelworldpeace', 'taxstone', 'yoga', 'raidersreporter', '957thegame', 'peru', '0yzgw9zbhr', 'rhtaqjvqn2', 'cookie', 'dough', 'comlg0vdbv', 'williamsburg', 'newåêheights', 'iglnqpgbnw', 'aoesbvns45', 'selangor', 'govts', 'advised', 'ubvevuuach', 'smell', 'rotting', 'potatoes', 'smelled', 'walthamstow', 'looooooooooool', 'jrkgyl7te5', 'breaking411', 'onlvf2fyoy', 'mistrustful', 'elephant', 'friendship', 'vaunps6wja', 'onegreenplanet', 'giorgio', 'hiatt', 'neanderrebel', 'suit', 'belonged', 'democrat', 'yhngsjlg', 'tweeted', 'ioqm5bm1dg', 'productive', 'yamaku', 'academy', 'rin', 'shizune', 'misha', 'emi', 'kenji', 'yuuko', 'nomiya', 'hisao', 'flip', 'w6o0uizf8p', 'cultivating', 'o0ltqdjbqe', 'pjnet', 'tcotåê', 'ccot', 'mo9wptyqkp', 'anellatulip', 'taint', 'gates', 'worstoverdose', 'jaileens', 'caked', 'campsite', 'recommendations', 'toilets', 'pub', 'midges', 'snakes', 'starve', 'suruì', 'launches', 'airstrikes', 'isil', 'kurdistan', 'camps', 'fizz', 'vince', 'mcmahon', 'billionaire', '350', 'ko0oz3ryfg', 'lvkoemsq8m', 'cjirhhh4vj', 'haiku', 'ut7r2ixrjq', 'v3z96ydmvd', 'kxslftz2i5', 'arrogant', '__srajapakse__', 'missy', 'suited', 'yee', 'haw', 'hotboy', 'taxuxp9qa2', 'watchthevideo', 'p64xrvgjik', 'lahar', 'gwalior', 'yx1ukbmtqb', 'grupdates', 'fqcdphccg7', 'buscame', 'tu', 'melte', 'khf0ih05a9', 'checkout', 'nurgle', 'features', 'snuck', 'khrone', 'wd', 'he7q7h3nzf', 'rpvzbesuqj', 'dehydration', 'bmsedzofsv', 'decree', 'k3pnnktlxh', 'baqocmcjqc', 'neddick', 'evahanderek', 'marleyknysh', 'cantwaittoplayinminneapolis', 'sundercr', 'remixes', 'merged', 'dzlpnp399x', 'evacuating', 'okcfox', 'i5', '43rd', 'offramp', 'sac', 'ct9ejxolpu', 'gleaned', 'yrqgnblkac', 'chandler', 'sb5r7shccj', 'bedford', 'chews', 'chewing', 'gum', 'newcastleupontyne', 'widda16', 'goner', 'qzrcinaf5z', 'attended', 'romford', 'londonfire', 'thankfully', 'iyjejop2wi', 'preservation', 'parks', 'imposition', 'imagined', 'gi2p9tuvbi', 'prescott', 'jrlallo', 'narrator', 'chemically', 'lavatory', 'db5', 'easier', 'hgb1mc3irk', '6ysxghc8gz', '0t8vqkeari', 'nashvillefd', 'acted', 'swiftly', 'byvubg0wye', 'g0r3zr1nqj', 'captainn_morgan', 'kinetic', 'typography', 'fl8gci84aj', 'dvonwiv3l1', 'fuso', 'yamashiro', 'naval', '1999', 'cachet', 'aq5zlim7l4', 'fvr9jdq71a', 'qxxn6rksp6', 'b3x1wqzaor', '4y4ytwhd74', 'chevrolet', 'pickup', 'obky8pc89h', 'dxirntdsrd', 'glendale', 'trafficalert', '210', 'citrus', 'azusa', 'motorcycles', 'involved', 'lanes', 'basketball', 'burberryant', 'faction', 'ypbvs1ijya', '9dflv6ynqr', 'ûïlittle', 'testimonials', 'muanfwcrw9', 'voltaire', 'zyssobxntc', 'gloucester', 'capeann', 'seagulls', 'triciaoneill', 'triciaoneillphoto', 'ols6qdi9um', 'greenville', 'uu64wfg17m', 'summons', 'damages', 'pokemon', 'gxgm1t3w0j', 'elation', 'pumxlvlsgm', 'papcrdoll', 's2g', 'deactivate', 'recap', '6jzcedayrg', 'winnipeg', 'witnesses', 'n2bcf4m64v', 'slopeofhope', 'dilute', 'bridgetown', 'superintende', 'wdueaj8q4j', 'overåêhostages', 'carvv6gsrb', 'lan76zqkxg', 'albuquerque', 'kristenkoin6', 'cooler', 'pdx', 'abq', 'bcuz', 'dances', 'coasts', 'sorrows', 'jarmusch', 'vampires', '81hvv3n3rs', 'smells', 'teamhennessy', 'tprimo24', 'djeddygnj', 'colombian', 'festival', 'mrv54fidfn', 'mello', 'projeavg8t', '3p', 'xqrlewia4x', '6fynermusg', 'argentaelite', 'cagov', 'vp', 'misfortunebut', 'nawf', 'poking', 'hurricane_dame', '23km', 'twentynine', 'kf0qybkzol', 'kaylak369', 'pgb2bmcfx8', 'åø', 'eve', 'jon', 'honored', 'crippling', 'tepco', 'integrative', '7y2gnva2ev', 'mustachemurse', 'dateswhitecoats', 'pulled', 'mocked', 'nissannews', 'hospitalized', 'a1a', 'bing', '9dwyjqvfy4', 'd1ff3r3nt1sg00d', 'riceechrispies', 'committed', 'cubze5mizm', 'kessler', 'exponential', 'proliferation', 'satellites', 'gravitymovie', 'worldwideweb', 'vox99fwkcx', 'breathing', 'stationcdrkelly', 'sys', 'clergyforced', 'grossly', 'disfigured', 'roaming', 'nzifztcugl', 'tadhgtgmtel', 'zero', 'branco', 'uavfrtlfs4', '85g1pcccxg', 'fatally', '8acdf4zui6', 'adventuring', 'infinitegrace7', 'mmxi', 'granted', 'whatever', '0tslqjokvh', 'theadvocatemag', 'art_brut_', 'brut', 'stunckle', 'gordon_r74', 'crazydoctorlady', 'raw', 'uranium', 'rods', 'creatures', 'argue', 'xppqnyhiwc', 'greensboro', 'vl5tbr3wbr', 'suggs', 'vivian', 'psychrewatch', '0x8jaqtowm', 'm1rosi2wcs', '709', 'lover', 'drama', 'caserta', 'roma', 'allocating', 'veneto', 'w3esx6ud8t', 'theyre', 'eyesss', 'manitoba', 'jlput7va3s', 'occupy', 'txrswi0efg', 'patio', 'table', 'umbrella', 'flipped', 'suspense', 'ls', 'barely', 'grade', 'rlpttkbg4w', 'ozk1qhjvfh', 'eddyville', '97343', 'slows', 'p0gos5urxg', 'katunews', 'oak', 'hk9yf72ova', 'southdowns', 'treeporn', 'consequences', 'k0qtl8aodh', 'zqbxe7x9y7', 'insanelimits', 'plugin', 'enabled', 'tps', 'tdm', '400t', 'limits', 'mba', 'careen', 'eovm', 'e0pi0c54ff', 'truly_stings', 'dm', 'duckvillelol', 'flips', 'grabs', '03l7nwqdje', 'y518jyrzav', 'niiiice', 'chorley', 'lancashire', 'fylde', 'preston', 'iconic', 'disappearing', 'skyline', 'pdkhbdg9ho', 'hometown', 'bsrerjby0i', 'hiroshima70', 'karnythia', 'niece', 'gaining', 'alarms', 'retiredfilth', 'unreal', 'pawsox', '9ckgggyvou', 'u0vdbrxfia', 'oblivion', 'hairdryer', '2ppzgpxybi', 'ds9khkffwc', 'david5fernandez', 'theblaze', 'hector', 'bellerin', 'questioning', 'regarding', 'ecmj18azai', 'perished', 'holodomor', 'erected', 'dj1lwznieh', 'i9mxxkzhbl', 'hardstyle', 'messy', 'alien', 'mixify', 'm203ul6o7p', 'begging', 'rodkiai', 'dil', 'dead_dreamer15', 'adventures', 'mineness', 'spymiqnecj', 'quarrels', 'dlvzaay7qr', 'litter', 'gdrssjbh8q', '55436', '1950', 'locomotives', 'magne', 'traction', 'instructions', 'xezbs3sq0y', 'c2x0qokgly', 'jvai5vkmsy', 'sportinggoods', 'nr8jjmpmos', 'kisumu', 'loner', 'diaries', 'patterns', 'twos', 'choked', 'ekfaz6wvbz', 'revel', 'wmv', 'farewell', 'gtxrwm', 'piper', 'curda', 'gansey', 'busting', 'brick', 'walls', 'lamsdzkcuz', 'shield', 'frkodestuk', 'qwrrfdgxcc', 'sstj2bepqn', 'cecilthelion', 'postponed', 'fnmje8gf7m', 'nye8ae2ifr', 'lurking', 'assume', 'airplaneåê', 'wq3wjsgphl', 'holmgren', 'lou', 'robertbenglund', 'i405', 'us101', 'con', 'unkn', 'js9ehp88wq', 'b24fowler', 'daewony0406', 'exhausted', 'fprt7nwrot', 'hurricanes', 'terrified', 'shanaynay', 'atljw', 'cnnbrk', 'polit', 'aspect', 'however', 'icrc', 'bkh7z6cwwl', 'heavydirtysoul', 'roppongi', 'minato', 'thatpersianguy', 'youngsafe', 'harden', 'flopping', 'identical', 'strutting', 'bg', 'soulja', 'chappaqua', 'redlands', 'fe9hivfmxq', 'q8ivrzojzv', 'moscow_ghost', 'sayed_ridha', 'amin_akh', 'congratulations', 'capturing', 'besieged', 'indiscriminate', 'contemplating', 'logic', 'courage', 'engage', 'gnynjhne6j', '1funemes7m', 'fqsk7qcawo', 'mbataweel', 'binladen', 'zct5cchoj0', 'kabarmesir', 'badr58', 'rabaa', 'observed', 'rememberrabaa', 'thu', 'gmt', '0000', 'millcityio', '20150613', 'theramin', 'devybnvxgq', 'todayng', 'bruv', 'ego', 'dqsvyusy', 'brant', 'drummond', 'eudwnfyuem', 'fgdeh56plo', 'sisterhood', 'rosemarytravale', 'screwed', 'vampiro', 'commercial', 'ultimalucha', 'luchaunderground', 'kot9zvd2h7', 'irishtimesworld', 'illnesses', '1uo1atrbbj', 'crazyindapeg', 'vets78734', 'understandable', 'k_matako_bot', 'helens', '2xmdidgpnr', 'jlabuz', 'k44tl3rfmy', 'ipt0honoti', 'pleasure', 'huzzah', 'molly_the_tanz', 'vermilion', '83bmprwh7w', 'eeasterling_2', 'ny3l1orzqb', 'liveleak', 'alfapedia', 'biolab', 'specimens', 'facilities', 'dumbfounded', 'rujv4vpnbv', 'ih0awv3l1o', 'domination', 'pounds', 'bruise', 'chest', 'cries', 'dundalk', 'askcharley', 'awxr24zsqh', 'o9a26fn27y', 'f2tqmfh1yb', 'cher', 'lloyd', 'brighton', 'hove', 'reacts', 'i6zqlk2puz', 'sxmlg3xdvx', 'ltmgdp6jaf', 'ryleedowns02', 'nevaehburton33', 'roi2nsmejj', '3tj8zjin21', 'yduixefipe', 'lxtjc87kls', '707762', '014213', 'aannnnd', 'p1jlurgwbu', 'apwxs5mm44', 'ds76lozlsu', 'otsm38xmas', 'ramp', 'abandonedpics', 'abbandoned', 'nor', 'darsena', 'castello', 'scaligero', 'sirmione', 'confirmation', 'carmqivkwu', 'jtw', 'ceiao1texr', 'workplace', 'perspectives', 'writings', 'contributions', 'fmu0fnumxf', 'aggryhvxkr', 'earl', 'a5gnzbusqq', 'sow', 'ixw2cutk1c', 'aubilenon', 'markkriegsman', 'carolinagutierr', 'anonchimp', 'tie', 'gameday', 'stacdemon', 'mullin', 'nmrvthkvah', 'sjubb', 'formed', 'sirtophamhat', 'scynic1', 'nafeezahmed', 'jeremyduns', 'ryanoss123', 'hitters', 'pitchers', '223347', '80', '827834', 'pft', 'barkevious', 'mingo', 'browns', 'd7m9kgmpji', 'preschool', 'hunger', 'calestous', 'tanzania', 'census', '8zy9n6fx9t', 'itz9masbvz', 'grrrr', 'vfbbchwrfd', 'wveo9ed10e', 'thorium', 'scandals', 'environmental', 'mly7sdn6ev', 'comings', 'labelled', 'criminal', '37qpssnacv', 'skinny', 'jeans', '92pk0hujd8', 'ecmujkkqx1', 'screamqueens', 'katherine', '5wfxbaqmbk', 'dugout', 'lifelong', 'rfb3jxbiej', 'mumbling', 'cackling', 'wolter', 'peeters', 'gxe7nhwz3e', 'srbqlmuwbv', 'cmpostela', 'y2mt6v13e8', 'earthquakes', 'mprnews', 'rhyme', 'tribe', 'titanic', 'chronicillness', 'avoided', 'mylifestory', 'fyjwjdkm5i', 'khq', 'anlhw2izkz', 'iapvtqxlht', 'wamkre6ckd', 'holidays', 'wordk', 'zmne', 'pqrjvgvgxg', 'tbr', 'browsing', 'gr', 'homepage', 'pines', 'scrolling', 'exact', 'laevantine', 'fortunately', 'reworked', 'plumbing', 'glitter', 'pipe', 'pyramidhead76', 'halt', 'hastings', 'checked', 'prone', 'calum36chambers', 'ykelquiban', 'mrmikeeaton', 'muazimus_prime', 'hil', 'wahhabism', 'poconos', 'flaws', 'ztfead8gid', 'okinawa', 'm3', '10km', 'maximum', 'overtime', 'stuck', 'kodak', 'digging', 'metrics', 'penalties', 'pcps', 'physicians', '0w12pwpsfx', 'huffpostcomedy', 'attendees', 'xwvw1sft4i', 'j7hukhwmal', '1eb2dauyfn', 'blanket', 'reafs', 'bluewestlo', '38745', 'upgd2cy9il', 'fuddy', 'authenticating', 'sole', 'mzrhfojt2j', 'condition', 'sb', 'fwy', 'terwilliger', 'pp15000266858', 'pdx911', 'limerick', 'aul', 'excuse', '950xijhnvh', 'conservative', 'shoppe', 'horrors', 'harperanetflixshow', 'elxn42', 'stopharper', '48zg5ynebn', 'kalinandmyles', 'kalinwhite', 'hackers', 'givebackkalinwhiteaccount', 'blizzard_fans', 'lucio', 'overwatch', 'mcdonalds', 'greatbritishbakeoff', 'qu8s89pvvt', 'fphfesemyj', 'nadiad', 'gujarat', 'thankkk', 'soo', 'notificationsu', 'fella', 'parsholics', 'superb', 'jus', 'awesomelove', 'frvrgrateful', 'tumblr', '93dm6gnwwc', 'necro', 'reviews', 'interviews', 'submissions', 'modest', 'sniff', 'sniiiiiiff', 'donny', 'upstairs', 'theevilolives', 'hypo', 'comcastcares', 'happing', 'audreyp77', 'teena_797', 'darryl_brooks', 'elitesportsny', 'lopezandthelion', 'natsnation', 'z2vdgiyowf', 'lzasr05ljo', 'iemxgse2be', 'skq8oucm3r', 'dispatch', 'rutherford', 'brucewillis', 'monkeys', 'auction', 'cxdjapzxmp', 'coated', 'grit', 'hvjmuualxv', 't8nz6h9zz4', 'corleonedaboss', 'significance', 'churubusco', 'roving', 'raccoons', 'toughens', 'slicker', 'ojus08yzrq', 'estellasrevenge', 'swiming', 'auf4j4owj1', 'mis0rjxuir', 'blizzard_draco', 'sparking', 'akxbskdn', 'legionna', 'rsv9atj9vh', 'playingnow', 'bloodbound', 'dly6ruusqk', 'noches', 'bestia', 'alexis_sanchez', 'teammates', 'goodnight', 'gunners', 'uc4j4jhvgr', 'serve', 'nationwide', 'otfw5sekd7', 'dress', 'memes', 'officially', 'ibsvy2r3ph', 'spark', 'vsgqolr32g', 'p7uhcb13qx', 'benignovito', 'libertybell1000', 'hillarymass', 'shells', 'rebooting', 'blowing', 'swells', '60000', '42gw2i2q41', 'casper', 'gbepdi0wzt', 'alexbelloli', 'outlaw', 'orbette', 'directed', 'gjfd85vuf2', 'firefigthers', 'hppld1jhtz', '614817868480726', '195582811791382', 'mothe', 'rteugb5tnv', 'breathe', 'nonucleariran', 'badirandeal', 'jebbush', 'z7phpjtqud', '1km', 'nne', 'geysers', 'x6el3ysycn', 'nas3ipm5vh', 'incognito', 'enders', 'mgs2', 'd_pagexxi', 'ps2', 'hangout', 'qkahxwlwxa', 'hurricane_dolce', 'prob', 'meets', 'youd', 'bo3', 'malik', 'perrie', 'edwards', 'engagement', 'gedoxsppl9', 'aczruorytd', 'wmmkirj0hw', 'darrylb1979', '2017', '2019', 'anarchic_teapot', 'boironusa', 'zeno001', 'glononium', '6c', 'bashing', 'nitroglycerin', 'narendramodi', 'bjpsamvad', 'qn4zyisspo', '3vwp7wd56w', 'meekmill', 'trollingtilmeekdiss', 'nv3uxv9imx', 'ej30ihrea9', 'innovation', 'gadgets', 'sxqtyduvul', 'jhscgda2g8', 'treescape', 'ransomware', 'locked', 'wilson', 'aqbljcomln', 'killa', 'ljmgdpdlvs', 'monkey', 'ninja', 'commence', 'colon', 'horiikawa', 'prove', 'begun', 'tren', 'vhcxtvcinr', 'phnotf', 'cheekiness', 'bleeds', 'recoil', 'paqanences', 'baseballquotes1', 'inch', 'dynasty', 'owje3i6ygn', 'silverhusky', 'shtap', 'salted', 't_t', 'laying', 'dubloadz', 'droppd', 'meelllttting', 'vxsqpfe9na', '4fxfllrien', 'i12nlsr8fk', '2099', 'dwarfonjetpack', 'spell', 'properly', 'tmgcgart', 'romeocrow', 'organizing', 'important', 'ks111', 'nxleiijfgs', 'xsgwm5zxpd', 'leesburg', 'wolforth', 'fourth', 'altamonte', 'wps', 'gamertag', 'bexrayandvav', 'haydnexists', 'ona', '02elqlopfk', 'tvd', 'provokes', 'fjeafgbzfj', 'bang_me_up_guk', 'ojyw7jkuh5', 'catskills', 'ny35', 'bobcats', 'backyards', 'tmzxopvs94', 'w192wkog1m', 'vivid', 'triad', 'jmu5uyamdu', 'freddie', 'sippin', 'senatemajldr', 'catalogue', 'hazelannmac', 'ooh', 'guilty', 'hatman', 'delicious', 'freefromwolves', 'danny', 'uea0txrhys', 'hawaiianpaddlesports', 'lgpgajgomy', 'fkd1mbtb68', 'xwms1aww8m', 'te2yerugsi', 'roles', 'ximpnczxth', 'rudd', 'emile', 'hirsch', 'gordon', 'filmmakers', 'e4qonkzndz', 'entretenimento', 'agony', '1500', 'wrightsboro', 'dduxthvvnr', 'barcousky', 'pb', 'dhgavw8bsw', '0lmheaex9k', 'lexington', 'fuerk0gwui', 'mv7ggglmvc', 'expo', '14th', 'keith', 'yh4r7ug21a', '141', 'rfjzexqgxt', 'wqgsmioimx', 'ibaraki', 'prefecture', 'offing', 'm5', '60km', 'pumpkin', 'carriage', 'lolly_knickers', 'vaginaorcake', 'dirty', 'mi_country_hick', 'pfft', 'bot', 'unhinged', 'machismo', 'bullshit', 'beaverton', 'spreading', 'samel_samel', 'tbstk5vqu0', '3novices', 'renison', '2i4eoggo5j', 'tasmania', 'tem', '7000', '9newsmornings', 'suplex', 'durrellb', 'punishing', 'whitby', 'gigw51izpk', 'relentless', '91å', 'pascoe', 'vale', 'outbound', 'tullamarine', 'citylink', 'moreland', 'mongolia', 'hqdczzdmbn', 'trident', '90225', 'pumper', 'ims', 'ho', 'faqnfupegn', 'mqfofkxtyh', 'veldfest', 'announces', 'refunds', 'pp05etlk7t', '3ol8mhhpma', '71st', 'highland', 'medics', 'kif7m3fqlx', 'oz6vlwwtnr', 'dorling', 'kindersley', 'publishing', 'tj3ltpzfw1', 'originalfunko', 'spencers', 'buddys', 'jssmmlnaq7', 'alabamaquake', 'zm6vczqvwk', 'dknlznom6n', 'versethe', 'mqbyravk6h', '4km', 'interlaken', 'zqrcptlrum', 'rsa', 'baghdad', 'lubrication', 'metrofmtalk', 'rams', 'rammed', 'soldi', 'obsz45ybaj', 'advantages', 'apropos', 'favorable', 'regard', 'pwhvgwax', 't4pv0nroov', 'pseylyzck4', 'bayonets', 'departments', 'randpaul', 'xb8nfxabum', 'evilempire', 'jadehelm15', 'dysfunctional', 'mcconnell', 'judicial', 'nominations', 'govern', 'vt2aky5mgk', 'notorious', 'laboratory', 'dealer', 'peta', 'invest', 'qgqlpmrfjd', 'isnt', 'khsbzkfd6o', 'parade', 'oneheartonemindonecss', 'rhee1975', 'deliciousvomit', 'defeater', 'yeaahh', 'ba4pusvjln', 'bribriony', 'fctrawjcyl', 'ndtv', 'drayesha4', 'indiakomuntorjawabdo', 'wjljq3ya4g', 'demolition_d', 'pleb', 'perthshire', 'aberdeen', 'guelph', 'ucy5fea9yu', 'dnwwo1ybrk', 'warped', 'attila', 'cafetiere', 'grounds', 'crockery', 'ûïstretcher', '7qpg80ud7v', 'fau', 'absolute', 'blackparavde', 'frankie', 'tyleroakley', 'murfreesboro', 'dnj_com', 'postering', 'calgaryfringe', 'mothernature', 'yycfringe', 'killhard', 'bella', 'rosalie', 'sponsorships', 'ajay0snplg', 'slain', 'mexican', 'unknowingly', 'qxhowcv16r', 'breitbartnews', 'islamabad', 'sources', 'persons', 'psn', 'pipbois', 'demetae12', 'iidkc0jsbx', 'najibrazak', 'malaysiaairlines', 'suffield', 'bptmlf4p10', 'dam', 'gms', 'olap', 'micjnpuhg0', 'multidimensional', 'vddi5chktp', 'catwalk', 'gasoline', 'anchors', 'bv', 'publish', 'favor', 'coppednews', 'wx11d69gez', 'freeze', 'fruits', 'veggies', 'met0mtpr3s', 'goulburn', 'bilsen', 'disappeared', 'z99pkjztrp', 'la_siren', 'joining', 'vvorm', 'poffin', 'jimin', '56', '8jvqi9uspl', 'na2ey64vsg', 'mrrobinson', 'thesteveharveyshow', 'vibe', 'abran_caballero', 'adamrubinespn', 'arm', 'overrated', 'gs50ddg1jy', 'lydeard', 'thewesterngaz', 'overwhelming', 'fairly', 'adjusted', 'metrotown', 'maintained', 'apartments', 'burnaby', 'changefortheworse', 'thebriankrause', 'leos', 'metaphorically', 'piperwearsthepants', 'charmed', 'batteries', 'ds', 'tees', 'teesside', 'antpips67', 'johnejefferson', 'obviously', 'live4heed', 'package', 'tours', 'yyeso', 'casper_rmg', '801', 'sl', 'greinke', 'worcester', 'mafireems', 'wmur9', 'qufwxrjiql', 'kcarosawmur', 'secondhand', 'ydgmgbryl2', 'therealrittz', 'galapa', 'atlìántico', 'llegaste', 'bellville', 'cloydrivers', 'tosu', 'championship', 'fonts', 'fewmoretweets', 'neighbors', 'balikesir', 'eskisehir', 'xzfxrglalp', 'feminist', 'fried', 'ravioliåêwith', 'porcini', 'ricotta', 'n6mcpgvwq2', 's8oinfgxyx', 'warming', 'foliage', 'ignited', 'douchebag', 'hiker', 'tafekop', 'matsepe', 'imperialism', 'spins', 'militarism', 'crushes', 'peoples', 'n3vbtc6nca', 'rowysolouisville', 'hxvfmouhdm', 'anew', 'cancers', 'equate', 'kowing', '5lnidvobff', 'beclearoncancer', 'm5djllxozp', 'jcmonkey', 'drothvader', 'cm_nevalistis', 'arachys', 'pieces', '2500', 'function', 'inbetween', 'gangsta', 'icymagistrate', 'ûóher', 'icicle', 'projectiles', 'various', 'miniature', 'rzl', 'atm', 'displaces', '6hkw5qlppt', 'breakth', 'mgyvglenks', '98', '250', '6l', 'v8', 'cudkryuuan', 'dkozymvy5l', 'broseidonrex', 'dapurplesharpie', 'skimmed', 'kamindoz', 'xrdwr8cdvm', 'fxtffl4axy', 'boots', 'filming', 'sonyprousa', 'lumixusa', 'djiglobal', 'profbriancox', '2gljhvead9', 'xiumin', 'nonexistent', 'solos', 'cfe9huqn0h', 'makai', 'daughterofnai', 'tenshi', 'yuki', 'card', 'pocatello', 'cyv2zg935g', 'nagel_ashley', 'vicken52', 'basedlarock', 'goonc1ty', 'moe', 'bouta', '11202', 'flint', 'metropolis', 'highsmith', 'zvobmdxhgp', 'foodborne', 'illness', 'frackfreelancs', 'dears', 'deccgovuk', 'frackfree_eu', 'tarleton_sophie', 'jsccx8k0ja', 'namjoon', 'bye', 'redsoxnation', 'juliechen', 'vanessa', 'liv', 'oliviaapalmerr', 'thatswhatfriendsarefor', 'ed1vpitswy', '6xsbddlziy', 'salvages', 'tomatoes', '7b2wf6ovfk', 'mateo', 'cabrillo', 'magellan', 'mir', 'cameronhigdon34', 'texasss', 'optich3cz', 'askh3cz', 'jealous', 'elgato', 'bday', 'citizen', 'abortion', 'blowjobs', 'cannibalism', 'masturbation', 'holtz', 'quiet', 'phandom', 'tire', 'ph2xli8nve', '22fuxhn7el', 'sbee', 'gilderoy', 'nails', 'thnexicgqe', 'cue', 'throwback', 'wmoyibwec1', 'lucymayofficial', '0rsverlztm', 'acrylic', 'x17fubqbgg', 'campground', 'jbodkm6rbu', 'cameronciletti', 'tigersjostun', 'cutting', 'celebrety', 'yooooooo', 'tux0ypwzur', 'disclos', 'wbi7laq18e', 'patrickjbutler', 'damiengayle', 'closure', 'phh1vmlfoo', 'burbank', 'killings', 'commenters', 'dothraki', 'underestimate', 'susanj357', 'allinwithchris', 'lawfulsurvivor', 'morales', 'andrea', 'jacqui', 'merle', 'custom', 'threatconnect', 'hrl4xnj9k7', 'infosec', 'dfir', 'threatintel', 'sweet2young', 'bites', 'neck', 'specific', 'strategies', 'securing', 'blowout', 'jzwrisxepf', 'r_lauren83199', 'xojademarie124', 'batista', 'lauren', 'ekwtihlwuf', 'webster', 'twpl0nl8cx', 'mogadishu', 'ltf6jl5keu', 'zlq8thctkw', 'mwcnvtcxvu', 'clolmorpld', 'indigo6e', 'carful', 'spotting', 'baggage', 'robin', 'hood', 'although', 'steak', 'pastie', 'industrial', 'negotiating', 'simultaneous', 'acute', '4kbwpcmmbm', 'jim', 'uncertain', '1rreo2jg9u', 'be4', 'sketch', 'startrek', 'tos', 'a2e6dcsk88', 'fixing', 'bd', 'sham', 'stanford', '9eh2lcqkxl', 'blackinamerica', 'growingupblack', 'remote', 'ki9ehjhl8y', 'encaustic', 'cerography', 'byityf', 'i7ap1mes8m', 'kc', 'masses', '2rtq9qmgpb', 'oilandgas', 'ohholj9vev', 'kasich', 'wordldwide', 'cest', 'current', '68', 'fforecast', '61', 'riverroaming', 'tarmineta3', 'mrtophypup', 'drools', 'wrex', 'inkuv5dntx', '1cvegtizog', 'helsinki', 'mpoaefql6k', 'josephjett', 'hbdo22nqpz', 'theblackshag', 'dannyoneil', 'noxious', 'michelleellle', 'euro', 'kgkz50q8tk', 'xv3d9bpjhi', 'guthrie', 'op', 'hcwrk81p71', 'huntington', 'irishirr', 'mchapmanwsaz', 'wsaz_brittany', 'kellyannwx', 'bcfcticketlady', 'mr_aamir_javaid', 'kro', 'pittsboro', 'email', 'quirk', 'hxvihdushp', 'dantmatrafajlo', 'violentfeminazi', 'armenians', 'coreyashe', '876', 'jamrock', 'remodeled', 'pearlharbor', 'biigd1leq3', 'ally', 'skill', 'hired', 'incompetent', 'lewis', 'quotes', 'puente', 'crowned', 'tends', 'buckmasonusa', 'supporter', 'legitimate', 'needing', 'argus_99', 'heidia1438', '1erd2fpryp', 'butterfinger', 'hoods', 'silentmind', '_bookofdaniel', 'fkqjy3ezyg', '50vdq7a1m5', 'qh6oxft9ir', 'notts', 'wonderfully', 'installment', 'ng2x5', 'meme', 'baiting', 'camper', 'foxsportscom', 'zfwmjh6slh', 'abcnews24', 'peterdutton_mp', 'labor', 'dope', 'kjfordays', 'shayoly', 'hogwarts', 'wwexdreamer', 'sheffield', 'rotherham', 'terrific', 'kidding', 'tactful', 'direct', 'premier', 'rzsulzmokx', 'ableg', 'cdnpoli', 'directions', 'cafire', 'c5u9qsysej', 'inverness', 'ezralevant', 'moms', 'freemurphy', 'hitchhiking', 'sorely', 'dreamoforgonon', 'teeess', 'bona', 'fide', 'cislady', 'incidental', 'bi', 'tewkesbury', 'prepares', 'ojhcgzxlst', '3967', 'juanny', 'beisbol', 'sr', 'lgm', 'officialmqm', 'vitì_ria', 'es', 'marshall', 'dambisa', 'moyo', 'prosyn', 'oped', 'gnpstnvi5g', 'cruces', 'neat', 'uaodoquda1', 'achieving', 'deltachildren', 'instaquote', 'quoteoftheday', 'waltdisney', 'blzt5zwose', 'canterbury', 'jaiden', 'establishment', 'donzilla', 'trump2016', 'xvaoqo4egr', 'kaputt21', 'gregory', 'wickett', 'schwarber', 'cervelli', 'puff', 'sarniamakchris', 'hromadske', 'kasiadear33', 'silly', 'bae0ap4g9y', 'clowns', '6hkca1dsna', 'riverside', 'kcrw', '6agmkx2ww4', 'stallion150', 'kbeastx', 'genisys', 'wc', 'os1wjrvx5c', 'weebly', 'hksbmijqz1', 'eaton', 'åá', '10k', 'doningtondash', '11am', 'sept', 'castle', 'donington', 'g1nw99yj8u', '90630', 'jvjalyg2n1', 'qxmweljbc0', 'diageo', 'stresses', 'revolt', 'gfs7usulgq', 'zhejiang', '8picbkdjm0', '945hpa', '45m', 'gust', '60m', 'nbd5ot9iew', 'njaffyjarz', '1xhsuewqn4', 'uppwxda4yd', 'm6lvkxl9ii', 'skyhold', 'fadelurker', 'dalinthanelan', 'camped', 'redcliffe', 'aidan', 'cpt', 'jhb', 'navigate', 'inevitable', 'internal', 'audit', 'je86vetdxh', 'ctafails', '1udz0nvoeh', '40hourfamine', 'bangladesh', 'worldvision', 'xqdvghz8g6', 'eles_kaylee', 'jannellix0', 'puts', 'kiro7seattle', 'elliott', 'r5live', 'discussion', 'sheer', 'herring', 'scraptrident', 'deans', 'itzzkwfhg5', 'stupidity', 'battles', 'committing', '1940', 'angela', 'sanders', 'roundhouse', 'calamity', 'mpp', 'lambasts', 'kanglaonline', 'jp9xyla3c5', 'wee', 'oneborn', 'stormbeard', 'steel_lord', 'judas', 'priest', 'scorpions', 'astonishing', 'gig', 'materialism', 'talkradio', 'sdxzhjco0x', 'raychielovesu', 'lemonade', 'semi', 'paid', 'cydia', 'tweak', 'wkmfdig3nt', 'phillipten', 'deputies', 'dispute', 'oazghozgya', 'gunfail', 'nra', 'bchs', 'lesley_mariiee', 'ngata', 'lions', 'z16dtoqhhg', 'difficulties', 'osteen', 'x36', 'rczalru05o', '36gccapaak', 'nqjzs6wkun', 'cyclone_reizei', 'sama', 'rindou', 'parisian', 'dollars', 'blakeschmidt', 'gbqtc7sp9c', 'stark', 'imsushickoflove', 'alekalicante', 'gauze', 'hxox7o42rq', 'lightseraphs', 'pikachu', 'diretube', 'fightåêterrorism', 'v6ijxccd2i', 'ysxhfwmgod', 'benton', 'x3g2ox6k8r', 'itss_selenaluna', 'uchwtlc9b4zjugh7ydlb55iw', 'nbc', 'reboot', 'bel', 'thruuu', 'vitaly', 'churkin', 'briliantly', 'exposes', 'klimkin', 'mh17', 'tt4kvmvujq', 'shopping', 'l0pmmtzlwp', 'guvtizyche', 'defensenews', 'comus', 'subsd', 'sy2whxt0k5', 'railguns', 't1000s', 'fur', 'xl61', '62', 'badge', '74yfqxvak0', 'kxrehvt6hl', 'billy', 'wrapped', 'msgnndxoek', 'mnl', 'dom', 'tdeqwm8zxn', 'tallahassee', 'bgerljamte', 'spuhuvgasy', 'vaxshill', 'kestuuyc4t', 'pzfbb1p1mj', 'wreak', 'seatbelt', 'njqv45nds2', 'ydjpoph1dw', 'concentration', 'kurds', 'trampling', 'turkmen', 'vandalized', 'diyala', '4izfdyc3cg', 'q6oxzq45ve', 'cdcgov', 'titan', 'reminded', 'freshly', 'coiffed', 'devon', 'minna', 'su', 'kabk3tcjnl', 'stevie', 'epex4axg4b', 'etswuod3om', 'breeder', 'bred', 'dragonvale', 'qgum9xheos', 'yl67dkf4tb', 'strain', '98o2kc3a1z', 'tgdonttkty', 'mugged', 'excuses', 'oman', 'muscat', 'seeb', '43sxg9z6xh', 'tremor', 'dlc', 'leedsrouge', 'ink', '0wratka2jl', 'rkdzb0tgc3', 'nail', 'xzvmzqus0x', 'xomi4zqzgp', '0m1tw3datd', 'mariomaraczi', 'freaked', 'commerce', 'v1sfllowgh', 'counting', 'bene', 'gesserit', 'litany', 'dune', 'atgrannyshouse', 'toocodtodd', 'wyattb23', 'winner', 'jolly_jinu', 'babri', 'todayhave', 'revenge', 'aunt', 'fierce', 'thisisfaz', 'kefxtjtakb', 'mixes', 'byebyesoundcloud', 'misdirection', 'ignite', 'vanishing', 'kurokobot', 'pettyville', 'drying', 'jamshedpur', 'renamed', 'goonda', 'motley', 'hooligans', 'selfavowed', 'crooks', 'determined', 'democracy', 'wrote', 'greatly', 'rfvjh58ef2', 'sj57boksib', '0npzp', 'seanpeconi', 'jason_floyd', 'lynchonsports', 'criscyborg', 'scandal', 'parliamentary', 'expenses', 'subsequent', 'sackings', 'sleeper', 'railing', 'pit', 'ixiybap8qa', 'lynchburg', 'zepzqydby4', 'ûïfor', 'ûïplans', 'prosper', 'cirtvml9vp', 'comdev', 'stations', 'broadcasting', 'programs', 'upcoming', 'iovr4ymlkp', 'uabstephenlong', 'courtlizcamp', 'nifc', 'closures', 'uphill', 'personalize', 'customer', 'nbizatlsmv', 'news786', 'islamist', 'anjem', 'choudary', 'u7bbenxwyk', 'kg5plkedhr', 'wrapup', 'disappoints', 'qeihvn3dnq', 'shire', 'm8', 'jmbvpanxr3', 'cocaine', '125', 'coke', 'hannahkauthor', 'freeamirnow', 'freeallfour', 'gwnlhneku9', 'garrison', 'sector', 'vaca', 'benson', 'clegg', 'maps', 'btdjgwekqx', 'oks', 'ai6kworbbt', 'txlege', 'unsigned', 'qymalttvzp', 'codythompson25', 'lakeeffect', 'twill', 'denim', 'jackets', 'txtpx4umqh', 'moly', 'gilmanrocks7', 'aberdeenshire', '1vi2rnbk2i', 'tdwprvb04y', 'trails', 'roadid', 'hikdc1fm2f', 'compton', 'oversee', 'folk', 'doe', 'lifeaintfairkid', 'brooo', 'gards', 'shelli', 'entitlement', 'bb17', 'goodell', 'brady', 'innocent', 'ucnckrnlow', 'brandonmulcahy', 'fpine', 'tgxutuoyhl', 'dancer', 'attendance', 'gmmbc', 'inspiring', 'tmmorvxswz', 'spacex', 'musk', 'lvizo9cssr', 'strict', 'liability', 'component', '6cz3bohrd4', 'bestie', 'chainsaw', 'exznmxbinj', 'mooseknuckle', 'lolgop', 'fraud', 'vra50', 'pc7s8nxj6q', '9xohmmlmdy', 'tirelessly', 'shops', 'dented', 'deductible', 'wcvb', 'err', '509', 'flour', 'klarajoelsson', 'bummer', 'b2yvlmpepr', 'mackay', 'mmmmmm', 'oooooohhhh', 'oooh', 's61', '231a', 'puncture', 'foreign', 'index', 'initial', 'icd10', 'zmwecbwvao', 'thriving', 'hub', 'ûótech', 'flamethrower', 'dirk_trossen', 'accidentally', 'lighter', 'innsmouth', 'staged', 'locomotive', 'ei9x4h8thm', 'gregorysanders', 'usdot', 'stat', 'lightrail', 'xyiwr9jetl', 'hints', 'snippets', 'apologies', 'u8hsrtrxmm', 'travis', 'eo2f96wxpz', '3sth9lrbun', 'jqxm4gcqz3', 'nh1news', 'yxtzbtvmhm', '7jggqwbv6s', 'na', 'tinixw', 'hoopa', 'berkeley', 'elem', 'pomo', 'dydfvz7amj', 'gofundme', 'nuys', 'fxux987vzx', 'vannuyscouncil', 'exited', 'nxttd9nrux', 'irqj3zkcuz', 'eq', '8km', '3bwwnlsxhb', 'cech', 'keegan', 'enolagay', 'disarmed', 'mins', 'jb25fhke6q', 'cheshire', 'allover', 'supportive', 'economically', '300m', 'lw2fglrgxb', 'hmrt98oydj', 'tdaktglu5p', 'imawesome7986', 'mrvxbzywd4', 'lxmdiseucn', 'yug', '_itzsteven', 'xdojjjj', 'whopper_jr_760', 'starmade', 'stardate', 'planetary', 'i2hhviumtm', 'danielle', 'ou_wbball', 'bestcoast', 'alexjacobsonpfs', 'andre', 'gore', 'lalaloopsy', 'dolls', 'seed', 'sunburst', 'seashore', 'spice', 'nyty7fcqo6', 'hyypspn0yq', 'kajang', 'uitm', 'puncak', 'kettering', 'bailed', 'nite', 'bangor', 'johndcgow', 'xi', 'yahoonewsdigest', 'lasted', 'standstill', 'blevins', 'receives', 'impacting', 'push', 'drvm8isote', 'railways', 'ub1jzskmrc', 'i5k3vjicmg', 'cizjafnm4e', 'gladiator', '860', '757', 'casually', 'jasmine', 'senate', 'legal', '2y5morpugt', 'spilled', 'crude', 'previously', 'wezjqc4cf2', 'contoocook', 'politicians', 'plannedparenthood', 'fooled', 'eqdm2opybg', '1i19cuov7l', 'ruddyyyyyy', 'jamiegriff97', 'jamie', 'vzgslepkkh', 'stavernise', 'repay', 'delivered', 'k4h8cq7puo', 'juan', 'himeruisu', 'ram', 'shove', 'pillows', 'muffle', 'ssssnell', 'shock', 'factor', 'ropes', 'angers', 'shitton', 'exclusively', 'playthrough', 'saskatchewan', 'jamienye', 'coaching', 'defence', 'cursed', 'riders', 'stern', 'yhh7x0maio', '2y9dnp5vtg', '6xul6dcosh', 'lesbians', '66obqmximb', 'boyinahorsemask', 'panda', 'highqualitybird', 'reverse', 'specifically', 'utilized', 'gut', 'deutsch', 'rotten', 'monarchy', 'rjju70rhyu', 'brinco', 'nxkum9h7wd', 'abia', 'inec', 'razedåê', 'ikpeazu', 'apga', 'akzzoe5ce6', 'kotolily_', 'hellotybeeren', 'requiem', 'oliver', 'cplyrewfz3', 'angel_star39', 'illegals', 'protected', 'hustletown', 'tinybaby', 'adultblackmale', 'mattytalks', 'mwednesday', 'xszicdwxq0', 'londonstan', '_keits', 'liva_gotta', 'chain', 'obligatory', 'promised', 'nukes', 'xn09mx6sxy', 'onlinemh370', 'onlinea', 'whistle', 'starter', 'torch', 'knife', '2oroyunym2', 'c9jnxz3dxc', 'texansdc', 'kylekrenek', 'zepp1978', 'frobeus_ns', 'teddy', 'mare', 'olliebailey11', 'havnt', 'discount', 'redesigning', 'itrawcwb', 'eaubonne', 'okamsczbwg', 'jpa6sajfe3', 'mammy', 'hendy_21', 'purdies', 'meereen', 'remembrance', 'ii4ewe1qir', 'h3vusqzyqo', 'kingswinford', 'typing', 'ants', 'notes', 'daviesmutia', 'souls', 'withåêannihilation', 'c1qxjweqqu', 'zhp0sowxry', 'unexplainable', 'childhooddefined', 'flqxd3q5py', 'ashghebranious', 'rights', '60s', 'trans', '610', 'janiethekillr', 'sketchbook', 'biting', 'mask', 'marge', 'eheks', 'ticklemeshawn', 'evebrigid', 'ep03', 'finalise', 'alt', 'electro', 'comingsoon', 'j2bone', 'opener', 'gasping', 'giggling', 'shipsxanchors', 'idek', 'dogger', 'westward', 'regent', 'towing', '8400', 'metre', 'qzlpfhpwdo', 'reviewing', 'commuters', 'ft7orfa52y', 'dv4mmlso1i', 'pandemic', 'nbcvbso9nm', 'rappers', 'pblvpm6c27', 'wesleylowery', 'xe0ee1fzfh', 'ukqybhxmqi', 'idws2zgysa', 'ehgtzhkan4', 'overland', 'cqlm9jojop', 'robertharding', 'repjohnkatko', 'netanyahu', 'argument', 'flush', 'exil1bkzmp', 'ehomn68ojb', 'djjohnblaze', 'shout', 'sothwest', 'harbinger', 'legacyofthesith', 'sagacioussaber', 'lordofbetrayal', 'crescent', 'kaccpk85wf', 'nnixodhigc', 'newser', 'tb8gzembxu', 'portoviejo', 'manabi', 'vcv73buacz', 'pouring', 'coquitlam', 'geqkdao4cv', 'dg0bgzecgm', 'restart', 'dbaujp29ub', 'psychological', 'onpnbx0zex', 'um5icn5et2', 'appy', 'myths', 'obscuring', 'salon', 'dlp8kpkt2k', 'kitana', 'slay', 'ûókody', 'kombatfans33', 'umajwsnluf', '4hcywrwn6l', '2twxz6vxbx', 'clyde', '_asianshawtyy', 'dramaa_llama', 'lilourry', 'stan', 'narry', 'gthddzavhg', 'losangelestimes', 'generous', 'feeds', 'ms8e8mnddb', 'thedailybeast', 'neces', 'tls40nqipn', 'todayngr', 'towns', 'marketforce', 'ûïcat', 'wins', '6f9afql6wp', 'crane', 'demolishes', 'hoisting', 'dyy7ml2nzj', 'p85nwcmkqu', 'band', 'bbcintroducing', 'purpleturtlerdg', 'giantgiantsound', 'ofan6dkoez', 'rdg', 'jasalhad', 'brianboru67', 'jimskiv92', 'hijinks1967', 'kind', 'mega', 'droughts', 'sewing', 'belt', 'jailbreak', '48tpnmbjvg', 'bayonne', 'bugs', 'symbolicjensen', 'ccvcte3lcw', 'martynwaites', 'valentine', 'oompah', 'waits', 'bestfriends', 'yourboy_shawn', 'mxaaaa', 'africans', 'battered', 'uprootin', 'fhvokmphed', 'pz56zjssft', 'kellkane', 'narrowly', 'averted', 'interrupt', 'bernard', 'shaw', 'renovation', 'pq3ipugkuy', 'entrepreneur', 'smallbiz', 'rabidmonkeys1', 'zt5ofbiwtd', 'blizzard_gamin', 'ight', 'badastronomer', 'farther', 'exercise', 'ul5xdblmbk', 'vjhpvlnbaw', 'bb', 'pledge', 'allegiance', 'groningen', 'mxz7yx8ld1', 'shekhargupta', 'mihirssharma', 'realised', 'trp', 'ads', 'mockery', 'emporia', 'royals', 'outs', 'superpower', '2025', 'buchana', 'emtwirknyq', 'm9k08oazve', 'dalkeith', 'edison', 'lightbulb', 'teslas', 'wank', 'easton', 'softball', 'fastpitch', 'sk398', 'ra2majpkq2', 'y7ghhyk05b', 'wolmers', '0ymf6txfch', '3i3d2ngent', 'jamaicaobserver', 'cnewslive', 'jyiekeo2he', 'nashua', 'tradcatknight', 'okanowa', 'mainline', 'andy', 'difference', 'masterchef', 'ûª93', 'yeda', 'yakub', 'mfkqyxd8xg', 'condemn', 'unity', 'hhpvpael4n', 'weeaboos', '4yygb', 'strongest', 'referencereference', 'xekstrin', 'nostrils', 'cried', 'partake', 'o7yyjlukfj', 'rjcaxjp4os', 'creel', 'moron', 'brainless', 'nbc10', 'schoolboy', 'pq0d7mh3qr', 'avoids', 'hlyhdfwsqb', 'gwsnbmmcqf', 'focus', 'waimate', 'a6ro9bmxcy', 'bicep', 'torso', 'jonathanferrell', 'rockford', 'nugget', 'phiddleface', 'naked', 'normally', 'embrace', 'legionnaire', 'cxi82rfifs', 'lyeh', 'ursula', 'drool', 'protoshoggoth', 'emily4everever', 'scheer', 'huebel', 'flsa8mldsn', 'pyrotechnic', 'artwork', 'cai', 'guo', 'qiang', 'explodes', 'blossom', 'orovzfsku2', 'davao', 'importance', 'exits', 'heartbeat', 'familiar', 'kinder', 'gvm70u2bpm', 'dp', 'b00hr', 'reporters', 'arzemsr7fq', 'a6wmbnr51s', 'planeta', 'h2o', 'soultech', '8xixbspot8', 'nhxse3rthx', 'trey', 'songz', 'oblivious', 'aurora', 'gesture', 'o1enhjrkjd', 'q5qcoao8jp', 'choosegod', 'restoringpaths', 'wmutcdg36b', 'rffpqbaz2f', 'missionhills', 'registered', 'z5grlrey6v', 'thinner', 'bnwygx6luh', 'loot', 'ricin', 'cartel', 'marijuana', 'heroine', 'bust', 'bradford', 'weep', 'olnfzb86zb', 'featuring', 'm1xykecrzr', '0mnpcer9no', 'rb2s0jmlej', 'favorited', '9asc1hhfnj', 'malang', 'intervene', 'vitesse', 'supporters', 'clash', 'buildup', 'skvnmtzgeg', 'bandung', '3snyoohseq', 'replacing', 'aimlessly', 'dryer', 'detersion', 'hlg', 'nazis', 'istanbul', 'agalloch', 'blaawhysct', 'ddr0zjxvqn', 'nicoma', 'choctaw', 'ogxsy4gwd1', 'kach', '1994', 'bxgnq57xvb', 'car5qeuvhh', 'lrtu8rwn2f', 'jannet2208', 'concrete', '5uecmcv2pk', 'piveupirky', 'feb', 'poem', 'daubt', 'chubychux', '71vdjhjnwv', 'brochure', 'downside', 'kkdx8zmv4g', '11dvqjvxpo', 'wny', 'firework', 'lr4btvueom', 'cinla1964', 'windowgatribble', 'contrasts', 'foreboding', 'enhanced', 'expansive', 'divisions', 'saturation', 'hue', 'wiltshire', '90s', 'trained', 'urjwsvr311', '7jfreteii4', 'westend', 'puritan', 'dwilliams313', 'ieansquad', 'nu6wrp716d', 'dofrh5yb01', 'ayshbanaysh', 'emotion', 'grapes', 'archipelagowolves', 'nearing', 'extinction', 'protection', 'standforwolves', 'hbwoivjqkd', 'ymcglaun', 'connects', 'i7kztevb2v', 'maharashtra', 'mssq0svnbm', 'charter', 'vrwc', '6siirlnv6z', 'ol', 'haiti', '5cm0lfzhxn', 'jakartapost', 'typewriter', 'gunk', 'fqj0squ3lg', 'mirad', 'c6lgtotvsf', 'evaded', 'csxvwxuz6t', 'slate', 'malistkiss', 'sunnis', 'righteous', 'shias', 'defeats', 'ideals', 'documentary', 'narrated', 'parter', 'm5sbfrrsn7', 'yvo6q6w442', 'bearers', 'yerct4j244', 'idfire', 'cherokee', 'uorxff0nfx', 'rjopjkbydr', 'nufdgw9yev', '2okscwyohc', 'charlieputh', 'vibrates', 'handle', 'pelham', 'microbes', 'zahnewjri8', 'joints', 'eliminate', 'cracking', 'homeimprovement', 'kx8cu4s8t1', 'asgard', 'godof_mischief_', 'loki', 'daggers', 'jammed', 'thigh', 'grabbed', 'sif', 'uncontrollable', 'nathan', 'potentially', 'hmu', 'sequel', 'ralph', 'catalonia', 'imullbvued', 'justin_ling', 'rainbows', 'brandonskeie', 'samsmithworld', 'yetagc2d8a', '100nd', 'zagbmlsf4h', 'hvyxehxbmq', 'zkgqspwyj3', 'gail', 'russell', 'dalroy', '3vfkedgrso', '6m0ynjwbc9', 'devpeace', 'jwxrx1lsqo', 'sdgoutwntb', 'bmwmpoydig', 'lax', 'ceder', 'mclaughlin', 'stateless', 'correcting', 'dvieablofz', 'hendersonville', 'annoucement', '7bevuje5ep', 'risky', 'costly', 'blackfalds', 'pu7c4hhbxj', '1665', 'sailors', 'artillery', 'cartridges', 'r4wgxra59m', '4rtpjrhsqe', 'norfolk', '6x0xhlbxji', 'waited', 'cab', '_301dc', 'cloudy_goldrush', 'buhh', 'x2', 'designed', 'quests', 'qvlxpyyycd', 'um3wtl5r7k', 'arts', '2lqyxzq5dn', 'mic', 'zevan9kjzl', 'uuzfs1l5kt', 'nycha', 'ny1', 'ny1burst', 'w7siidujoh', 'tale', 'pox', 'w2ixt1k0ab', 'infectiousdiseases', 'm4jdzmgjow', 'n0uhasfkbv', 'bleak', 'mmgsyahdzb', 'elecman', 'pompano', 'dries', 'bhp', 'billiton', 'hqod6v6dnc', '73rd', 'goode', 'ski', 'championships', 'pgkbt3mbap', 'mon', 'rp2dxfkhdq', 'akmihlris1', 'chaboyyhd', 'yr67ugesrm', 'dukes', 'undercover', 'sjoeing76t', 'command', 'disappears', 'bhsuxvq6nf', 'benkin97', 'mili_5499', 'probs', 'rebahe', 'zenande_mcfen', 'ndzedze', 'ashes2ashes', 'themaine', 'ifak', 'efak', 'xlfi7ovhfj', 'raq4zpdvke', 'haley_whaley', 'trick', 'ofclans', 'uhxodsc7wi', 'fz8ytwqkwv', 'keli', 'halsey', 'troye', 'collab', 'xxkhjysn0p', 'jevhknjgbx', '2mwc9ywjzy', 'v57nugmgkt', 'dressed', 'afycso', 'allergic', 'vecmsiuuh1', 'sunflower', 'vlnmklwwby', 'p769eo49fj', 'argentings', 'aaaaaaallll', 'cali74142290', 'casewrites', 'taxes', '0802', 'i2el5acrrw', 'grlxurko8d', 'dobzc3pitm', '4e2gjmvrvi', 'conversing', 'janet', 'invincible', 'zntg2wndmj', 'panamìá', 'redeem', 'serene', 'ofentse_tsie', 'insomnia', 'costa', 'urg', 'jlmicj6je5', 'hienshi', 'gbay99', 'wouldnt', 'samihonkonen', 'impressive', 'diplomat', 'v0yrfh9dkc', 'dante', 'exum', 'stem', '8pifutrb5u', 'mofanon', 'retweet', '401', 'aubrey', 'sholt87', 'mtgrotto', 'eco11c', 'carlsbadbugkil1', 'lowered', 'wealthy', '401ks', 'sacrifice', 'bremerton', 'spin', '23rd', 'hampstead', 'kushwush', 'hogging', 'mvsrjd4x3d', 'azl4xydvzk', 'intelligence', 'bhusa', 'brctmnybjy', 'gailsimone', 'iwasdisappointedby', 'telltale', 'thanjavur', 'unharmed', 'denied', 'nationals', 'ex4fnjjl6h', 'zdhwrn6czc', 'beauscoven', 'debbie', 'camarillo', 'organicallyrude', '1rockstar62', 'mattingly', 'bundy', 'mcgwire', 'bushman', 'safari', 'palmer', 'cecil', 'commentes', 'qwiihnmchr', 'perceive', 'faintly', 'sputtering', 'candle', 'vast', 'glacier', 'eternity', 'gyrsi', 'adamnibloe', 'valdes1978', 'forgive', 'testy', 'hatred', 'm2yuxnqlqy', 'v8gkkfmfxt', 'hashtagteaclub', 'pars', 'defender', 'tod', 'ensued', 'singer', 'songwriter', 'weapon_x_music', 'darchambau', 'rationing', 'clnv_', 'xrja0xpl40', 'vegetable', 'sweep', 'psi35au3pc', 'mailonline', 'sweated', 'breakingnewslh', 'bree_mars', 'seventies', 'roguewatson', 'nycdivorcelaw', 'denier', 'algae', 'bloom', 'alska', 'seeweed', 'caribean', 'snowball', 'inhofe', 'seclusion', 'compliance', 'morevoices', 'xdt4vhfn7b', 'ashford', 'kauai', 'pierce', 'veil', 'bracelet', 'wristband', '6qc8whdizy', 'inezzaes5d', 'rawfoodbliss', 'humid', 'forehead', 'flared', 'oli', 'extract', 'tbs', '11000', 'seeds', 'mre', 'dchfpxgy2m', 'ughptzjulk', 'xcgzc45gys', 'lisbon', 'elianaraquel', 'gg', 'wilden', 'idc', 'trashed', 'åêfedex', 'k0y7xfxmxa', 'kijima_matako', 'consumes', 'sparks', 'increasing', 'lswsitnkuk', 'fct', 'fjdm8qhyai', 'sebee', 'harpurhey', '6gldwx71da', 'infantryman', 'experimental', 'tutorials', 'assertative', 'disabledveterans', 'groin', 'thepartyofmeanness', 'gztolll5wo', 'tellyfckngo', 'jaycootchi', 'wit', 'babality', 'lmfaoooo', 'cbsbigbrother', 'turkmenistan', 'activate', 'timey', 'laurenjauregui', 'cityofhummus', 'ilnewsflash', 'diasporas', 'hammock', 'yubkhf9iyh', 'us0qqqhqvj', 'dserialpcilp', 'pci', 'dual', '16550', 'l0b14sj7jb', 'fragrance', 'bathe', 'mìás', 'spit', '6craekc9wb', 'princess', 'reddakushgodd', 'smfh', 'snapharmony', 'ypvvqz8jzt', 'gn', 'yejt18sbm0', 'rcqacn91be', 'njh', 'cth', 'mannequin', 'e14epzhoth', '22a9d5do6q', 'tammy_w1997', 'elijahmallari', 'cnni', 'prisonplanet', 'specialist', 'noting', '0szwlwl9qu', 'fqmyprlg9g', 'bardissimo', 'woodland', 'tryout', 'hs', '6pm', 'tennessees', 'random_tourist', 'rained', 'jackholes', 'statesboro', 'vidalia', 'thatrussianman', 'bptzamjl2k', 'cspanwj', 'heathrow', 'tni92fea3u', 'czbamzq3gl', 'jab541hhk0', 'je6zjwh5ub', 'fdxgmiwaeh', '0xh758onup', 'author_mike', 'amen', 'salvation', 'potter', 'remind', 'vanderbilt', 'ccdx7cglqw', 'cwzhgezaj4', '815', 'itirapina', 'rolandonabeats', 'ellie', 'goulding', 'acesse', 'nosso', 'para', 'ouvir', 'zk69ugxmt8', '4cog0otiwn', '254', 'lfbdhtgqwg', 'ikuggvbyei', 'ruby', 'pours', 'upgrades', 'vulnera', 'au5jwgt0ar', 'huntley', 'yhyy3o609u', 'nankana', 'sahib', 'correspondent', 'electr', 'werk9qibvv', 'ûªarabia', 'aseer', 'pmtqhivsxx', 'y217ceeemd', 'unexercised', 'honda', 'psqd', 'gap', 'shorts', 'ucudwiu3an', '4playthursdays', 'everybody', '1716', 'cq7jj6yjfz', 'waverly', '688', 'y7peto0dx2', 'suruc', 'reached', 'opjwunuvg8', 'oun', 'cancels', 'logan', 'bti8jamfiu', 'mordechai', 'yehuda', 'friedman', 'ramat', 'shemesh', 'camaquì', 'pelotas', 'rinkydnk2', 'zaibatsunews', 'neoprogressive1', 'push2left', 'ecology', 'afghetc', 'humanitarian', 'qfjjdxes7g', 'daniels', 'fz1haej255', 'motivator', 'dumbass', '290', 'reviewers', 'boxset', 'lindsay', 'buroker', '4yu5sy1cui', 'mzmxmyklxv', 'ps4', 'thelegendblue', 'cozmo23', 'ascend', 'values', '10m', 'attained', 'illustrations', 'jurors', '2baxg1wdpp', 'wallahi', 'microchip', 'needle', 'tbh', 'followback', 'ganseyman', 'rt_4_a_mention', 'purchase', 'hyatt', 'aia', 'cote', 'ths9iqswp3', 'huffpostarts', 'jeddah_saudi', 'recent', 'ìü', 'uoozxaus26', 'pw78nbljky', '924', 'hpzhe0cjvf', 'saohvjktqc', 'traitor', 'hopes', '20009', 'morn', 'uhl0akfvsm', 'crazyweather', 'xqbwnlbbiu', 'actionmoviestaughtus', 'mj8rezoxlj', 'ppji1tcnml', 'reaad', 'plsss', '0h7oua1pns', 'duty', 'ghosts', 'campanha', 'roy', 'spx', '171', 'finite', 'mint', 'uhfm1r3tq5', 'qulgakebhb', 'chicagoland', '61st', 'calumet', 'cins', 'tg', 'f496d', 'hp', 'tmr', 'neal', 'rigga', '4virxkgmpc', 'amznfavorites', 'devereaux', 'scifi', 'mw9ambgafq', 'unholy', 'georgous__', 'alternatives', 'demonstration', 'ames', 'sincere', 'nieces', 'megan', 'swanger', 'ruthann', 'mccormick', 'daisy', 'henley', 'dl60ja06tw', 'fwup9yurzy', 'catwoman1775', 'crazier', 'bilingual', 'g5do2x6226', 'sri', 'lanka', 'tfcdronra6', '45cmaqf8ns', 'ormond', 'tackettdc', '2jr3yo55dr', 'p1wmkxa9d8', 'gobsmacked', 'wwfacu6nft', 'harrybecareful', 'jedi', 'droid', 'hasbro', 'yi30zgizsw', '2jgvhw7yzs', 'lorr', 'mfjxh4p51u', 'naaa', 'j4fsdpfa63', 'praise', 'ministry', 'wdyouth', 'biblestudy', 'ujk0e5gbcc', 'doors', 'feelingmanly', 'gc', '9newsbrisbane', '9newsgoldcoast', 'kd3qsakbi5', 'n6rbnhmtd4', 'sinkingshipindy', 'scarlet', 'lenore', 'saison', 'stonebrewingco', '9y0paj8sxd', 'tribune', 'oldjsowky5', 'vjgr6liaxh', '55jr66plov', 'k2bzuatuks', 'arin', 'gummy', 'grumpout', 'fcqmkffflw', 'vayaymbngu', 'setting4success', 'smallbusiness', 'marbella', 'gam7otgisw', 'allowing', 'saltillo', 'coahuila', 'zaragoza', 'corona', 'affair', 'grew', 'hrqcjdovjz', 'maricopa', 'startide', 'hotter', '1023', 'enormous', 'v8aftd9zez', 'warra', 'deniseromano', 'kc5kh', 'cbs', 'derivatives', 'quadrillion', 'ghmmuj7gbe', 'u9lvvlzhye', 'lyj57pq3yx', 'stillness', 'aspects', 'weigh', 'kisses', 'enemity', 'bishopfred', 'beconfident', 'weaknesses', '5b7qt2yxda', 'dylanmcclure55', 'zumiez', 'zw5jp46v5k', '2b', 'hindhede', 'persistent', 'fastings', 'forth', 'wox3vprixq', 'apologise', 'sincerely', 'grudges', 'unfollow', 'baking', 'langata', '22pm', 'rln09wke9g', 'sunbury', 'assassinkpg', 'commercials', 'frankly', 'reshape', 'mineral', 'crystal', 'tezltqeyw2', 'waterfront', 'kamon', 'devon_breneman', 'heated', 'sheff', 'salamanca', 'vixmeldrew', '92101', 'u52rw9ji2r', 'gx75w3q9ye', 'cultsierre', 'muf5czqjrl', 'sslt8esmhy', '20dncthr4d', '1970s', 'piracy', 'slavery', 'purely', 'historical', 'occur', 'medals', '1890', 'uilpg8i1ev', 'm9pxto2kww', '100000', 'annihilate', '828', '864', '803', '_dangdaddy', 'qaqqrjv9gu', 'hensley', 'sr14', 'brush', '1700', 'qposkp3mwj', 'liveonk2', 'mtqjsvupwy', 'sequwmvfx4', 'hav', 'sht', 'item', 'phantasmal', 'cummerbund', 'qrhjei7grq', 'trost', 'crimsonfuckingv', 'bitchl0vecannon', 'seras', 'sasha', 'peice', 'sidewalk', 'goooooooo', 'fz5ew4ihmb', 'thedoolinggroup', 'slams', 'bordento', 'yqhfio9xqm', 'malabamiandsons', 'jqso4fyzp4', 'f4xnplio5s', 'junko', 'lspnycvolo', 'nh5pkfbfqm', 'creeping', 'inflicted', 'derma', 'brackets', 'vz640xoswj', 'm2hpnoak8b', 'bairstow', 'buffet', 'lad', 'nicolaclements4', 'covering', 'scabs', 'parker', 'sheet', '208', '267', '6773', 'ezeisasm0c', 'bombardment', 'epcotexplorer', 'ransacked', 'awesomeeeeeeee', 'syd', 'bankstown', 'wattle', 'tzyhdbw9f5', '9nly2tovud', 'eyecuts', 'erasuterism', 'gal', 'deco', 'trickier', 'splash', 'principles', 'practices', '4ssuyhkgrb', 'tderbtgz2k', '119000', '966', 'eu8jypizsd', 'v5ogr3f5n9', '501', 'mandem', 'totteham', 'maddddd', 'ting', 'dere', 'nopower', 'ribbon', 'pa5sslefec', 'offtrackhorse', 'thrissur', 'ûïairplane', '6ffylajwps', 'lansdale', 'simpson', 'uyyyrkd6q3', 'signing', 'nffc', 'wesley', 'verhoek', 'household', 'tpanic', 'mulberry', 'antony', '279', '00end', 'ftm4rkl8mn', 'eeenice221', 'swayoung01', 'recognised', 'droughtmonitor', 'moderate', 'contig', '80m', 'ybe9jqoznr', '328szfletz', 'woodcreek', 'roseville', 'holdin', 'byproduct', 'czwjw4uv7i', 'numa', 'casa', 'iiii', 'riveeeeeer', 'nap', 'dustpiggies', 'awash', 'abstract', 'dustpig', 'explains', 'gloucestershire', 'flowri', 'marinading', 'rangerkaitimay', 'yiayplan', 'amiibos', '660', 'kfbjvjivqb', 'bn7xpzqdm0', 'kpqk0c4g0m', 'xwn7rgvkzc', 'swpdq84boi', 'december', 'dismissed', 'rape', 'raped', 'occupational', 'correlate', 'marketwatch', 'mvrsyu2ppk', 'grange', 'filter', 'offsite', 'heartless', 'whipped', 'njrjxqbjr4', 'fleetwood', 'q99', '724gq5ebqz', 'h01j9pirie', 'sherwood', 'madonnamking', 'density', 'biztip', 'alternative', 'blunts', 'sniping', 'b231ul1o1k', 'lumbar', 'lavapixcom', 'meteoearth', 'mfckpvzfv8', 'lgrocbxpqo', 'tarp', 'outfield', 'infield', 'trends', 'sjh0hsrp4s', 'mattcohen4fake', 'gamma', 'january', 'dec', 'dywwnbbyvj', 'h20', 'deploy', 'investigate', 'mueller', 'nov', 'pe2d3hcsni', 'graveyard', 'rapid', 'affecting', 'sturgis', 'kotaweather', '1epiyenqyl', 'khulna', '3enyndxppm', 'gqpi7jmkan', 'sharethis', 'someplace', 'paulista', 'alliston', 'scottdpierce', 'billharris_tv', 'harrisgle', 'beezersun', 'forfeiting', 'oz1ds3xu0d', 'lcnw4ead8v', 'delaware', 'landfall', 'yvafi3zujx', 'trillrebel_', 'warriorcord', '550', 'paracord', '5040', 'strand', 'eejrmktj0r', 'pekanbaruå', 'batam', 'islandå', 'medan', '1979', 'yopeypjkb2', 'meyerbjoern', 'thelonevirologi', 'mackayim', 'newspaper', 'reputation', 'prestige', 'prosser', 'h09nydbzov', 'gaotrg4mtr', 'whippenz', 'pspm3ahgkq', 'markoturner', 'annaciclismo', '5kfovovjso', 'pharrell', 'vhrlswvzql', 'coach_keith44', 'hannomottola', 'trpreston01', 'mlrydalch', 'n3ow73oasw', 'gs9bmplbhh', 'dunmvj7itl', 'rgdrjv63hf', 'sunset', '17egmlni80', 'nz7ackrrji', 'tnwx', 'wsjthinktank', 'colleenmnelson', 'xyxtuaczvb', 'teemo', 'tytpbc4gwi', 'qhwe5k7xuw', 'nigeltanner1', 'newly', 'maple', 'offended', 'transgendered', 'viterbo', 'bfa', 'skh', 'ashton5sos', 'luke5sos', 'journey', 'cows', 'insults', 'devote', 'pride', 'fold', 'reprocussions', 'retroactive', 'zsnsar1tw1', 'lsmx2vwr3j', 'warri', '6nqru2q5tz', 'bartholomew', '3460', 'limestone', 'col', 'yellowstone', 'fieldstone', '499212', '153', '011072', 'marcoarment', 'toes', 'sessions', 'klitschko', 'jszzqst3xs', '10news', 'paug7a68i0', 'alumrgl40e', '8h2kctfb8i', 'device', 'atåêcinema', '5ng0fzpvds', 'darlington', 'rant', '8000', 'theconspiracytheory', 'newep', 'imaginedragoner', 'rheinbach', 'orchid', 'witch', 'ytkxwpyihg', 'jzgxwrgfqg', 'lucas', 'duda', 'ghost', 'nic', 'badass', '4m5uheyfdo', 'phantrash', 'passed', 'middlesbrough', 'snapchatselfie', 'wrongperson', 'apd', 'qyccvuubkr', 'emmychappy', 'chakra', 'rioters', 'byj5dfa2rv', 'pwwpum6rbj', 'yspon4d6qo', 'dreieich', 'dw_english', 'cubc0nq6fd', 'ufo4ublogeurope', 'kilkenny', '1pxpoqktjo', 'cbps1gskvo', 'catfish', 'retweeted', 'guy_reginald', '7aze4iogme', 'assessment', 'optimization', 'routing', 'sustainable', 'literarycakes', 'x5yeuylt1x', '2ugrmd1z1n', 'rhode', 'wpri', 'modernize', 'ap9jbrpmqg', 'manavadar', 'q9lxo4qkji', 'mmklapx2ok', 'lp', 'x5xumtoeke', 'monitoring', 'ybyp68ievn', 'bhramabull', 'jewels', 'socially', 'duo', 'ld5p1sia2n', '2006', 'gid6jqn8ug', 'scored', '111020', 'squeaky', 'skull', 'aetgbxm1pl', 'obedience', 'osjurfddkt', 'silverman', 'sarahksilverman', 'soundtrack', 'tracey', 'ullman', 'bgaj2oax1p', '2500fps', 'intentions', 'gastric', 'carcinoma', 'fragile', 'gene', '45twhj0l6m', 'romanatwoodvlogs', 'vbffodtp6m', 'beluga', 'seaworld', 'opseaworld', 'mzk5ujlfcv', 'ub3woz2ut1', '0yl3yt4ylh', 'drained', 'zboyer', 'washingtontimes', 'kai', 'forbath', 'goal', 'attraction', 'oven', 'employee', 'paperwork', 'hr', 'hronlinetweets', 'simplify', 'staffing', 'fedporn', 'absurd', 'satire', 'indistinguishable', 'baku', 'erzurum', 'arkmc7vcln', 'ina', 'buted', 'truths', 'fayetteville', 'overcharging', 'rent', 'arnd', 'hyuk', 'joonma_', 'dealbreaker', 'ûïnews', '17th', 'mazing', 'ficd5qbqwl', 'avi', 'header', 'pqslug4jk5', 'mages', 'fairy', 'tail', 'specialize', 'natsu', 'dragneel', 'beautiful_juic1', 'tkyonly1fmk', 'refrigerator', 'deadgirltalking', 'unfortunemelody', 'jaylenejoybeligan', 'tarynel', 'dredougie', 'santanico', 'pvkgo79jni', 'aest', 'wifi', 'hotspot', 'perform', 'shakeology', 'protein', 'shake', 'apod4eivba', 'oc73x', 'nu0d3uannz', 'funkylilshack', 'mariaf30', 'slapping', 'showdown', 'qvc', 'adventure', 'professionally', 'unsensibly', 'outrun', 'nljvp3vfyz', 'fiya', 'ttb9oil8r2', 'topstories', 'timesofindia', 'slatina', 'jk7npdpwro', 'cole', 'earthling', '6xysdn2xz0', 'mjbiuvbmo6', 'i5cdtd8ftj', 'algtcn8baf', 'sugar', 'bz07c9wthx', 'ijournal', 'garner', 'asae15', 'exhibitor', 'r8ceprqxle', 'assnchat', 'assembly', 'petereallen', 'huffpostuk', 'bbc5live', 'substantial', 'outnumbering', 'licenses', 'fir', 'fp64yosjwx', 'rd10ex6hvt', 'hazmat', '87efcbiczm', 'k8bexkgwr2', 'uqva3dfbca', '1yixfg1hdy', 'techfish', 'stretched', 'igz7v24ge9', 'm75dnf2xyg', 'ixfne5jlep', 'calhoun', 'nrc', 'pztbqimpuw', 'eileenmfl', 'delphi', 'as10004', 'lmrkgporcf', '6wadnmstov', 'keepthefaith', 'uplfsqmr0c', 'leonalewis', 'essenceofme', 'meadow', 'foto', 'ûïlove', 't5agps7t2b', 'divided', 'lyrics', 'advances', 'treasure', 'outbreed', 'akx', 'flyest', 'hippie', 'bitches', 'corpus', 'christi', 'zdpa4dbtsu', 'kwajalein', 'dmassa5', 'definite', 'crown', 'aarhus', 'jutland', '2liwkjybe9', 'norge2040', 'wk', 'seward', 'bypass', 'seattledot', 'seattletimes', 'ldgwsyowss', 'cnyvvy4wat', 'madisonpa_', 'wrongdejavu', 'gidi', 'iuh718kcy0', '9pqyx4xool', '0fs9ksv5xk', 'i580', 'flynn', 'onr', 'in8lys7v5l', 'studies', 'calabria', 'malta', 'hmrtqeykyi', 'rbbnjkoqud', 'reactors', 'hrc3oxquik', 'wnptvbm5t7', 'stormtrooper', 'engaged', 'somme', '800', 'yxvmiflvc4', 'fla', '3ife1zsop7', 'staining', 'budmke3nnf', 'decisionsondecisions', 'aiginsurance', 'divestitures', 'temper', 'q2', '2y2wzk1frm', 'pc8bvuflfj', 'magnetic', 'electrostatic', 'fusion', 'em5opytbpg', 'medic914', 'aace_org', 'standardised', 'clinical', 'nervana_1', 'per', 'behaviour', 'aq', 'pleasantly', 'div', 'fought', 'astros', 'stunningly', 'pitcher', 'bats', 'mia', 'hoe', 'eggalie', 'kawartha', 'canad', 'varagesale', 'candace_dx', 'kelly', 'osbourne', 'remark', 'latinos', '7nagdsadwp', 'leelanau', 'extended', 'oskfyj8ck7', 'besafe', 'chips', 'snacks', 'redbull', 'snack', 'u3wao8asfg', 'hc6hzs4wsi', 'methods', 'touching', 'obtaing', 'rank', 'transcription', 'butiqob', 'tulsa', '0keh2treny', 'tattooed', 'funnynews', 'lci3pljx25', 'fascinating', 'propaganda', 'e2dbcpwd9u', 'tailor', 'kay', 'robbed', 'lestah', 'pnaqxprweg', 'parksboardfacts', 'zippoline', 'moveit', 'motordom', 'lobbied', 'visionzero', 'cavb7pgepv', 'joboozoso', 'usat', 'usatoday_nfl', 'dgkmueoaxz', 'cgfzk8ha1r', 'cactus', 'borderlands', 'borderlands2', 'oocvg', 'ftw', 'jungle', 'qp6q8rs8on', 'owpd7vcfs6', 'harshness', 'pacing', 'prontouo91', 'hatzolah', 'sek6mq6njf', 'johngreen', 'robthier_en', 'pakpattan', 'frpbnhvpyi', 'ik4len', 'jasmines', 'littlewomenla', 'wema', '7k5shaiqiw', 'famineåêmemories', 'sgecnkfthu', 'booze', 'minhazmerchant', 'offshoot', 'etitgpsrun', 'vinustrip', 'ej2ghnafhy', 'killafornia', 'repatriating', 'wvvgmeja7l', 'hannah', 'regalo', 'knives', 'ojoubot', 'untmdoutdoors', 'frustration', '0853', 'odmx36wdhm', 'gaheujruju', 'dyannbridges', 'yeshayad', 'ipgmf4ttdx', 'rqu5ub8plf', 'slosheriff', 'gate', 'buff', 'magnitude', 'av2jsjfftc', 'anyways', 'zdtcw9fsx1', 'haveli', 'salmanmydarling', 'dub', 'f5miuhqaby', 'imhfdaowrd', '4ftzjk94dt', 'cimahi', 'imawvmzs3a', 'movietheatre', '615', 'jrgj17oamt', 'reach', 'verdict', 'mitigating', 'factors', '75vlsw85gi', 'txy3us2ejs', '3u6mdlk7di', 'ewa', 'anthxvy', 'cufi', 'jews', 'convert', '4arwwrzpsr', 'mkjq9yfmp8', 'haircuts', 'minimal', 'wine', 'infographic', 'uvaojzcycz', 'groceries', 'aching', 'runkeeper', 'loseit', 'bedding', 'bundle', 'sticker', 'decals', 'ykuauov9jo', 'ogun', 'smugglers', 'customs', 'shootoutåê', 'allegedly', 'puxbc2loyk', 'sandy', 'hook', 'elementary', 'lwlexxjus8', 'martyrs', 'nux5xfpv2d', 'spså', 'lgpne5hkao', 'afssgpnzwi', 'cherry', 'outfit', 'ootd', 'doubleghats', 'jsuhupz6vp', 'n5vrffrbo3', 'hellfire_ev', 'jackperu1', 'havenford', 'nicole', 'fletcher', 'tennoatax', 'tenno', 'dojo', 'uchicago', 'faculty', 'pushing', 'overturn', 'protesters', 'ta1yqclpsc', 'xtohi1hexy', 'polmont', 'cain', 'taller', 'reveillertm', 'macabrelolita', 'amino', 'acids', 'diobzghfju', 'summon', 'directly', '704', 'goofy', 'ja', 'developer', 'hld5xlywbn', 'pvc', '7l9qazljvg', 'q0hsyfrwec', 'durand', 'achievement', 'replaced', 'socket', 'waddesdon', 'arrives', 'nosvu0zx4x', 'sittway', '5mjzjnkpfn', '3hoikdmocb', 'jhaustin', 'stw3pg3t0o', 'childfund', 'pqhq4jnztt', 'fx0w2sq05f', 'careemergencies', 'appeals', 'faulty', 'cdxe5vmzoj', '250000', 'lxjjgyv86a', 'u9x3perxco', 'fireball', 'nicolekidman', 'oprah', 'grubbing', 'kikes', 'cluei', 'telekinesis', 'pixelsmovie', 'lvbuw01yoh', 'northland', 'uprooting', 'enrpgrgtts', 'censor', 'pg4y3i5ciu', 'groupon_uk', 'thoroughly', 'brutality', 'nvr', 'mistreated', 'patra', 'abuses', 'tydxauuenq', 'i_amtalia', 'sgc72', 'opportunity', 'nonprofit', 'h1xch54kd3', 'filled', 'simmons', 'camden', 'handsome', '4jno677zkv', 'silent0siris', 'norse', 'landscapes', 'loads', 'snotgreen', 'wastelands', 'willow', 'glen', 'trestle', 't4axz7kc3s', 'gan14pw9tg', 'bioter', '5n4husewly', 'mmiye1k8zz', 'torry', 'alvarez', 'te', 'amo', 'docker', 'container', 'fblnifda1c', 'karijobe', 'tambourine', 'codycarnes', 'ag_usa', 'listings', '547', 'dorrie', 'caruana', 'nf46paytvw', 'conklin', 'shuffled', '67tjn9egyk', 'gyh00mrkjm', 'augusta', 'hxtupra5bc', 'dqxkjibbky', '3ln8trhw6x', 'hgf52611', 'robbie', 'redsox', 'guayaquil', 'a3dsmbqkwu', 'pornhub', 'gghfx8pzmh', 'marrakech', 'dina', 'tensift', 'haouz', 'nasasolarsystem', '2lbtshxi3c', '0jmkdtcymj', 'ems1', 'emts', 'minimum', 'wage', '4oa6swlxmr', 'paramedics', 'liable', 'zipped', 'beauce', 'zwvyisyp2b', '8c3fploxcr', 'cbgz9xun2k', 'bets', 'boylesports', 'casino', 'zildpvknxp', '5ydb4s13pf', 'gia', 'kardashianempire', 'carajdeievingnc', 'ratio', 'js', 'oyogii97yh', 'jasminehuerta24', 'blah', 'etyzy8gb2a', 'maxi', 'erws6ieldg', '631838', '79', '55807', 'addresses', 'veld', 'refund', 'vku3rtoz1j', 'trc', 'torontorc', 'thehammers_', 'tonycottee1986', 'alsowhat', 'bilic', 'slated', 'themhe', 'carmen', 'lsqe7nu6kl', 'dn5buo7gsk', 'bgytmqj3oo', 'rm6cnzkszl', 'nypdnews', 'ihhrkg4v1s', 'aryu5qngjj', 'louavul', 'bbshelli', 'engineshed', 'omnbatjeao', 'auezxza5ak', 'b0zwi0qptu', 'pratt', 'wye', 'scratching', 'pedals', 'bowery', 'mesgcngaz0', 'onfireanders', '_dmerida', 'nataly', 'cheer', 'poconorecord', 'emergencymgtmag', 'households', '7zlsumiess', 'tdcch01n7q', 'yg32yb2jdy', 'chann', 'spa', 'ex6jzqj3ni', 'quoted', 'purported', 'swvuzxi6gt', 'xrp0rtkffj', 'volleyball', 'dcdecfv934', 'dwbc1duvdk', 'kesabaran', 'membuahkan', 'hasil', 'indah', 'pada', 'saat', 'tepat', 'connection', 'income', 'policies', 'buckley', 'babmf0w2yw', 'eganator2000', 'bills', 'omron', 'hem', '712c', 'monitor', 'cuffs', 'gjbainqwn9', 'jphgpl1c5x', 'developing', 'symptoms', 'rqkk15uhey', 'stamford', 'shropshire', 'easlgea1b7'])"
     },
     "execution_count": 78,
     "metadata": {},
     "output_type": "execute_result"
    }
   ],
   "source": [
    "cnt_vec.vocabulary_.keys() #посмотрим на слова, используемые в текстах"
   ],
   "metadata": {
    "collapsed": false
   }
  },
  {
   "cell_type": "code",
   "execution_count": 79,
   "outputs": [
    {
     "data": {
      "text/plain": "18455"
     },
     "execution_count": 79,
     "metadata": {},
     "output_type": "execute_result"
    }
   ],
   "source": [
    "len(cnt_vec.vocabulary_.keys()) #количество встречаемых слов"
   ],
   "metadata": {
    "collapsed": false
   }
  },
  {
   "cell_type": "code",
   "execution_count": 80,
   "outputs": [
    {
     "data": {
      "text/plain": "array([[0, 0, 0, ..., 0, 0, 0],\n       [0, 0, 0, ..., 0, 0, 0],\n       [0, 0, 0, ..., 0, 0, 0],\n       ...,\n       [0, 0, 0, ..., 0, 0, 0],\n       [0, 0, 0, ..., 0, 0, 0],\n       [0, 0, 0, ..., 0, 0, 0]], dtype=int64)"
     },
     "execution_count": 80,
     "metadata": {},
     "output_type": "execute_result"
    }
   ],
   "source": [
    "X.toarray()"
   ],
   "metadata": {
    "collapsed": false
   }
  },
  {
   "cell_type": "code",
   "execution_count": 81,
   "outputs": [
    {
     "data": {
      "text/plain": "(5329, 18455)"
     },
     "execution_count": 81,
     "metadata": {},
     "output_type": "execute_result"
    }
   ],
   "source": [
    "X.toarray().shape"
   ],
   "metadata": {
    "collapsed": false
   }
  },
  {
   "cell_type": "code",
   "execution_count": 82,
   "outputs": [
    {
     "data": {
      "text/plain": "(5329, 2)"
     },
     "execution_count": 82,
     "metadata": {},
     "output_type": "execute_result"
    }
   ],
   "source": [
    "train_new.shape"
   ],
   "metadata": {
    "collapsed": false
   }
  },
  {
   "cell_type": "markdown",
   "source": [
    "Мы получили матрицу размером (5329, 18455). Действительно, всего 5239 объектов в train (то есть текстов) и 18455 слов, встречаемых в них. Матрица очень большая. Стоит попробовать применить лемматизацию,убрать стоп-слова для уменьшения ее размеров."
   ],
   "metadata": {
    "collapsed": false
   }
  },
  {
   "cell_type": "markdown",
   "metadata": {
    "id": "A4waLlnC3HvM"
   },
   "source": [
    "\n",
    "## Задание 5 (1 балл)\n",
    "\n",
    "В предыдущем пункте у вас должна была получиться достаточно большая матрица.\n",
    "Если вы взгляните на текст, то увидете, что там есть множество специальных символов, ссылок и прочего мусора.\n",
    "\n",
    "Давайте также посмотрим на словарь, который получился в результате построения CountVectorizer, его можно найти в поле vocabulary_ инстанса этого класса. Давайте напишем функцию, которая печает ответы на следующие вопросы:\n",
    "\n",
    "1. Найдите в этом словаре все слова, которые содержат цифры. Сколько таких слов нашлось?\n",
    "\n",
    "2. Найдите все слова, которые содержат символы пунктуации. Сколько таких слов нашлось? \n",
    "\n",
    "3. Сколько хэштегов (токен начинается на #) и упоминаний (токен начинается на @) осталось в словаре?"
   ]
  },
  {
   "cell_type": "code",
   "execution_count": 83,
   "outputs": [],
   "source": [
    "import re\n",
    "from string import punctuation"
   ],
   "metadata": {
    "collapsed": false
   }
  },
  {
   "cell_type": "code",
   "source": [
    "def contains_digit(s: str) -> bool:\n",
    "    # Проверка, содержит ли слово цифры\n",
    "    return bool(re.search(r'[0-9]', s))\n",
    "\n",
    "def contains_punctuation(s: str) -> bool:\n",
    "    # Проверка, содержит ли слово пунктуацию\n",
    "    return any(x in punctuation for x in s)\n",
    "\n",
    "def is_hashtag(s: str) -> bool:\n",
    "    # Проверка, является ли слово хэштегом\n",
    "    return s.startswith('#')\n",
    "\n",
    "def is_mention(s: str) -> bool:\n",
    "    # Проверка, является ли слово упоминанием\n",
    "    return s.startswith('@')\n",
    "\n",
    "def investigate_vocabulary(vocabulary):\n",
    "    # -- YOUR CODE HERE --\n",
    "    print('With digit:      ', len({k:v for k, v in vocabulary.items() if contains_digit(k)})\n",
    "          )\n",
    "    print('With punctuation:', len({k:v for k, v in vocabulary.items() if contains_punctuation(k)})\n",
    "          )\n",
    "    print('Hashtags:        ', len({k:v for k, v in vocabulary.items() if is_hashtag(k)})\n",
    "          )\n",
    "    print('Mentions:        ', len({k:v for k, v in vocabulary.items() if is_mention(k)})\n",
    "          )\n",
    "\n",
    "\n"
   ],
   "metadata": {
    "id": "7PhQSWqcHhU8"
   },
   "execution_count": 84,
   "outputs": []
  },
  {
   "cell_type": "code",
   "source": [
    "dummy_vocab = {'th1nk' : 0,\n",
    "               'think333' : 1,\n",
    "               'think.' : 2,\n",
    "               'th!nk' : 3,\n",
    "               'th...nk' : 4,\n",
    "               '#think' : 5,\n",
    "               '@think' : 6,\n",
    "               '@thinking':7,\n",
    "               '@nothink' : 8,\n",
    "               'think' : 9}\n",
    "investigate_vocabulary(dummy_vocab)"
   ],
   "metadata": {
    "colab": {
     "base_uri": "https://localhost:8080/"
    },
    "id": "s8hL5ZcQIdp6",
    "outputId": "c8b50455-38f2-455d-c9f6-96b03a7e09ce"
   },
   "execution_count": 85,
   "outputs": [
    {
     "name": "stdout",
     "output_type": "stream",
     "text": [
      "With digit:       2\n",
      "With punctuation: 7\n",
      "Hashtags:         1\n",
      "Mentions:         3\n"
     ]
    }
   ]
  },
  {
   "cell_type": "code",
   "source": [
    "investigate_vocabulary(cnt_vec.vocabulary_)"
   ],
   "metadata": {
    "id": "VpW8R_SuKR_l"
   },
   "execution_count": 86,
   "outputs": [
    {
     "name": "stdout",
     "output_type": "stream",
     "text": [
      "With digit:       3812\n",
      "With punctuation: 315\n",
      "Hashtags:         0\n",
      "Mentions:         0\n"
     ]
    }
   ]
  },
  {
   "cell_type": "markdown",
   "source": [
    "Таким образом, мы видим, что CountVectorizer убирает хэштеги и упоминания автоматически, а именно для нашего датасета они могут иметь большое значение при предсказаниях."
   ],
   "metadata": {
    "collapsed": false
   }
  },
  {
   "cell_type": "markdown",
   "metadata": {
    "id": "bfNLaxX93HvM"
   },
   "source": [
    "## Задание 6 (0.5 балла)\n",
    "\n",
    "Вспомним, что на семинаре по текстам мы узнали, что в nltk есть специальный токенизатор для текстов - TweetTokenizer. Попробуем применить CountVectorizer с этим токенизатором. Ответьте на все вопросы из предыдущего пункта для TweetTokenizer и сравните результаты."
   ]
  },
  {
   "cell_type": "code",
   "execution_count": 87,
   "metadata": {
    "id": "xnlRoXUS3HvM"
   },
   "outputs": [],
   "source": [
    "from nltk.tokenize import TweetTokenizer\n",
    "# Чтобы узнать, какие параметры есть у этого токенайзера - используйте help(TweetTokenizer)\n",
    "# Для того, чтобы передать токенайзер в CountVectorizer используйте параметр tokenizer"
   ]
  },
  {
   "cell_type": "code",
   "source": [
    "help(TweetTokenizer)"
   ],
   "metadata": {
    "id": "8lPMIf6UKccT"
   },
   "execution_count": 88,
   "outputs": [
    {
     "name": "stdout",
     "output_type": "stream",
     "text": [
      "Help on class TweetTokenizer in module nltk.tokenize.casual:\n",
      "\n",
      "class TweetTokenizer(builtins.object)\n",
      " |  TweetTokenizer(preserve_case=True, reduce_len=False, strip_handles=False, match_phone_numbers=True)\n",
      " |  \n",
      " |  Tokenizer for tweets.\n",
      " |  \n",
      " |      >>> from nltk.tokenize import TweetTokenizer\n",
      " |      >>> tknzr = TweetTokenizer()\n",
      " |      >>> s0 = \"This is a cooool #dummysmiley: :-) :-P <3 and some arrows < > -> <--\"\n",
      " |      >>> tknzr.tokenize(s0)\n",
      " |      ['This', 'is', 'a', 'cooool', '#dummysmiley', ':', ':-)', ':-P', '<3'\n",
      " |      , 'and', 'some', 'arrows', '<', '>', '->', '<--']\n",
      " |  \n",
      " |  Examples using `strip_handles` and `reduce_len parameters`:\n",
      " |  \n",
      " |      >>> tknzr = TweetTokenizer(strip_handles=True, reduce_len=True)\n",
      " |      >>> s1 = '@remy: This is waaaaayyyy too much for you!!!!!!'\n",
      " |      >>> tknzr.tokenize(s1)\n",
      " |      [':', 'This', 'is', 'waaayyy', 'too', 'much', 'for', 'you', '!', '!', '!']\n",
      " |  \n",
      " |  Methods defined here:\n",
      " |  \n",
      " |  __init__(self, preserve_case=True, reduce_len=False, strip_handles=False, match_phone_numbers=True)\n",
      " |      Create a `TweetTokenizer` instance with settings for use in the `tokenize` method.\n",
      " |      \n",
      " |      :param preserve_case: Flag indicating whether to preserve the casing (capitalisation)\n",
      " |          of text used in the `tokenize` method. Defaults to True.\n",
      " |      :type preserve_case: bool\n",
      " |      :param reduce_len: Flag indicating whether to replace repeated character sequences\n",
      " |          of length 3 or greater with sequences of length 3. Defaults to False.\n",
      " |      :type reduce_len: bool\n",
      " |      :param strip_handles: Flag indicating whether to remove Twitter handles of text used\n",
      " |          in the `tokenize` method. Defaults to False.\n",
      " |      :type strip_handles: bool\n",
      " |      :param match_phone_numbers: Flag indicating whether the `tokenize` method should look\n",
      " |          for phone numbers. Defaults to True.\n",
      " |      :type match_phone_numbers: bool\n",
      " |  \n",
      " |  tokenize(self, text: str) -> List[str]\n",
      " |      Tokenize the input text.\n",
      " |      \n",
      " |      :param text: str\n",
      " |      :rtype: list(str)\n",
      " |      :return: a tokenized list of strings; joining this list returns        the original string if `preserve_case=False`.\n",
      " |  \n",
      " |  ----------------------------------------------------------------------\n",
      " |  Readonly properties defined here:\n",
      " |  \n",
      " |  PHONE_WORD_RE\n",
      " |      Secondary core TweetTokenizer regex\n",
      " |  \n",
      " |  WORD_RE\n",
      " |      Core TweetTokenizer regex\n",
      " |  \n",
      " |  ----------------------------------------------------------------------\n",
      " |  Data descriptors defined here:\n",
      " |  \n",
      " |  __dict__\n",
      " |      dictionary for instance variables (if defined)\n",
      " |  \n",
      " |  __weakref__\n",
      " |      list of weak references to the object (if defined)\n",
      "\n"
     ]
    }
   ]
  },
  {
   "cell_type": "code",
   "execution_count": 89,
   "outputs": [
    {
     "name": "stderr",
     "output_type": "stream",
     "text": [
      "D:\\programs\\anaconda3\\anaconda3\\lib\\site-packages\\sklearn\\feature_extraction\\text.py:528: UserWarning: The parameter 'token_pattern' will not be used since 'tokenizer' is not None'\n",
      "  warnings.warn(\n"
     ]
    },
    {
     "data": {
      "text/plain": "(5329, 19670)"
     },
     "execution_count": 89,
     "metadata": {},
     "output_type": "execute_result"
    }
   ],
   "source": [
    "cnt_tweet = CountVectorizer(tokenizer=TweetTokenizer().tokenize)\n",
    "X_tweet = cnt_tweet.fit_transform(train_new['text'])\n",
    "X_tweet.shape\n",
    "#b = vec.fit_transform(t for t in texts_tokenized)"
   ],
   "metadata": {
    "collapsed": false
   }
  },
  {
   "cell_type": "markdown",
   "source": [
    "Видим,что количество слов увеличилось."
   ],
   "metadata": {
    "collapsed": false
   }
  },
  {
   "cell_type": "code",
   "source": [
    "investigate_vocabulary(cnt_tweet.vocabulary_\n",
    "                       )"
   ],
   "metadata": {
    "id": "7oR5kNKVLLpm"
   },
   "execution_count": 90,
   "outputs": [
    {
     "name": "stdout",
     "output_type": "stream",
     "text": [
      "With digit:       3939\n",
      "With punctuation: 7338\n",
      "Hashtags:         1470\n",
      "Mentions:         1679\n"
     ]
    }
   ]
  },
  {
   "cell_type": "markdown",
   "source": [
    "**Сравнение:** Таким образом, токенизатор, стоящий по умолчанию в CountVectorizer, выдает меньший словарь, не воспринимает хэштеги, упоминания, в отличие от TweetTokenizer. Для обработки  наших данных определенно лучше подойдет TweetTokenizer, поскольку хэштеги, упоминания, смайлики могут имет значительный вес."
   ],
   "metadata": {
    "id": "Wetr80-ILULV"
   }
  },
  {
   "cell_type": "markdown",
   "metadata": {
    "id": "6_k_-i1x3HvM"
   },
   "source": [
    "## Задание 7 (2 балла)\n",
    "\n",
    "В scikit-learn мы можем оценивать процесс подсчета матрицы через CountVectorizer. У CountVectorizer, как и у других наследников \\_VectorizerMixin, есть аргумент tokenizer и preprocessor. preprocessor применится в самом начале к каждой строке вашего датасета, tokenizer же должен принять строку и вернуть токены.\n",
    "Давайте напишем кастомный токенайзер, которые сделает все, что нам нужно: \n",
    "\n",
    "0. Приведет все буквы к нижнему регистру\n",
    "1. Разобьет текст на токены с помощью TweetTokenizer из пакета nltk\n",
    "2. Удалит все токены содержащие не латинские буквы, кроме смайликов (будем считать ими токены содержащие только пунктуацию и, как минимум, одну скобочку) и хэштегов, которые после начальной # содержат только латинские буквы.\n",
    "3. Удалит все токены, которые перечислены в nltk.corpus.stopwords.words('english')\n",
    "4. Проведет стемминг с помощью SnowballStemmer\n",
    "\n"
   ]
  },
  {
   "cell_type": "code",
   "execution_count": 91,
   "outputs": [],
   "source": [
    "from nltk.corpus import stopwords\n",
    "from nltk.stem.snowball import SnowballStemmer"
   ],
   "metadata": {
    "collapsed": false
   }
  },
  {
   "cell_type": "code",
   "source": [
    "def contains_only_latin_letters(s: str) -> bool:\n",
    "    # Проверка, содержит ли слово только латинские буквы\n",
    "    return not bool(re.search(r'[^a-zA-Z]', s))\n",
    "\n",
    "def is_emoji(s: str) -> bool:\n",
    "    # Проверка, является ли слово смайликом\n",
    "    return (all(x in punctuation for x in s) and any([j in ['(', ')', '[', ']', ] for j in s]))\n",
    "\n",
    "def is_hashtag(s: str) -> bool:\n",
    "    # Проверка, является ли слово хэштегом\n",
    "    return (s.startswith('#') and contains_only_latin_letters(s[1:]))\n",
    "\n",
    "def custom_tokenizer(s: str) -> List[str]:    \n",
    "    # Кастомный токенайзер\n",
    "    s = s.lower() #0\n",
    "    tokenised_s = TweetTokenizer().tokenize(s) #1\n",
    "    cleaned_s = list(filter(lambda i: (contains_only_latin_letters(i) or is_emoji(i) or is_hashtag(i)), tokenised_s)) #2\n",
    "    cleaned_s = [x for x in cleaned_s if x not in stopwords.words('english')] #3\n",
    "    stemmer = SnowballStemmer(\"english\") # из материалов семинара 11\n",
    "    text_stemmed = [stemmer.stem(w) for w in cleaned_s] #4\n",
    "    return text_stemmed"
   ],
   "metadata": {
    "id": "qhwmi7DEMD25"
   },
   "execution_count": 92,
   "outputs": []
  },
  {
   "cell_type": "code",
   "source": [
    "custom_tokenizer('She LOVES painting :-) #art')"
   ],
   "metadata": {
    "colab": {
     "base_uri": "https://localhost:8080/"
    },
    "id": "vYzPZzf8O6vj",
    "outputId": "b1107f8a-eef7-49f7-8ed3-910be791d645"
   },
   "execution_count": 93,
   "outputs": [
    {
     "data": {
      "text/plain": "['love', 'paint', ':-)', '#art']"
     },
     "execution_count": 93,
     "metadata": {},
     "output_type": "execute_result"
    }
   ]
  },
  {
   "cell_type": "markdown",
   "source": [
    "Продемонстрируйте работу вашей функции на первых десяти текстах в обучающей выборке."
   ],
   "metadata": {
    "id": "2S_-ThAf5It4"
   }
  },
  {
   "cell_type": "code",
   "source": [
    "# -- YOUR CODE HERE --\n",
    "for i in train_new.text[:10]:\n",
    "    print(custom_tokenizer(i))\n",
    "    print(i, '\\n')"
   ],
   "metadata": {
    "id": "A1fh3_itPz7D"
   },
   "execution_count": 94,
   "outputs": [
    {
     "name": "stdout",
     "output_type": "stream",
     "text": [
      "['bridg', 'ash', 'australia', 'collaps', 'trent', 'bridg', 'among', 'worst', 'histori', 'england', 'bundl', 'australia']\n",
      "bridge%20collapse  Ashes 2015: AustraliaÛªs collapse at Trent Bridge among worst in history: England bundled out Australia for 60 ... http://t.co/t5TrhjUAU0 \n",
      "\n",
      "['hail', 'carol', 'stream', 'illinoi', 'great', 'michigan', 'techniqu', 'camp', 'thank', '#goblu', '#wrestleon']\n",
      "hail Carol Stream, Illinois GREAT MICHIGAN TECHNIQUE CAMP\n",
      "B1G THANKS TO @bmurph1019 \n",
      "@hail_Youtsey . @termn8r13 \n",
      "#GoBlue #WrestleOn http://t.co/OasKgki6Qj \n",
      "\n",
      "['polic', 'houston', 'cnn', 'tennesse', 'movi', 'theater', 'shoot', 'suspect', 'kill', 'polic']\n",
      "police Houston  CNN: Tennessee movie theater shooting suspect killed by police http://t.co/dI8ElZsWNR \n",
      "\n",
      "['riot', 'still', 'riot', 'coupl', 'hour', 'left', 'class']\n",
      "rioting  Still rioting in a couple of hours left until I have to be up for class. \n",
      "\n",
      "['wound', 'lake', 'highland', 'crack', 'path', 'wipe', 'morn', 'beach', 'run', 'surfac', 'wound', 'left', 'elbow', 'right', 'knee']\n",
      "wounds Lake Highlands Crack in the path where I wiped out this morning during beach run. Surface wounds on left elbow and right knee. http://t.co/yaqRSximph \n",
      "\n",
      "['airplan', 'somewher', 'expert', 'franc', 'begin', 'examin', 'airplan', 'debri', 'found', 'reunion', 'island', 'french', 'air', 'accid', 'expert', '#mlb']\n",
      "airplane%20accident Somewhere Out There Experts in France begin examining airplane debris found on Reunion Island: French air accident experts on... http://t.co/TagZbcXFj0 #MLB \n",
      "\n",
      "['bloodi', 'isol', 'citi', 'world', 'perth', 'came', 'kill', 'indian', 'fun', 'video', 'smirk', 'remorseless', 'pakistani', 'killer', 'show', 'boast']\n",
      "bloody Isolated City In World Perth 'I came to kill Indians...for FUN': Video of smirking and remorseless Pakistani killer shows him boasting. http://t.co/FPjLwOXKlg \n",
      "\n",
      "['burn', 'except', 'idk', 'realli', 'burn']\n",
      "burning  @JohnsonTionne except idk them?? it's really burning ?????? \n",
      "\n",
      "['destroy', '(', 'ask', ')', 'destroy', 'hous']\n",
      "destroy he/him or she/her (ask) destroy the house \n",
      "\n",
      "['wound', 'maracay', 'nirgua', 'venezuela', 'polic', 'offic', 'wound', 'suspect', 'dead', 'exchang', 'shot']\n",
      "wounded Maracay y Nirgua, Venezuela Police Officer Wounded Suspect Dead After Exchanging Shots http://t.co/XxFk4KHbIw \n",
      "\n"
     ]
    }
   ]
  },
  {
   "cell_type": "markdown",
   "metadata": {
    "id": "a5lNZ4tb3HvN"
   },
   "source": [
    "## Задание 8 (1 балл)\n",
    "\n",
    "1. Примените CountVectorizer с реализованным выше токенизатором к обучающим и тестовым выборкам.\n"
   ]
  },
  {
   "cell_type": "code",
   "source": [
    "vectorizer = CountVectorizer(tokenizer=custom_tokenizer)\n",
    "\n",
    "bow = vectorizer.fit_transform(train_new.text)\n",
    "bow_test = vectorizer.transform(test.text)"
   ],
   "metadata": {
    "id": "LDqixz7QQEbn"
   },
   "execution_count": 95,
   "outputs": []
  },
  {
   "cell_type": "code",
   "execution_count": 96,
   "outputs": [],
   "source": [
    "from sklearn.preprocessing import MaxAbsScaler"
   ],
   "metadata": {
    "collapsed": false
   }
  },
  {
   "cell_type": "code",
   "execution_count": 97,
   "outputs": [],
   "source": [
    "#scaler = MaxAbsScaler()\n",
    "#bow = scaler.fit_transform(bow)\n",
    "#bow_test = scaler.transform(bow_test)"
   ],
   "metadata": {
    "collapsed": false
   }
  },
  {
   "cell_type": "markdown",
   "source": [
    "|2. Обучите LogisticRegression на полученных признаках.\n"
   ],
   "metadata": {
    "id": "YcetwuEi5ds9"
   }
  },
  {
   "cell_type": "code",
   "source": [
    "from sklearn.linear_model import LogisticRegression\n",
    "# -- YOUR CODE HERE --\n",
    "clf = LogisticRegression().fit(bow, train_new.target)"
   ],
   "metadata": {
    "id": "BVj03QV2QbWl"
   },
   "execution_count": 98,
   "outputs": []
  },
  {
   "cell_type": "markdown",
   "source": [
    "3. Посчитайте метрику f1-score на тестовых данных."
   ],
   "metadata": {
    "id": "6Ch6uz2P5e-T"
   }
  },
  {
   "cell_type": "code",
   "source": [
    "from sklearn.metrics import f1_score\n",
    "prediction = clf.predict(bow_test)\n",
    "print('F1-score:', f1_score(test.target, prediction))"
   ],
   "metadata": {
    "colab": {
     "base_uri": "https://localhost:8080/"
    },
    "id": "osyC0pdT3cSD",
    "outputId": "cd957d5f-5118-4b7f-d7ba-01bb5a524086"
   },
   "execution_count": 99,
   "outputs": [
    {
     "name": "stdout",
     "output_type": "stream",
     "text": [
      "F1-score: 0.7526881720430109\n"
     ]
    }
   ]
  },
  {
   "cell_type": "markdown",
   "metadata": {
    "id": "aFIEYOMZ3HvN"
   },
   "source": [
    "## Задание 9 (1 балл)\n",
    "\n",
    "1. Повторите 8 задание, но с tf-idf векторизатором. Как изменилось качество?\n"
   ]
  },
  {
   "cell_type": "code",
   "source": [
    "from sklearn.feature_extraction.text import TfidfVectorizer\n",
    "\n",
    "# 1\n",
    "tfidf_vec = TfidfVectorizer(tokenizer=custom_tokenizer)\n",
    "train_tf = tfidf_vec.fit_transform(train_new.text)\n",
    "test_tf = tfidf_vec.transform(test.text)\n",
    "\n",
    "clf = LogisticRegression().fit(train_tf, train_new.target)\n",
    "print('F1-score for tf-idf:', f1_score(test.target, clf.predict(test_tf)))"
   ],
   "metadata": {
    "colab": {
     "base_uri": "https://localhost:8080/"
    },
    "id": "cDqs61hl3ve3",
    "outputId": "fdd72125-dfde-4183-d614-3b0bc9002ada"
   },
   "execution_count": 100,
   "outputs": [
    {
     "name": "stderr",
     "output_type": "stream",
     "text": [
      "D:\\programs\\anaconda3\\anaconda3\\lib\\site-packages\\sklearn\\feature_extraction\\text.py:528: UserWarning: The parameter 'token_pattern' will not be used since 'tokenizer' is not None'\n",
      "  warnings.warn(\n"
     ]
    },
    {
     "name": "stdout",
     "output_type": "stream",
     "text": [
      "F1-score for tf-idf: 0.7412353923205343\n"
     ]
    }
   ]
  },
  {
   "cell_type": "markdown",
   "source": [
    "1. **Ответ:** Мы видим, что качество на TF-IDF хуже, чем на Bag-of-words. Из семинаров мы узнали, что на малых данных BOW, действительно, работает лучше."
   ],
   "metadata": {
    "id": "SXaNclTZSFjO"
   }
  },
  {
   "cell_type": "markdown",
   "source": [
    "2. Мы можем еще сильнее уменьшить размер нашей матрицы, если отбросим значения df близкие к единице. Скорее всего такие слова не несут много информации о категории, так как встречаются достаточно часто. Ограничьте максимальный df в параметрах TfIdfVectorizer, поставьте верхнюю границу равную 0.9. Как изменился размер матрицы, как изменилось качество?\n"
   ],
   "metadata": {
    "id": "CPtk0lCA5POY"
   }
  },
  {
   "cell_type": "code",
   "source": [
    "# 2\n",
    "# -- YOUR CODE HERE --\n",
    "tfidf_vec1 = TfidfVectorizer(tokenizer=custom_tokenizer, max_df=.9)\n",
    "X_train_tf1 = tfidf_vec1.fit_transform(train_new.text)\n",
    "X_test_tf1 = tfidf_vec1.transform(test.text)\n",
    "\n",
    "clf = LogisticRegression().fit(X_train_tf1, train_new.target)"
   ],
   "metadata": {
    "colab": {
     "base_uri": "https://localhost:8080/"
    },
    "id": "EU-MRXyRSHLm",
    "outputId": "6b5353a8-5f3b-4220-fcd4-64eecfe20054"
   },
   "execution_count": 101,
   "outputs": [
    {
     "name": "stderr",
     "output_type": "stream",
     "text": [
      "D:\\programs\\anaconda3\\anaconda3\\lib\\site-packages\\sklearn\\feature_extraction\\text.py:528: UserWarning: The parameter 'token_pattern' will not be used since 'tokenizer' is not None'\n",
      "  warnings.warn(\n"
     ]
    }
   ]
  },
  {
   "cell_type": "code",
   "source": [
    "# -- YOUR CODE HERE --\n",
    "print('Размер матрицы с исп-ем TF-IDF:', train_tf.toarray().shape)\n",
    "print('Размер матрицы с использованием TF-IDF и порогом .9:', X_train_tf1.toarray().shape)\n",
    "print('F1-score for tf-idf:', f1_score(test.target, clf.predict(X_test_tf1)))"
   ],
   "metadata": {
    "id": "z1TkO9HeSTJ9"
   },
   "execution_count": 102,
   "outputs": [
    {
     "name": "stdout",
     "output_type": "stream",
     "text": [
      "Размер матрицы с исп-ем TF-IDF: (5329, 10484)\n",
      "Размер матрицы с использованием TF-IDF и порогом .9: (5329, 10484)\n",
      "F1-score for tf-idf: 0.7412353923205343\n"
     ]
    }
   ]
  },
  {
   "cell_type": "markdown",
   "source": [
    "2. **Ответ:** Размер матрицы не изменился. Качество тоже осталось прежним. Это означает, что слов, встречаемых в 90% текстов, нет или их очень мало. Это могли бы быть стоп-слова, но мы их убрали."
   ],
   "metadata": {
    "id": "4Two_O3rSVmh"
   }
  },
  {
   "cell_type": "markdown",
   "source": [
    "3. Также мы можем уменьшить размер матрицы, удаляя слова со слишком маленьким df. Удалось ли добиться улучшения качества? "
   ],
   "metadata": {
    "id": "VhyjbI5X5QnG"
   }
  },
  {
   "cell_type": "code",
   "source": [
    "# 3\n",
    "i =.0001\n",
    "tfidf_vec2 = TfidfVectorizer(tokenizer=custom_tokenizer, min_df=i)\n",
    "X_train_tf2 = tfidf_vec2.fit_transform(train_new.text)\n",
    "X_test_tf2 = tfidf_vec2.transform(test.text)\n",
    "\n",
    "scaler = MaxAbsScaler()\n",
    "X_train_tf2 = scaler.fit_transform(X_train_tf2)\n",
    "X_test_tf2 = scaler.transform(X_test_tf2)\n",
    "\n",
    "clf = LogisticRegression().fit(X_train_tf2, train_new.target)\n",
    "\n",
    "print(f'Размер матрицы с использованием TF-IDF и минимальным df = {i}:', X_train_tf2.toarray().shape)\n",
    "print('F1-score for tf-idf:', f1_score(test.target, clf.predict(X_test_tf2)))"
   ],
   "metadata": {
    "colab": {
     "base_uri": "https://localhost:8080/"
    },
    "id": "9mNpIxv6SfKc",
    "outputId": "607ec22e-1fdb-4c29-bbc4-6447ed266349"
   },
   "execution_count": 103,
   "outputs": [
    {
     "name": "stderr",
     "output_type": "stream",
     "text": [
      "D:\\programs\\anaconda3\\anaconda3\\lib\\site-packages\\sklearn\\feature_extraction\\text.py:528: UserWarning: The parameter 'token_pattern' will not be used since 'tokenizer' is not None'\n",
      "  warnings.warn(\n"
     ]
    },
    {
     "name": "stdout",
     "output_type": "stream",
     "text": [
      "Размер матрицы с использованием TF-IDF и минимальным df = 0.0001: (5329, 10484)\n",
      "F1-score for tf-idf: 0.74400871459695\n"
     ]
    }
   ]
  },
  {
   "cell_type": "markdown",
   "source": [
    "3. **Ответ:** Мы рассмотрели различные значения min_df. Удалось уменьшить размер матрицы, а также немного улучшить качество. То есть,мы убрали слова очень редко встречаемые в текстах, а именно с частотой 0.01%."
   ],
   "metadata": {
    "id": "imeD8skxSqdg"
   }
  },
  {
   "cell_type": "markdown",
   "metadata": {
    "id": "1l1sx4nB3HvN"
   },
   "source": [
    "## Задание 10 (1 балл)\n",
    "\n",
    "Еще один популяпный трюк, который позволит уменьшить количество признаков называется hashing trick. Его суть в том, то мы случайно группируем признаки ииии  ..... складываем их! А потом удаляем исходные признаки. В итоге все наши признаки это просто суммы исходных. Звучит странно, но это отлично работает. Давайте проверим этот трюк в нашем сеттинге.\n",
    "Также при таком подходе вам не нужно хранить словарь token->index, что тоже иногда полезно.\n",
    "\n",
    "1. Повторите задание 8 с HashingVectorizer, укажите количество фичей равное 5000.\n"
   ]
  },
  {
   "cell_type": "code",
   "source": [
    "from sklearn.feature_extraction.text import HashingVectorizer\n",
    "hash_vec = HashingVectorizer(tokenizer=custom_tokenizer, n_features=5000)\n",
    "hash = hash_vec.fit_transform(train_new.text)\n",
    "hash_test = hash_vec.transform(test.text)\n",
    "\n",
    "clf = LogisticRegression().fit(hash, train_new.target)"
   ],
   "metadata": {
    "colab": {
     "base_uri": "https://localhost:8080/"
    },
    "id": "8qSoW894RXxz",
    "outputId": "720818f4-f774-4273-bb10-918ecc72ef44"
   },
   "execution_count": 104,
   "outputs": [
    {
     "name": "stderr",
     "output_type": "stream",
     "text": [
      "D:\\programs\\anaconda3\\anaconda3\\lib\\site-packages\\sklearn\\feature_extraction\\text.py:528: UserWarning: The parameter 'token_pattern' will not be used since 'tokenizer' is not None'\n",
      "  warnings.warn(\n"
     ]
    }
   ]
  },
  {
   "cell_type": "code",
   "execution_count": 105,
   "outputs": [
    {
     "name": "stdout",
     "output_type": "stream",
     "text": [
      "Размер матрицы с использованием hashing trick: (5329, 5000)\n",
      "F1-score: 0.7197771587743732\n"
     ]
    }
   ],
   "source": [
    "print(f'Размер матрицы с использованием hashing trick:', hash.toarray().shape)\n",
    "print('F1-score:', f1_score(test.target, clf.predict(hash_test)))"
   ],
   "metadata": {
    "collapsed": false
   }
  },
  {
   "cell_type": "markdown",
   "source": [
    "Качество хуже, чем у tf-idf, но размер матрицы явно меньше с таким способом (5000 - как мы и установили)."
   ],
   "metadata": {
    "collapsed": false
   }
  },
  {
   "cell_type": "markdown",
   "source": [
    "2. Какой из подходов показал самый высокий результат?"
   ],
   "metadata": {
    "id": "1C3I4ceg6AG-"
   }
  },
  {
   "cell_type": "markdown",
   "source": [
    "2. **Ответ:** Самый высокий результат показал BOW."
   ],
   "metadata": {
    "id": "_bIfyVlOS9Lu"
   }
  },
  {
   "cell_type": "markdown",
   "metadata": {
    "id": "zylJ6l0R3HvN"
   },
   "source": [
    "## Задание 11 (1 балл)\n",
    "\n",
    "В этом задании нужно добиться f1 меры хотя в 0.75 на тестовых данных."
   ]
  },
  {
   "cell_type": "markdown",
   "source": [
    "При BOW f1 уже достигло .75 на тестовых данных. Попробуем увеличить его. Будем использовать изученный метод опорных векторов, а также scaler. С svm вероятности предсказываются хуже, определение к классу - лучше, поэтому метрики могут быть лучше."
   ],
   "metadata": {
    "collapsed": false
   }
  },
  {
   "cell_type": "code",
   "source": [
    "# -- YOUR CODE HERE --\n",
    "bow1 = bow\n",
    "\n",
    "scaler = MaxAbsScaler()\n",
    "bow2 = scaler.fit_transform(bow)\n",
    "bow_test2 = scaler.transform(bow_test)\n",
    "\n",
    "from sklearn.svm import SVC\n",
    "svm_rbf = SVC(kernel=\"rbf\", probability=True)\n",
    "svm_rbf.fit(bow, train_new.target)\n",
    "svm_rbf_y_pred = svm_rbf.predict(bow_test)\n",
    "print('F1-score for svm-rbf:', f1_score(test.target, svm_rbf_y_pred))\n",
    "\n",
    "from sklearn.svm import SVC\n",
    "svm_rbf = SVC(kernel=\"rbf\", probability=True)\n",
    "svm_rbf.fit(bow2, train_new.target)\n",
    "svm_rbf_y_pred = svm_rbf.predict(bow_test2)\n",
    "print('F1-score for svm-rbf with scaler:', f1_score(test.target, svm_rbf_y_pred))"
   ],
   "metadata": {
    "id": "GSTVApFeS-OY"
   },
   "execution_count": 106,
   "outputs": [
    {
     "name": "stdout",
     "output_type": "stream",
     "text": [
      "F1-score for svm-rbf: 0.74230330672748\n",
      "F1-score for svm-rbf with scaler: 0.7162567486502699\n"
     ]
    }
   ]
  },
  {
   "cell_type": "code",
   "execution_count": 107,
   "outputs": [
    {
     "name": "stdout",
     "output_type": "stream",
     "text": [
      "F1-score for svm-linear: 0.722457627118644\n",
      "F1-score for svm-linear with scaler: 0.7211538461538461\n"
     ]
    }
   ],
   "source": [
    "svm_lin = SVC(kernel=\"linear\", probability=True)\n",
    "svm_lin.fit(bow, train_new.target)\n",
    "svm_lin_y_pred = svm_lin.predict(bow_test)\n",
    "print('F1-score for svm-linear:', f1_score(test.target, svm_lin_y_pred))\n",
    "\n",
    "svm_lin = SVC(kernel=\"linear\", probability=True)\n",
    "svm_lin.fit(bow2, train_new.target)\n",
    "svm_lin_y_pred = svm_lin.predict(bow_test2)\n",
    "print('F1-score for svm-linear with scaler:', f1_score(test.target, svm_lin_y_pred))"
   ],
   "metadata": {
    "collapsed": false
   }
  },
  {
   "cell_type": "code",
   "execution_count": 108,
   "outputs": [
    {
     "name": "stdout",
     "output_type": "stream",
     "text": [
      "F1-score for svm-sigmoid: 0.7434903047091412\n",
      "F1-score for svm-sigmoid with scaler: 0.7391304347826086\n"
     ]
    }
   ],
   "source": [
    "svm_sigm = SVC(kernel=\"sigmoid\", probability=True)\n",
    "svm_sigm.fit(bow, train_new.target)\n",
    "svm_sigm_y_pred = svm_sigm.predict(bow_test)\n",
    "print('F1-score for svm-sigmoid:', f1_score(test.target, svm_sigm_y_pred))\n",
    "\n",
    "svm_sigm = SVC(kernel=\"sigmoid\", probability=True)\n",
    "svm_sigm.fit(bow2, train_new.target)\n",
    "svm_sigm_y_pred = svm_sigm.predict(bow_test2)\n",
    "print('F1-score for svm-sigmoid with scaler:', f1_score(test.target, svm_sigm_y_pred))"
   ],
   "metadata": {
    "collapsed": false
   }
  },
  {
   "cell_type": "code",
   "execution_count": 109,
   "outputs": [
    {
     "name": "stdout",
     "output_type": "stream",
     "text": [
      "F1-score for knn: 0.578811369509044\n",
      "F1-score for knn with scaler: 0.3299319727891157\n"
     ]
    }
   ],
   "source": [
    "from sklearn.neighbors import KNeighborsClassifier\n",
    "knn = KNeighborsClassifier()\n",
    "knn.fit(bow, train_new.target)\n",
    "knn_y_pred = knn.predict(bow_test)\n",
    "print('F1-score for knn:', f1_score(test.target, knn_y_pred))\n",
    "\n",
    "knn = KNeighborsClassifier()\n",
    "knn.fit(bow2, train_new.target)\n",
    "knn_y_pred = knn.predict(bow_test2)\n",
    "print('F1-score for knn with scaler:', f1_score(test.target, knn_y_pred))"
   ],
   "metadata": {
    "collapsed": false
   }
  },
  {
   "cell_type": "markdown",
   "source": [
    "Таким образом, модель, полученная в задании 8 -лучшая:"
   ],
   "metadata": {
    "collapsed": false
   }
  },
  {
   "cell_type": "code",
   "execution_count": 110,
   "outputs": [
    {
     "name": "stderr",
     "output_type": "stream",
     "text": [
      "D:\\programs\\anaconda3\\anaconda3\\lib\\site-packages\\sklearn\\feature_extraction\\text.py:528: UserWarning: The parameter 'token_pattern' will not be used since 'tokenizer' is not None'\n",
      "  warnings.warn(\n"
     ]
    },
    {
     "name": "stdout",
     "output_type": "stream",
     "text": [
      "best F1-score: 0.7526881720430109\n"
     ]
    }
   ],
   "source": [
    "vectorizer = CountVectorizer(tokenizer=custom_tokenizer)\n",
    "\n",
    "bow = vectorizer.fit_transform(train_new.text)\n",
    "bow_test = vectorizer.transform(test.text)\n",
    "\n",
    "clf = LogisticRegression().fit(bow, train_new.target)\n",
    "\n",
    "prediction = clf.predict(bow_test)\n",
    "print('best F1-score:', f1_score(test.target, prediction))"
   ],
   "metadata": {
    "collapsed": false
   }
  },
  {
   "cell_type": "code",
   "execution_count": 110,
   "outputs": [],
   "source": [],
   "metadata": {
    "collapsed": false
   }
  }
 ],
 "metadata": {
  "kernelspec": {
   "display_name": "Python 3 (ipykernel)",
   "language": "python",
   "name": "python3"
  },
  "language_info": {
   "codemirror_mode": {
    "name": "ipython",
    "version": 3
   },
   "file_extension": ".py",
   "mimetype": "text/x-python",
   "name": "python",
   "nbconvert_exporter": "python",
   "pygments_lexer": "ipython3",
   "version": "3.8.5"
  },
  "colab": {
   "provenance": [],
   "collapsed_sections": [
    "YlLemInT3HvL",
    "A8CPBUal3HvL"
   ]
  }
 },
 "nbformat": 4,
 "nbformat_minor": 0
}
